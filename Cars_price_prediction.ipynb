{
 "cells": [
  {
   "cell_type": "code",
   "execution_count": 77,
   "id": "ea0ad7f3",
   "metadata": {},
   "outputs": [],
   "source": [
    "import numpy as np\n",
    "import pandas as pd\n",
    "import matplotlib.pyplot as plt\n",
    "import seaborn as sns\n",
    "import warnings\n",
    "warnings.filterwarnings('ignore')"
   ]
  },
  {
   "cell_type": "code",
   "execution_count": 78,
   "id": "bec6ac91",
   "metadata": {},
   "outputs": [
    {
     "data": {
      "text/html": [
       "<div>\n",
       "<style scoped>\n",
       "    .dataframe tbody tr th:only-of-type {\n",
       "        vertical-align: middle;\n",
       "    }\n",
       "\n",
       "    .dataframe tbody tr th {\n",
       "        vertical-align: top;\n",
       "    }\n",
       "\n",
       "    .dataframe thead th {\n",
       "        text-align: right;\n",
       "    }\n",
       "</style>\n",
       "<table border=\"1\" class=\"dataframe\">\n",
       "  <thead>\n",
       "    <tr style=\"text-align: right;\">\n",
       "      <th></th>\n",
       "      <th>Unnamed: 0</th>\n",
       "      <th>Brand</th>\n",
       "      <th>Model</th>\n",
       "      <th>Year</th>\n",
       "      <th>Variant</th>\n",
       "      <th>Location</th>\n",
       "      <th>Version</th>\n",
       "      <th>Number of Owners</th>\n",
       "      <th>KmDriven</th>\n",
       "      <th>Price</th>\n",
       "    </tr>\n",
       "  </thead>\n",
       "  <tbody>\n",
       "    <tr>\n",
       "      <th>0</th>\n",
       "      <td>0</td>\n",
       "      <td>Maruti</td>\n",
       "      <td>Swift Dzire</td>\n",
       "      <td>2013</td>\n",
       "      <td>LDI BS IV Manual</td>\n",
       "      <td>New Delhi</td>\n",
       "      <td>Diesel</td>\n",
       "      <td>2nd Owner</td>\n",
       "      <td>49944</td>\n",
       "      <td>303099</td>\n",
       "    </tr>\n",
       "    <tr>\n",
       "      <th>1</th>\n",
       "      <td>1</td>\n",
       "      <td>Maruti</td>\n",
       "      <td>Swift</td>\n",
       "      <td>2012</td>\n",
       "      <td>VDI Manual</td>\n",
       "      <td>New Delhi</td>\n",
       "      <td>Diesel</td>\n",
       "      <td>1st Owner</td>\n",
       "      <td>129639</td>\n",
       "      <td>297999</td>\n",
       "    </tr>\n",
       "    <tr>\n",
       "      <th>2</th>\n",
       "      <td>2</td>\n",
       "      <td>Volkswagen</td>\n",
       "      <td>Vento</td>\n",
       "      <td>2014</td>\n",
       "      <td>HIGHLINE PETROL Manual</td>\n",
       "      <td>New Delhi</td>\n",
       "      <td>Petrol</td>\n",
       "      <td>1st Owner</td>\n",
       "      <td>62625</td>\n",
       "      <td>446899</td>\n",
       "    </tr>\n",
       "    <tr>\n",
       "      <th>3</th>\n",
       "      <td>3</td>\n",
       "      <td>Maruti</td>\n",
       "      <td>Ertiga</td>\n",
       "      <td>2014</td>\n",
       "      <td>VDI ABS Manual</td>\n",
       "      <td>New Delhi</td>\n",
       "      <td>Diesel</td>\n",
       "      <td>1st Owner</td>\n",
       "      <td>64013</td>\n",
       "      <td>491299</td>\n",
       "    </tr>\n",
       "    <tr>\n",
       "      <th>4</th>\n",
       "      <td>4</td>\n",
       "      <td>Maruti</td>\n",
       "      <td>Swift Dzire</td>\n",
       "      <td>2013</td>\n",
       "      <td>VDI BS IV Manual</td>\n",
       "      <td>New Delhi</td>\n",
       "      <td>Diesel</td>\n",
       "      <td>1st Owner</td>\n",
       "      <td>40212</td>\n",
       "      <td>370699</td>\n",
       "    </tr>\n",
       "  </tbody>\n",
       "</table>\n",
       "</div>"
      ],
      "text/plain": [
       "   Unnamed: 0       Brand        Model  Year                 Variant  \\\n",
       "0           0      Maruti  Swift Dzire  2013        LDI BS IV Manual   \n",
       "1           1      Maruti        Swift  2012              VDI Manual   \n",
       "2           2  Volkswagen        Vento  2014  HIGHLINE PETROL Manual   \n",
       "3           3      Maruti       Ertiga  2014          VDI ABS Manual   \n",
       "4           4      Maruti  Swift Dzire  2013        VDI BS IV Manual   \n",
       "\n",
       "    Location Version Number of Owners  KmDriven   Price  \n",
       "0  New Delhi  Diesel        2nd Owner     49944  303099  \n",
       "1  New Delhi  Diesel        1st Owner    129639  297999  \n",
       "2  New Delhi  Petrol        1st Owner     62625  446899  \n",
       "3  New Delhi  Diesel        1st Owner     64013  491299  \n",
       "4  New Delhi  Diesel        1st Owner     40212  370699  "
      ]
     },
     "execution_count": 78,
     "metadata": {},
     "output_type": "execute_result"
    }
   ],
   "source": [
    "#Importing CSV file from the Dataset\n",
    "df=pd.read_csv('Cars24.csv')\n",
    "df.head()"
   ]
  },
  {
   "cell_type": "code",
   "execution_count": 79,
   "id": "f25a33b9",
   "metadata": {},
   "outputs": [],
   "source": [
    "df.drop('Unnamed: 0', axis=1, inplace=True)"
   ]
  },
  {
   "cell_type": "code",
   "execution_count": 80,
   "id": "ebf27b28",
   "metadata": {},
   "outputs": [
    {
     "data": {
      "text/plain": [
       "(183, 9)"
      ]
     },
     "execution_count": 80,
     "metadata": {},
     "output_type": "execute_result"
    }
   ],
   "source": [
    "df.shape"
   ]
  },
  {
   "cell_type": "code",
   "execution_count": 81,
   "id": "e869ce2b",
   "metadata": {},
   "outputs": [
    {
     "name": "stdout",
     "output_type": "stream",
     "text": [
      "<class 'pandas.core.frame.DataFrame'>\n",
      "RangeIndex: 183 entries, 0 to 182\n",
      "Data columns (total 9 columns):\n",
      " #   Column            Non-Null Count  Dtype \n",
      "---  ------            --------------  ----- \n",
      " 0   Brand             183 non-null    object\n",
      " 1   Model             183 non-null    object\n",
      " 2   Year              183 non-null    int64 \n",
      " 3   Variant           183 non-null    object\n",
      " 4   Location          183 non-null    object\n",
      " 5   Version           183 non-null    object\n",
      " 6   Number of Owners  183 non-null    object\n",
      " 7   KmDriven          183 non-null    int64 \n",
      " 8   Price             183 non-null    int64 \n",
      "dtypes: int64(3), object(6)\n",
      "memory usage: 13.0+ KB\n"
     ]
    }
   ],
   "source": [
    "df.info()"
   ]
  },
  {
   "cell_type": "code",
   "execution_count": 82,
   "id": "2aafd8fc",
   "metadata": {},
   "outputs": [
    {
     "data": {
      "text/plain": [
       "Brand               0\n",
       "Model               0\n",
       "Year                0\n",
       "Variant             0\n",
       "Location            0\n",
       "Version             0\n",
       "Number of Owners    0\n",
       "KmDriven            0\n",
       "Price               0\n",
       "dtype: int64"
      ]
     },
     "execution_count": 82,
     "metadata": {},
     "output_type": "execute_result"
    }
   ],
   "source": [
    "df.isnull().sum()"
   ]
  },
  {
   "cell_type": "code",
   "execution_count": 87,
   "id": "8a9a227f",
   "metadata": {},
   "outputs": [],
   "source": [
    "df.replace(',','', regex=True, inplace=True) # Replacing the transmission type from name as we already have it\n",
    "df['Variant'] = df['Variant'].str.replace('Manual', '')\n",
    "df['Variant'] = df['Variant'].str.replace('Automatic', '')"
   ]
  },
  {
   "cell_type": "code",
   "execution_count": 88,
   "id": "ac1806a7",
   "metadata": {},
   "outputs": [
    {
     "data": {
      "text/html": [
       "<div>\n",
       "<style scoped>\n",
       "    .dataframe tbody tr th:only-of-type {\n",
       "        vertical-align: middle;\n",
       "    }\n",
       "\n",
       "    .dataframe tbody tr th {\n",
       "        vertical-align: top;\n",
       "    }\n",
       "\n",
       "    .dataframe thead th {\n",
       "        text-align: right;\n",
       "    }\n",
       "</style>\n",
       "<table border=\"1\" class=\"dataframe\">\n",
       "  <thead>\n",
       "    <tr style=\"text-align: right;\">\n",
       "      <th></th>\n",
       "      <th>Brand</th>\n",
       "      <th>Model</th>\n",
       "      <th>Year</th>\n",
       "      <th>Variant</th>\n",
       "      <th>Location</th>\n",
       "      <th>Version</th>\n",
       "      <th>Number of Owners</th>\n",
       "      <th>KmDriven</th>\n",
       "      <th>Price</th>\n",
       "    </tr>\n",
       "  </thead>\n",
       "  <tbody>\n",
       "    <tr>\n",
       "      <th>0</th>\n",
       "      <td>Maruti</td>\n",
       "      <td>Swift Dzire</td>\n",
       "      <td>2013</td>\n",
       "      <td>LDI BS IV</td>\n",
       "      <td>New Delhi</td>\n",
       "      <td>Diesel</td>\n",
       "      <td>2nd Owner</td>\n",
       "      <td>49944</td>\n",
       "      <td>303099</td>\n",
       "    </tr>\n",
       "    <tr>\n",
       "      <th>1</th>\n",
       "      <td>Maruti</td>\n",
       "      <td>Swift</td>\n",
       "      <td>2012</td>\n",
       "      <td>VDI</td>\n",
       "      <td>New Delhi</td>\n",
       "      <td>Diesel</td>\n",
       "      <td>1st Owner</td>\n",
       "      <td>129639</td>\n",
       "      <td>297999</td>\n",
       "    </tr>\n",
       "    <tr>\n",
       "      <th>2</th>\n",
       "      <td>Volkswagen</td>\n",
       "      <td>Vento</td>\n",
       "      <td>2014</td>\n",
       "      <td>HIGHLINE PETROL</td>\n",
       "      <td>New Delhi</td>\n",
       "      <td>Petrol</td>\n",
       "      <td>1st Owner</td>\n",
       "      <td>62625</td>\n",
       "      <td>446899</td>\n",
       "    </tr>\n",
       "    <tr>\n",
       "      <th>3</th>\n",
       "      <td>Maruti</td>\n",
       "      <td>Ertiga</td>\n",
       "      <td>2014</td>\n",
       "      <td>VDI ABS</td>\n",
       "      <td>New Delhi</td>\n",
       "      <td>Diesel</td>\n",
       "      <td>1st Owner</td>\n",
       "      <td>64013</td>\n",
       "      <td>491299</td>\n",
       "    </tr>\n",
       "    <tr>\n",
       "      <th>4</th>\n",
       "      <td>Maruti</td>\n",
       "      <td>Swift Dzire</td>\n",
       "      <td>2013</td>\n",
       "      <td>VDI BS IV</td>\n",
       "      <td>New Delhi</td>\n",
       "      <td>Diesel</td>\n",
       "      <td>1st Owner</td>\n",
       "      <td>40212</td>\n",
       "      <td>370699</td>\n",
       "    </tr>\n",
       "    <tr>\n",
       "      <th>...</th>\n",
       "      <td>...</td>\n",
       "      <td>...</td>\n",
       "      <td>...</td>\n",
       "      <td>...</td>\n",
       "      <td>...</td>\n",
       "      <td>...</td>\n",
       "      <td>...</td>\n",
       "      <td>...</td>\n",
       "      <td>...</td>\n",
       "    </tr>\n",
       "    <tr>\n",
       "      <th>178</th>\n",
       "      <td>Maruti</td>\n",
       "      <td>Dzire</td>\n",
       "      <td>2017</td>\n",
       "      <td>VDI</td>\n",
       "      <td>Mumbai</td>\n",
       "      <td>Diesel</td>\n",
       "      <td>1st Owner</td>\n",
       "      <td>107185</td>\n",
       "      <td>695799</td>\n",
       "    </tr>\n",
       "    <tr>\n",
       "      <th>179</th>\n",
       "      <td>Maruti</td>\n",
       "      <td>Baleno</td>\n",
       "      <td>2016</td>\n",
       "      <td>ZETA 1.2 K12 CVT</td>\n",
       "      <td>Mumbai</td>\n",
       "      <td>Petrol</td>\n",
       "      <td>1st Owner</td>\n",
       "      <td>5318</td>\n",
       "      <td>741599</td>\n",
       "    </tr>\n",
       "    <tr>\n",
       "      <th>180</th>\n",
       "      <td>Maruti</td>\n",
       "      <td>IGNIS</td>\n",
       "      <td>2017</td>\n",
       "      <td>ZETA 1.2 K12 AMT</td>\n",
       "      <td>Mumbai</td>\n",
       "      <td>Petrol</td>\n",
       "      <td>2nd Owner</td>\n",
       "      <td>31550</td>\n",
       "      <td>520799</td>\n",
       "    </tr>\n",
       "    <tr>\n",
       "      <th>181</th>\n",
       "      <td>Maruti</td>\n",
       "      <td>Dzire</td>\n",
       "      <td>2018</td>\n",
       "      <td>ZDI Plus</td>\n",
       "      <td>Mumbai</td>\n",
       "      <td>Diesel</td>\n",
       "      <td>2nd Owner</td>\n",
       "      <td>30200</td>\n",
       "      <td>799999</td>\n",
       "    </tr>\n",
       "    <tr>\n",
       "      <th>182</th>\n",
       "      <td>Maruti</td>\n",
       "      <td>Ertiga</td>\n",
       "      <td>2016</td>\n",
       "      <td>ZDI SHVS</td>\n",
       "      <td>Mumbai</td>\n",
       "      <td>Diesel</td>\n",
       "      <td>1st Owner</td>\n",
       "      <td>57921</td>\n",
       "      <td>867199</td>\n",
       "    </tr>\n",
       "  </tbody>\n",
       "</table>\n",
       "<p>183 rows × 9 columns</p>\n",
       "</div>"
      ],
      "text/plain": [
       "          Brand        Model  Year            Variant   Location Version  \\\n",
       "0        Maruti  Swift Dzire  2013         LDI BS IV   New Delhi  Diesel   \n",
       "1        Maruti        Swift  2012               VDI   New Delhi  Diesel   \n",
       "2    Volkswagen        Vento  2014   HIGHLINE PETROL   New Delhi  Petrol   \n",
       "3        Maruti       Ertiga  2014           VDI ABS   New Delhi  Diesel   \n",
       "4        Maruti  Swift Dzire  2013         VDI BS IV   New Delhi  Diesel   \n",
       "..          ...          ...   ...                ...        ...     ...   \n",
       "178      Maruti        Dzire  2017               VDI      Mumbai  Diesel   \n",
       "179      Maruti       Baleno  2016  ZETA 1.2 K12 CVT      Mumbai  Petrol   \n",
       "180      Maruti        IGNIS  2017  ZETA 1.2 K12 AMT      Mumbai  Petrol   \n",
       "181      Maruti        Dzire  2018          ZDI Plus      Mumbai  Diesel   \n",
       "182      Maruti       Ertiga  2016          ZDI SHVS      Mumbai  Diesel   \n",
       "\n",
       "    Number of Owners  KmDriven   Price  \n",
       "0          2nd Owner     49944  303099  \n",
       "1          1st Owner    129639  297999  \n",
       "2          1st Owner     62625  446899  \n",
       "3          1st Owner     64013  491299  \n",
       "4          1st Owner     40212  370699  \n",
       "..               ...       ...     ...  \n",
       "178        1st Owner    107185  695799  \n",
       "179        1st Owner      5318  741599  \n",
       "180        2nd Owner     31550  520799  \n",
       "181        2nd Owner     30200  799999  \n",
       "182        1st Owner     57921  867199  \n",
       "\n",
       "[183 rows x 9 columns]"
      ]
     },
     "execution_count": 88,
     "metadata": {},
     "output_type": "execute_result"
    }
   ],
   "source": [
    "df"
   ]
  },
  {
   "cell_type": "code",
   "execution_count": 89,
   "id": "c03fb508",
   "metadata": {},
   "outputs": [
    {
     "data": {
      "text/plain": [
       "Brand                 6\n",
       "Model                34\n",
       "Year                 14\n",
       "Variant              74\n",
       "Location              8\n",
       "Version               3\n",
       "Number of Owners      3\n",
       "KmDriven            143\n",
       "Price               137\n",
       "dtype: int64"
      ]
     },
     "execution_count": 89,
     "metadata": {},
     "output_type": "execute_result"
    }
   ],
   "source": [
    "df.nunique()"
   ]
  },
  {
   "cell_type": "markdown",
   "id": "6cc65566",
   "metadata": {},
   "source": [
    "## EDA"
   ]
  },
  {
   "cell_type": "markdown",
   "id": "5fe5d31e",
   "metadata": {},
   "source": [
    "#### Univeraite Analysis"
   ]
  },
  {
   "cell_type": "code",
   "execution_count": 90,
   "id": "514c09e6",
   "metadata": {},
   "outputs": [
    {
     "data": {
      "image/png": "[encoded data removed]",
      "text/plain": [
       "<Figure size 432x288 with 1 Axes>"
      ]
     },
     "metadata": {
      "needs_background": "light"
     },
     "output_type": "display_data"
    }
   ],
   "source": [
    "#checking the Target column\n",
    "sns.distplot(df['Price'])\n",
    "plt.show()"
   ]
  },
  {
   "cell_type": "markdown",
   "id": "ac336cfa",
   "metadata": {},
   "source": [
    "As from above plot we see data is not normally distributed"
   ]
  },
  {
   "cell_type": "code",
   "execution_count": 91,
   "id": "db8d2b17",
   "metadata": {},
   "outputs": [
    {
     "data": {
      "text/plain": [
       "<AxesSubplot:xlabel='Version', ylabel='count'>"
      ]
     },
     "execution_count": 91,
     "metadata": {},
     "output_type": "execute_result"
    },
    {
     "data": {
      "image/png": "[encoded data removed]",
      "text/plain": [
       "<Figure size 432x288 with 1 Axes>"
      ]
     },
     "metadata": {
      "needs_background": "light"
     },
     "output_type": "display_data"
    }
   ],
   "source": [
    "sns.countplot(x = 'Version', data = df)"
   ]
  },
  {
   "cell_type": "code",
   "execution_count": 92,
   "id": "20536d5a",
   "metadata": {},
   "outputs": [
    {
     "data": {
      "text/plain": [
       "<AxesSubplot:xlabel='Year', ylabel='count'>"
      ]
     },
     "execution_count": 92,
     "metadata": {},
     "output_type": "execute_result"
    },
    {
     "data": {
      "image/png": "[encoded data removed]",
      "text/plain": [
       "<Figure size 1080x360 with 1 Axes>"
      ]
     },
     "metadata": {
      "needs_background": "light"
     },
     "output_type": "display_data"
    }
   ],
   "source": [
    "plt.figure(figsize=(15,5))\n",
    "sns.countplot(x = 'Year', data = df)"
   ]
  },
  {
   "cell_type": "markdown",
   "id": "1cb48530",
   "metadata": {},
   "source": [
    "From above plot we see in between 2012 to 2019 ,count of cars are more as compared to rest of the years."
   ]
  },
  {
   "cell_type": "code",
   "execution_count": 93,
   "id": "c8278b7b",
   "metadata": {},
   "outputs": [
    {
     "data": {
      "text/plain": [
       "<AxesSubplot:xlabel='Brand', ylabel='count'>"
      ]
     },
     "execution_count": 93,
     "metadata": {},
     "output_type": "execute_result"
    },
    {
     "data": {
      "image/png": "[encoded data removed]",
      "text/plain": [
       "<Figure size 432x288 with 1 Axes>"
      ]
     },
     "metadata": {
      "needs_background": "light"
     },
     "output_type": "display_data"
    }
   ],
   "source": [
    "sns.countplot(x = 'Brand', data = df)"
   ]
  },
  {
   "cell_type": "code",
   "execution_count": 94,
   "id": "1a10632a",
   "metadata": {},
   "outputs": [
    {
     "data": {
      "image/png": "[encoded data removed]",
      "text/plain": [
       "<Figure size 864x432 with 1 Axes>"
      ]
     },
     "metadata": {
      "needs_background": "light"
     },
     "output_type": "display_data"
    }
   ],
   "source": [
    "# Relation between price nad fuel\n",
    "\n",
    "sns.catplot(y = 'Price', x = 'Version',data= df.sort_values(\"Price\", ascending = False), \n",
    "            kind = \"boxen\", height = 6, aspect = 2)\n",
    "\n",
    "plt.tight_layout\n",
    "plt.show()"
   ]
  },
  {
   "cell_type": "code",
   "execution_count": 95,
   "id": "1115e1f4",
   "metadata": {},
   "outputs": [
    {
     "data": {
      "image/png": "[encoded data removed]",
      "text/plain": [
       "<Figure size 864x432 with 1 Axes>"
      ]
     },
     "metadata": {
      "needs_background": "light"
     },
     "output_type": "display_data"
    }
   ],
   "source": [
    "# Relation between Price and Manufacturing year\n",
    "\n",
    "sns.catplot(y ='Price', x ='Year',data=df.sort_values(\"Price\",ascending=False),kind=\"boxen\",height=6,aspect=2)\n",
    "plt.tight_layout\n",
    "plt.show()"
   ]
  },
  {
   "cell_type": "markdown",
   "id": "c91d2920",
   "metadata": {},
   "source": [
    "## Heatmap"
   ]
  },
  {
   "cell_type": "code",
   "execution_count": 96,
   "id": "780225e0",
   "metadata": {},
   "outputs": [],
   "source": [
    "from sklearn.preprocessing import LabelEncoder\n",
    "le=LabelEncoder()\n",
    "df['Brand']=le.fit_transform(df['Brand'])\n",
    "df['Model']=le.fit_transform(df['Model'])\n",
    "df['Year']=le.fit_transform(df['Year'])\n",
    "df['Variant']=le.fit_transform(df['Variant'])\n",
    "df['Location']=le.fit_transform(df['Location'])\n",
    "df['Version']=le.fit_transform(df['Version'])\n",
    "df['Number of Owners']=le.fit_transform(df['Number of Owners'])"
   ]
  },
  {
   "cell_type": "code",
   "execution_count": 97,
   "id": "2e7a3d25",
   "metadata": {},
   "outputs": [
    {
     "data": {
      "text/html": [
       "<div>\n",
       "<style scoped>\n",
       "    .dataframe tbody tr th:only-of-type {\n",
       "        vertical-align: middle;\n",
       "    }\n",
       "\n",
       "    .dataframe tbody tr th {\n",
       "        vertical-align: top;\n",
       "    }\n",
       "\n",
       "    .dataframe thead th {\n",
       "        text-align: right;\n",
       "    }\n",
       "</style>\n",
       "<table border=\"1\" class=\"dataframe\">\n",
       "  <thead>\n",
       "    <tr style=\"text-align: right;\">\n",
       "      <th></th>\n",
       "      <th>Brand</th>\n",
       "      <th>Model</th>\n",
       "      <th>Year</th>\n",
       "      <th>Variant</th>\n",
       "      <th>Location</th>\n",
       "      <th>Version</th>\n",
       "      <th>Number of Owners</th>\n",
       "      <th>KmDriven</th>\n",
       "      <th>Price</th>\n",
       "    </tr>\n",
       "  </thead>\n",
       "  <tbody>\n",
       "    <tr>\n",
       "      <th>0</th>\n",
       "      <td>2</td>\n",
       "      <td>24</td>\n",
       "      <td>5</td>\n",
       "      <td>26</td>\n",
       "      <td>5</td>\n",
       "      <td>0</td>\n",
       "      <td>1</td>\n",
       "      <td>49944</td>\n",
       "      <td>303099</td>\n",
       "    </tr>\n",
       "    <tr>\n",
       "      <th>1</th>\n",
       "      <td>2</td>\n",
       "      <td>23</td>\n",
       "      <td>4</td>\n",
       "      <td>49</td>\n",
       "      <td>5</td>\n",
       "      <td>0</td>\n",
       "      <td>0</td>\n",
       "      <td>129639</td>\n",
       "      <td>297999</td>\n",
       "    </tr>\n",
       "    <tr>\n",
       "      <th>2</th>\n",
       "      <td>5</td>\n",
       "      <td>26</td>\n",
       "      <td>6</td>\n",
       "      <td>24</td>\n",
       "      <td>5</td>\n",
       "      <td>1</td>\n",
       "      <td>0</td>\n",
       "      <td>62625</td>\n",
       "      <td>446899</td>\n",
       "    </tr>\n",
       "    <tr>\n",
       "      <th>3</th>\n",
       "      <td>2</td>\n",
       "      <td>9</td>\n",
       "      <td>6</td>\n",
       "      <td>50</td>\n",
       "      <td>5</td>\n",
       "      <td>0</td>\n",
       "      <td>0</td>\n",
       "      <td>64013</td>\n",
       "      <td>491299</td>\n",
       "    </tr>\n",
       "    <tr>\n",
       "      <th>4</th>\n",
       "      <td>2</td>\n",
       "      <td>24</td>\n",
       "      <td>5</td>\n",
       "      <td>51</td>\n",
       "      <td>5</td>\n",
       "      <td>0</td>\n",
       "      <td>0</td>\n",
       "      <td>40212</td>\n",
       "      <td>370699</td>\n",
       "    </tr>\n",
       "    <tr>\n",
       "      <th>...</th>\n",
       "      <td>...</td>\n",
       "      <td>...</td>\n",
       "      <td>...</td>\n",
       "      <td>...</td>\n",
       "      <td>...</td>\n",
       "      <td>...</td>\n",
       "      <td>...</td>\n",
       "      <td>...</td>\n",
       "      <td>...</td>\n",
       "    </tr>\n",
       "    <tr>\n",
       "      <th>178</th>\n",
       "      <td>2</td>\n",
       "      <td>7</td>\n",
       "      <td>9</td>\n",
       "      <td>49</td>\n",
       "      <td>4</td>\n",
       "      <td>0</td>\n",
       "      <td>0</td>\n",
       "      <td>107185</td>\n",
       "      <td>695799</td>\n",
       "    </tr>\n",
       "    <tr>\n",
       "      <th>179</th>\n",
       "      <td>2</td>\n",
       "      <td>2</td>\n",
       "      <td>8</td>\n",
       "      <td>70</td>\n",
       "      <td>4</td>\n",
       "      <td>1</td>\n",
       "      <td>0</td>\n",
       "      <td>5318</td>\n",
       "      <td>741599</td>\n",
       "    </tr>\n",
       "    <tr>\n",
       "      <th>180</th>\n",
       "      <td>2</td>\n",
       "      <td>14</td>\n",
       "      <td>9</td>\n",
       "      <td>69</td>\n",
       "      <td>4</td>\n",
       "      <td>1</td>\n",
       "      <td>1</td>\n",
       "      <td>31550</td>\n",
       "      <td>520799</td>\n",
       "    </tr>\n",
       "    <tr>\n",
       "      <th>181</th>\n",
       "      <td>2</td>\n",
       "      <td>7</td>\n",
       "      <td>10</td>\n",
       "      <td>66</td>\n",
       "      <td>4</td>\n",
       "      <td>0</td>\n",
       "      <td>1</td>\n",
       "      <td>30200</td>\n",
       "      <td>799999</td>\n",
       "    </tr>\n",
       "    <tr>\n",
       "      <th>182</th>\n",
       "      <td>2</td>\n",
       "      <td>9</td>\n",
       "      <td>8</td>\n",
       "      <td>67</td>\n",
       "      <td>4</td>\n",
       "      <td>0</td>\n",
       "      <td>0</td>\n",
       "      <td>57921</td>\n",
       "      <td>867199</td>\n",
       "    </tr>\n",
       "  </tbody>\n",
       "</table>\n",
       "<p>183 rows × 9 columns</p>\n",
       "</div>"
      ],
      "text/plain": [
       "     Brand  Model  Year  Variant  Location  Version  Number of Owners  \\\n",
       "0        2     24     5       26         5        0                 1   \n",
       "1        2     23     4       49         5        0                 0   \n",
       "2        5     26     6       24         5        1                 0   \n",
       "3        2      9     6       50         5        0                 0   \n",
       "4        2     24     5       51         5        0                 0   \n",
       "..     ...    ...   ...      ...       ...      ...               ...   \n",
       "178      2      7     9       49         4        0                 0   \n",
       "179      2      2     8       70         4        1                 0   \n",
       "180      2     14     9       69         4        1                 1   \n",
       "181      2      7    10       66         4        0                 1   \n",
       "182      2      9     8       67         4        0                 0   \n",
       "\n",
       "     KmDriven   Price  \n",
       "0       49944  303099  \n",
       "1      129639  297999  \n",
       "2       62625  446899  \n",
       "3       64013  491299  \n",
       "4       40212  370699  \n",
       "..        ...     ...  \n",
       "178    107185  695799  \n",
       "179      5318  741599  \n",
       "180     31550  520799  \n",
       "181     30200  799999  \n",
       "182     57921  867199  \n",
       "\n",
       "[183 rows x 9 columns]"
      ]
     },
     "execution_count": 97,
     "metadata": {},
     "output_type": "execute_result"
    }
   ],
   "source": [
    "df"
   ]
  },
  {
   "cell_type": "code",
   "execution_count": 98,
   "id": "17948b04",
   "metadata": {},
   "outputs": [
    {
     "data": {
      "text/html": [
       "<div>\n",
       "<style scoped>\n",
       "    .dataframe tbody tr th:only-of-type {\n",
       "        vertical-align: middle;\n",
       "    }\n",
       "\n",
       "    .dataframe tbody tr th {\n",
       "        vertical-align: top;\n",
       "    }\n",
       "\n",
       "    .dataframe thead th {\n",
       "        text-align: right;\n",
       "    }\n",
       "</style>\n",
       "<table border=\"1\" class=\"dataframe\">\n",
       "  <thead>\n",
       "    <tr style=\"text-align: right;\">\n",
       "      <th></th>\n",
       "      <th>Brand</th>\n",
       "      <th>Model</th>\n",
       "      <th>Year</th>\n",
       "      <th>Variant</th>\n",
       "      <th>Location</th>\n",
       "      <th>Version</th>\n",
       "      <th>Number of Owners</th>\n",
       "      <th>KmDriven</th>\n",
       "      <th>Price</th>\n",
       "    </tr>\n",
       "  </thead>\n",
       "  <tbody>\n",
       "    <tr>\n",
       "      <th>count</th>\n",
       "      <td>183.000000</td>\n",
       "      <td>183.000000</td>\n",
       "      <td>183.000000</td>\n",
       "      <td>183.000000</td>\n",
       "      <td>183.000000</td>\n",
       "      <td>183.000000</td>\n",
       "      <td>183.000000</td>\n",
       "      <td>183.000000</td>\n",
       "      <td>1.830000e+02</td>\n",
       "    </tr>\n",
       "    <tr>\n",
       "      <th>mean</th>\n",
       "      <td>2.448087</td>\n",
       "      <td>16.273224</td>\n",
       "      <td>7.901639</td>\n",
       "      <td>37.218579</td>\n",
       "      <td>3.803279</td>\n",
       "      <td>0.584699</td>\n",
       "      <td>0.147541</td>\n",
       "      <td>55231.972678</td>\n",
       "      <td>5.774444e+05</td>\n",
       "    </tr>\n",
       "    <tr>\n",
       "      <th>std</th>\n",
       "      <td>1.061972</td>\n",
       "      <td>8.786334</td>\n",
       "      <td>2.612554</td>\n",
       "      <td>18.434210</td>\n",
       "      <td>1.956839</td>\n",
       "      <td>0.505123</td>\n",
       "      <td>0.399288</td>\n",
       "      <td>45490.437051</td>\n",
       "      <td>3.100881e+05</td>\n",
       "    </tr>\n",
       "    <tr>\n",
       "      <th>min</th>\n",
       "      <td>0.000000</td>\n",
       "      <td>0.000000</td>\n",
       "      <td>0.000000</td>\n",
       "      <td>0.000000</td>\n",
       "      <td>0.000000</td>\n",
       "      <td>0.000000</td>\n",
       "      <td>0.000000</td>\n",
       "      <td>2400.000000</td>\n",
       "      <td>1.203990e+05</td>\n",
       "    </tr>\n",
       "    <tr>\n",
       "      <th>25%</th>\n",
       "      <td>2.000000</td>\n",
       "      <td>8.000000</td>\n",
       "      <td>6.000000</td>\n",
       "      <td>25.500000</td>\n",
       "      <td>2.000000</td>\n",
       "      <td>0.000000</td>\n",
       "      <td>0.000000</td>\n",
       "      <td>25650.500000</td>\n",
       "      <td>3.648990e+05</td>\n",
       "    </tr>\n",
       "    <tr>\n",
       "      <th>50%</th>\n",
       "      <td>2.000000</td>\n",
       "      <td>17.000000</td>\n",
       "      <td>8.000000</td>\n",
       "      <td>39.000000</td>\n",
       "      <td>4.000000</td>\n",
       "      <td>1.000000</td>\n",
       "      <td>0.000000</td>\n",
       "      <td>44638.000000</td>\n",
       "      <td>5.045990e+05</td>\n",
       "    </tr>\n",
       "    <tr>\n",
       "      <th>75%</th>\n",
       "      <td>3.000000</td>\n",
       "      <td>24.000000</td>\n",
       "      <td>10.000000</td>\n",
       "      <td>51.000000</td>\n",
       "      <td>5.000000</td>\n",
       "      <td>1.000000</td>\n",
       "      <td>0.000000</td>\n",
       "      <td>64361.000000</td>\n",
       "      <td>6.846990e+05</td>\n",
       "    </tr>\n",
       "    <tr>\n",
       "      <th>max</th>\n",
       "      <td>5.000000</td>\n",
       "      <td>33.000000</td>\n",
       "      <td>13.000000</td>\n",
       "      <td>73.000000</td>\n",
       "      <td>7.000000</td>\n",
       "      <td>2.000000</td>\n",
       "      <td>2.000000</td>\n",
       "      <td>353288.000000</td>\n",
       "      <td>1.997999e+06</td>\n",
       "    </tr>\n",
       "  </tbody>\n",
       "</table>\n",
       "</div>"
      ],
      "text/plain": [
       "            Brand       Model        Year     Variant    Location     Version  \\\n",
       "count  183.000000  183.000000  183.000000  183.000000  183.000000  183.000000   \n",
       "mean     2.448087   16.273224    7.901639   37.218579    3.803279    0.584699   \n",
       "std      1.061972    8.786334    2.612554   18.434210    1.956839    0.505123   \n",
       "min      0.000000    0.000000    0.000000    0.000000    0.000000    0.000000   \n",
       "25%      2.000000    8.000000    6.000000   25.500000    2.000000    0.000000   \n",
       "50%      2.000000   17.000000    8.000000   39.000000    4.000000    1.000000   \n",
       "75%      3.000000   24.000000   10.000000   51.000000    5.000000    1.000000   \n",
       "max      5.000000   33.000000   13.000000   73.000000    7.000000    2.000000   \n",
       "\n",
       "       Number of Owners       KmDriven         Price  \n",
       "count        183.000000     183.000000  1.830000e+02  \n",
       "mean           0.147541   55231.972678  5.774444e+05  \n",
       "std            0.399288   45490.437051  3.100881e+05  \n",
       "min            0.000000    2400.000000  1.203990e+05  \n",
       "25%            0.000000   25650.500000  3.648990e+05  \n",
       "50%            0.000000   44638.000000  5.045990e+05  \n",
       "75%            0.000000   64361.000000  6.846990e+05  \n",
       "max            2.000000  353288.000000  1.997999e+06  "
      ]
     },
     "execution_count": 98,
     "metadata": {},
     "output_type": "execute_result"
    }
   ],
   "source": [
    "df.describe()"
   ]
  },
  {
   "cell_type": "code",
   "execution_count": 20,
   "id": "dcb7a1de",
   "metadata": {},
   "outputs": [
    {
     "data": {
      "text/html": [
       "<div>\n",
       "<style scoped>\n",
       "    .dataframe tbody tr th:only-of-type {\n",
       "        vertical-align: middle;\n",
       "    }\n",
       "\n",
       "    .dataframe tbody tr th {\n",
       "        vertical-align: top;\n",
       "    }\n",
       "\n",
       "    .dataframe thead th {\n",
       "        text-align: right;\n",
       "    }\n",
       "</style>\n",
       "<table border=\"1\" class=\"dataframe\">\n",
       "  <thead>\n",
       "    <tr style=\"text-align: right;\">\n",
       "      <th></th>\n",
       "      <th>Brand</th>\n",
       "      <th>Model</th>\n",
       "      <th>Year</th>\n",
       "      <th>Variant</th>\n",
       "      <th>Location</th>\n",
       "      <th>Version</th>\n",
       "      <th>Number of Owners</th>\n",
       "      <th>KmDriven</th>\n",
       "      <th>Price</th>\n",
       "    </tr>\n",
       "  </thead>\n",
       "  <tbody>\n",
       "    <tr>\n",
       "      <th>Brand</th>\n",
       "      <td>1.000000</td>\n",
       "      <td>-0.118009</td>\n",
       "      <td>0.083306</td>\n",
       "      <td>-0.387299</td>\n",
       "      <td>0.135190</td>\n",
       "      <td>0.164444</td>\n",
       "      <td>0.037599</td>\n",
       "      <td>0.115463</td>\n",
       "      <td>0.105054</td>\n",
       "    </tr>\n",
       "    <tr>\n",
       "      <th>Model</th>\n",
       "      <td>-0.118009</td>\n",
       "      <td>1.000000</td>\n",
       "      <td>-0.129036</td>\n",
       "      <td>0.027718</td>\n",
       "      <td>-0.156642</td>\n",
       "      <td>-0.230561</td>\n",
       "      <td>0.047960</td>\n",
       "      <td>0.081666</td>\n",
       "      <td>0.026788</td>\n",
       "    </tr>\n",
       "    <tr>\n",
       "      <th>Year</th>\n",
       "      <td>0.083306</td>\n",
       "      <td>-0.129036</td>\n",
       "      <td>1.000000</td>\n",
       "      <td>-0.074050</td>\n",
       "      <td>-0.142449</td>\n",
       "      <td>0.293634</td>\n",
       "      <td>-0.175630</td>\n",
       "      <td>-0.610420</td>\n",
       "      <td>0.466907</td>\n",
       "    </tr>\n",
       "    <tr>\n",
       "      <th>Variant</th>\n",
       "      <td>-0.387299</td>\n",
       "      <td>0.027718</td>\n",
       "      <td>-0.074050</td>\n",
       "      <td>1.000000</td>\n",
       "      <td>-0.134668</td>\n",
       "      <td>-0.110573</td>\n",
       "      <td>-0.161166</td>\n",
       "      <td>-0.144811</td>\n",
       "      <td>0.029458</td>\n",
       "    </tr>\n",
       "    <tr>\n",
       "      <th>Location</th>\n",
       "      <td>0.135190</td>\n",
       "      <td>-0.156642</td>\n",
       "      <td>-0.142449</td>\n",
       "      <td>-0.134668</td>\n",
       "      <td>1.000000</td>\n",
       "      <td>-0.016403</td>\n",
       "      <td>-0.096260</td>\n",
       "      <td>0.089553</td>\n",
       "      <td>-0.229075</td>\n",
       "    </tr>\n",
       "    <tr>\n",
       "      <th>Version</th>\n",
       "      <td>0.164444</td>\n",
       "      <td>-0.230561</td>\n",
       "      <td>0.293634</td>\n",
       "      <td>-0.110573</td>\n",
       "      <td>-0.016403</td>\n",
       "      <td>1.000000</td>\n",
       "      <td>-0.103164</td>\n",
       "      <td>-0.460520</td>\n",
       "      <td>-0.299948</td>\n",
       "    </tr>\n",
       "    <tr>\n",
       "      <th>Number of Owners</th>\n",
       "      <td>0.037599</td>\n",
       "      <td>0.047960</td>\n",
       "      <td>-0.175630</td>\n",
       "      <td>-0.161166</td>\n",
       "      <td>-0.096260</td>\n",
       "      <td>-0.103164</td>\n",
       "      <td>1.000000</td>\n",
       "      <td>0.077605</td>\n",
       "      <td>-0.103484</td>\n",
       "    </tr>\n",
       "    <tr>\n",
       "      <th>KmDriven</th>\n",
       "      <td>0.115463</td>\n",
       "      <td>0.081666</td>\n",
       "      <td>-0.610420</td>\n",
       "      <td>-0.144811</td>\n",
       "      <td>0.089553</td>\n",
       "      <td>-0.460520</td>\n",
       "      <td>0.077605</td>\n",
       "      <td>1.000000</td>\n",
       "      <td>-0.109102</td>\n",
       "    </tr>\n",
       "    <tr>\n",
       "      <th>Price</th>\n",
       "      <td>0.105054</td>\n",
       "      <td>0.026788</td>\n",
       "      <td>0.466907</td>\n",
       "      <td>0.029458</td>\n",
       "      <td>-0.229075</td>\n",
       "      <td>-0.299948</td>\n",
       "      <td>-0.103484</td>\n",
       "      <td>-0.109102</td>\n",
       "      <td>1.000000</td>\n",
       "    </tr>\n",
       "  </tbody>\n",
       "</table>\n",
       "</div>"
      ],
      "text/plain": [
       "                     Brand     Model      Year   Variant  Location   Version  \\\n",
       "Brand             1.000000 -0.118009  0.083306 -0.387299  0.135190  0.164444   \n",
       "Model            -0.118009  1.000000 -0.129036  0.027718 -0.156642 -0.230561   \n",
       "Year              0.083306 -0.129036  1.000000 -0.074050 -0.142449  0.293634   \n",
       "Variant          -0.387299  0.027718 -0.074050  1.000000 -0.134668 -0.110573   \n",
       "Location          0.135190 -0.156642 -0.142449 -0.134668  1.000000 -0.016403   \n",
       "Version           0.164444 -0.230561  0.293634 -0.110573 -0.016403  1.000000   \n",
       "Number of Owners  0.037599  0.047960 -0.175630 -0.161166 -0.096260 -0.103164   \n",
       "KmDriven          0.115463  0.081666 -0.610420 -0.144811  0.089553 -0.460520   \n",
       "Price             0.105054  0.026788  0.466907  0.029458 -0.229075 -0.299948   \n",
       "\n",
       "                  Number of Owners  KmDriven     Price  \n",
       "Brand                     0.037599  0.115463  0.105054  \n",
       "Model                     0.047960  0.081666  0.026788  \n",
       "Year                     -0.175630 -0.610420  0.466907  \n",
       "Variant                  -0.161166 -0.144811  0.029458  \n",
       "Location                 -0.096260  0.089553 -0.229075  \n",
       "Version                  -0.103164 -0.460520 -0.299948  \n",
       "Number of Owners          1.000000  0.077605 -0.103484  \n",
       "KmDriven                  0.077605  1.000000 -0.109102  \n",
       "Price                    -0.103484 -0.109102  1.000000  "
      ]
     },
     "execution_count": 20,
     "metadata": {},
     "output_type": "execute_result"
    }
   ],
   "source": [
    "df.corr()"
   ]
  },
  {
   "cell_type": "code",
   "execution_count": 21,
   "id": "d4ee64b8",
   "metadata": {},
   "outputs": [
    {
     "data": {
      "image/png": "[encoded data removed]",
      "text/plain": [
       "<Figure size 1080x576 with 2 Axes>"
      ]
     },
     "metadata": {
      "needs_background": "light"
     },
     "output_type": "display_data"
    }
   ],
   "source": [
    "#Let's check the correlation by using the Heatmap (in order to check teh relation between features)\n",
    "\n",
    "plt.figure(figsize=(15,8))\n",
    "sns.heatmap(df.corr(),cmap='YlGnBu',annot = True, linewidth=0.5, fmt='.2f')\n",
    "plt.show()"
   ]
  },
  {
   "cell_type": "markdown",
   "id": "814c0aa0",
   "metadata": {},
   "source": [
    "Price is correlated with Year"
   ]
  },
  {
   "cell_type": "code",
   "execution_count": 22,
   "id": "b10910bf",
   "metadata": {},
   "outputs": [
    {
     "data": {
      "text/plain": [
       "<Figure size 432x288 with 0 Axes>"
      ]
     },
     "metadata": {},
     "output_type": "display_data"
    },
    {
     "data": {
      "image/png": "[encoded data removed]",
      "text/plain": [
       "<Figure size 576x432 with 1 Axes>"
      ]
     },
     "metadata": {
      "needs_background": "light"
     },
     "output_type": "display_data"
    },
    {
     "data": {
      "image/png": "[encoded data removed]",
      "text/plain": [
       "<Figure size 576x432 with 1 Axes>"
      ]
     },
     "metadata": {
      "needs_background": "light"
     },
     "output_type": "display_data"
    },
    {
     "data": {
      "image/png": "[encoded data removed]",
      "text/plain": [
       "<Figure size 576x432 with 1 Axes>"
      ]
     },
     "metadata": {
      "needs_background": "light"
     },
     "output_type": "display_data"
    },
    {
     "data": {
      "image/png": "[encoded data removed]",
      "text/plain": [
       "<Figure size 576x432 with 1 Axes>"
      ]
     },
     "metadata": {
      "needs_background": "light"
     },
     "output_type": "display_data"
    },
    {
     "data": {
      "image/png": "[encoded data removed]",
      "text/plain": [
       "<Figure size 576x432 with 1 Axes>"
      ]
     },
     "metadata": {
      "needs_background": "light"
     },
     "output_type": "display_data"
    },
    {
     "data": {
      "image/png": "[encoded data removed]",
      "text/plain": [
       "<Figure size 576x432 with 1 Axes>"
      ]
     },
     "metadata": {
      "needs_background": "light"
     },
     "output_type": "display_data"
    },
    {
     "data": {
      "image/png": "[encoded data removed]",
      "text/plain": [
       "<Figure size 576x432 with 1 Axes>"
      ]
     },
     "metadata": {
      "needs_background": "light"
     },
     "output_type": "display_data"
    },
    {
     "data": {
      "image/png": "[encoded data removed]",
      "text/plain": [
       "<Figure size 576x432 with 1 Axes>"
      ]
     },
     "metadata": {
      "needs_background": "light"
     },
     "output_type": "display_data"
    },
    {
     "data": {
      "image/png": "[encoded data removed]",
      "text/plain": [
       "<Figure size 576x432 with 1 Axes>"
      ]
     },
     "metadata": {
      "needs_background": "light"
     },
     "output_type": "display_data"
    }
   ],
   "source": [
    "plt.tight_layout()\n",
    "for i in df:\n",
    "    plt.figure(figsize=[8,6])\n",
    "    sns.distplot(df[i])\n",
    "    plt.xlabel(i,fontsize=15)\n",
    "plt.show()"
   ]
  },
  {
   "cell_type": "code",
   "execution_count": 23,
   "id": "c371f4cc",
   "metadata": {},
   "outputs": [
    {
     "data": {
      "image/png": "[encoded data removed]",
      "text/plain": [
       "<Figure size 1080x3600 with 9 Axes>"
      ]
     },
     "metadata": {
      "needs_background": "light"
     },
     "output_type": "display_data"
    }
   ],
   "source": [
    "#visualizing data for outliers\n",
    "plt.figure(figsize=(15,50))\n",
    "graph=1\n",
    "for column in df:\n",
    "    if graph<=30:\n",
    "        ax=plt.subplot(10,3,graph)\n",
    "        sns.boxplot(df[column],orient='v')\n",
    "        plt.xlabel(column,fontsize=10)\n",
    "        \n",
    "    graph+=1\n",
    "plt.show()"
   ]
  },
  {
   "cell_type": "code",
   "execution_count": 24,
   "id": "71b4da24",
   "metadata": {},
   "outputs": [
    {
     "data": {
      "text/plain": [
       "(183, 9)"
      ]
     },
     "execution_count": 24,
     "metadata": {},
     "output_type": "execute_result"
    }
   ],
   "source": [
    "from scipy.stats import zscore\n",
    "z=np.abs(zscore(df))\n",
    "z.shape"
   ]
  },
  {
   "cell_type": "code",
   "execution_count": 25,
   "id": "17455957",
   "metadata": {},
   "outputs": [
    {
     "name": "stdout",
     "output_type": "stream",
     "text": [
      "(array([ 66,  75, 119, 120, 128, 133, 155, 161, 163, 163], dtype=int64), array([6, 6, 8, 7, 8, 8, 8, 8, 2, 6], dtype=int64))\n"
     ]
    }
   ],
   "source": [
    "threshold=3\n",
    "print(np.where(z>3))"
   ]
  },
  {
   "cell_type": "code",
   "execution_count": 26,
   "id": "2a002e99",
   "metadata": {},
   "outputs": [
    {
     "name": "stdout",
     "output_type": "stream",
     "text": [
      "Old DataFrame (183, 9)\n",
      "New DataFrame (174, 9)\n",
      "total_dropped_rows 9\n"
     ]
    }
   ],
   "source": [
    "df_new=df[(z<3).all(axis=1)]\n",
    "print('Old DataFrame',df.shape)\n",
    "print('New DataFrame',df_new.shape)\n",
    "print('total_dropped_rows',df.shape[0]-df_new.shape[0])"
   ]
  },
  {
   "cell_type": "code",
   "execution_count": 27,
   "id": "0fed02e6",
   "metadata": {},
   "outputs": [
    {
     "name": "stdout",
     "output_type": "stream",
     "text": [
      "4.918032786885246 %\n"
     ]
    }
   ],
   "source": [
    "loss_percentage=(183-174)/183*100\n",
    "print(loss_percentage,'%')"
   ]
  },
  {
   "cell_type": "code",
   "execution_count": 28,
   "id": "37cf1432",
   "metadata": {},
   "outputs": [
    {
     "name": "stdout",
     "output_type": "stream",
     "text": [
      "Brand                    1.0\n",
      "Model                   16.0\n",
      "Year                     4.0\n",
      "Variant                 25.5\n",
      "Location                 3.0\n",
      "Version                  1.0\n",
      "Number of Owners         0.0\n",
      "KmDriven             38710.5\n",
      "Price               319800.0\n",
      "dtype: float64\n"
     ]
    }
   ],
   "source": [
    "Q1 = df.quantile(0.25)\n",
    "Q3 = df.quantile(0.75)\n",
    "IQR = Q3 - Q1\n",
    "print(IQR)"
   ]
  },
  {
   "cell_type": "code",
   "execution_count": 29,
   "id": "b8015430",
   "metadata": {},
   "outputs": [
    {
     "name": "stdout",
     "output_type": "stream",
     "text": [
      "(122, 9)\n"
     ]
    }
   ],
   "source": [
    "df1= df[~((df < (Q1 - 1.5 * IQR)) |(df > (Q3 + 1.5 * IQR))).any(axis=1)]\n",
    "print(df1.shape)"
   ]
  },
  {
   "cell_type": "code",
   "execution_count": 30,
   "id": "d48ab75e",
   "metadata": {},
   "outputs": [
    {
     "name": "stdout",
     "output_type": "stream",
     "text": [
      "33.33333333333333\n"
     ]
    }
   ],
   "source": [
    "percentage_loss=((183-122)/183)*100\n",
    "print(percentage_loss)"
   ]
  },
  {
   "cell_type": "markdown",
   "id": "7d8d0d0d",
   "metadata": {},
   "source": [
    "while checking outliers, data loss is less while using zscore"
   ]
  },
  {
   "cell_type": "code",
   "execution_count": 31,
   "id": "d85c8049",
   "metadata": {},
   "outputs": [
    {
     "data": {
      "text/plain": [
       "Brand              -0.252247\n",
       "Model              -0.153400\n",
       "Year               -0.396043\n",
       "Variant            -0.132563\n",
       "Location           -0.121074\n",
       "Version            -0.217059\n",
       "Number of Owners    2.754882\n",
       "KmDriven            2.313873\n",
       "Price               1.994912\n",
       "dtype: float64"
      ]
     },
     "execution_count": 31,
     "metadata": {},
     "output_type": "execute_result"
    }
   ],
   "source": [
    "df.skew()"
   ]
  },
  {
   "cell_type": "code",
   "execution_count": 32,
   "id": "abe9e10e",
   "metadata": {},
   "outputs": [
    {
     "data": {
      "text/plain": [
       "Brand              -0.255364\n",
       "Model              -0.150630\n",
       "Year               -0.286374\n",
       "Variant            -0.172366\n",
       "Location           -0.117406\n",
       "Version            -0.264119\n",
       "Number of Owners    2.349026\n",
       "KmDriven            1.208893\n",
       "Price               1.277800\n",
       "dtype: float64"
      ]
     },
     "execution_count": 32,
     "metadata": {},
     "output_type": "execute_result"
    }
   ],
   "source": [
    "df_new.skew()"
   ]
  },
  {
   "cell_type": "code",
   "execution_count": 33,
   "id": "d40f3a50",
   "metadata": {},
   "outputs": [],
   "source": [
    "x = df_new.drop(columns = 'Price') #Features\n",
    "y = df_new['Price'] #Label"
   ]
  },
  {
   "cell_type": "code",
   "execution_count": 34,
   "id": "0a90bff0",
   "metadata": {},
   "outputs": [],
   "source": [
    "from sklearn.preprocessing import StandardScaler\n",
    "s=StandardScaler()\n",
    "x_scaled=s.fit_transform(x)"
   ]
  },
  {
   "cell_type": "code",
   "execution_count": 38,
   "id": "ecc98382",
   "metadata": {},
   "outputs": [],
   "source": [
    "from sklearn.model_selection import train_test_split\n",
    "from sklearn.linear_model import LinearRegression\n",
    "from sklearn.svm import SVR\n",
    "from sklearn.metrics import mean_squared_error,r2_score,mean_absolute_error\n",
    "from sklearn.neighbors import KNeighborsRegressor\n",
    "from sklearn.tree import DecisionTreeRegressor \n",
    "from sklearn.ensemble import GradientBoostingRegressor\n",
    "from sklearn.ensemble import AdaBoostRegressor\n",
    "\n",
    "from sklearn.ensemble import RandomForestRegressor\n",
    "from sklearn.model_selection import GridSearchCV"
   ]
  },
  {
   "cell_type": "code",
   "execution_count": 39,
   "id": "5e6358cc",
   "metadata": {},
   "outputs": [],
   "source": [
    "x_train, x_test, y_train, y_test = train_test_split(x_scaled, y, test_size=0.2, random_state=100)"
   ]
  },
  {
   "cell_type": "code",
   "execution_count": 41,
   "id": "85bdace9",
   "metadata": {},
   "outputs": [
    {
     "name": "stdout",
     "output_type": "stream",
     "text": [
      "Best R2 score is 95.82099772134552 on random state 76\n"
     ]
    }
   ],
   "source": [
    "max_acc=0\n",
    "max_RS=0\n",
    "for i in range(0,100):\n",
    "    X_train,X_test,y_train,y_test=train_test_split(x_scaled,y,test_size=0.20,random_state=i)\n",
    "    rf=RandomForestRegressor()\n",
    "    rf.fit(X_train,y_train)\n",
    "    pred=rf.predict(X_test)\n",
    "    r2=r2_score(y_test,pred)*100\n",
    "    \n",
    "    if r2>max_acc:\n",
    "        max_acc=r2\n",
    "        max_RS=i\n",
    "print('Best R2 score is',max_acc, 'on random state', max_RS)"
   ]
  },
  {
   "cell_type": "code",
   "execution_count": 43,
   "id": "7344f38c",
   "metadata": {},
   "outputs": [],
   "source": [
    "# Regression Model Function\n",
    "def reg(model,x,y):\n",
    "    X_train, X_test, y_train, y_test = train_test_split(x_scaled, y, test_size=0.20, random_state=76)\n",
    "    \n",
    "    # Training the model\n",
    "    model.fit(X_train,y_train)\n",
    "    \n",
    "    # Predicting Y_test\n",
    "    pred=model.predict(X_test)\n",
    "    \n",
    "     # R2 score\n",
    "    r2 = r2_score(y_test, pred)*100\n",
    "    print(\"R2 Score is:\", r2)\n",
    "    \n",
    "    print('MAE:',metrics.mean_absolute_error(y_test,pred))\n",
    "    print('MSE:',metrics.mean_squared_error(y_test,pred))\n",
    "    print('RMSE',np.sqrt(metrics.mean_squared_error(y_test,pred)))\n",
    "    \n",
    "    # Cross Validation Score\n",
    "    cv_score = (cross_val_score(model,x_scaled,y, cv=5).mean())*100\n",
    "    print(\"Cross Validation Score:\", cv_score)\n",
    "    \n",
    "    # Result of r2 score minus cv score\n",
    "    result = r2 - cv_score\n",
    "    print(\"R2 Score - Cross Validation Score is\", result)"
   ]
  },
  {
   "cell_type": "code",
   "execution_count": 46,
   "id": "c21df6b8",
   "metadata": {},
   "outputs": [
    {
     "name": "stdout",
     "output_type": "stream",
     "text": [
      "R2 Score is: 95.2766385647339\n",
      "MAE: 33618.42857142857\n",
      "MSE: 2202942852.542857\n",
      "RMSE 46935.5180278524\n",
      "Cross Validation Score: 40.11359802349554\n",
      "R2 Score - Cross Validation Score is 55.16304054123836\n"
     ]
    }
   ],
   "source": [
    "from sklearn import metrics\n",
    "from sklearn.model_selection import cross_val_score\n",
    "# Random Forest regressor\n",
    "model=RandomForestRegressor()\n",
    "reg(model,x_scaled,y)"
   ]
  },
  {
   "cell_type": "code",
   "execution_count": 55,
   "id": "8bba2f5a",
   "metadata": {},
   "outputs": [
    {
     "name": "stdout",
     "output_type": "stream",
     "text": [
      "R2 Score is: 91.54583482398874\n",
      "MAE: 39905.71428571428\n",
      "MSE: 3942963714.285714\n",
      "RMSE 62793.02281532331\n",
      "Cross Validation Score: 15.378783508612514\n",
      "R2 Score - Cross Validation Score is 76.16705131537623\n"
     ]
    }
   ],
   "source": [
    "# Decision tree Regressor\n",
    "model=DecisionTreeRegressor()\n",
    "reg(model,x_scaled,y)"
   ]
  },
  {
   "cell_type": "code",
   "execution_count": 48,
   "id": "4d52239e",
   "metadata": {},
   "outputs": [
    {
     "name": "stdout",
     "output_type": "stream",
     "text": [
      "R2 Score is: 82.23846498409709\n",
      "MAE: 67963.42857142857\n",
      "MSE: 8283856137.142858\n",
      "RMSE 91015.691708314\n",
      "Cross Validation Score: -36.42834086925211\n",
      "R2 Score - Cross Validation Score is 118.6668058533492\n"
     ]
    }
   ],
   "source": [
    "model=KNeighborsRegressor()\n",
    "reg(model,x_scaled,y)"
   ]
  },
  {
   "cell_type": "code",
   "execution_count": 57,
   "id": "17406836",
   "metadata": {},
   "outputs": [
    {
     "name": "stdout",
     "output_type": "stream",
     "text": [
      "R2 Score is: 85.98672210846581\n",
      "MAE: 63523.90267738596\n",
      "MSE: 6535695138.924492\n",
      "RMSE 80843.64624956307\n",
      "Cross Validation Score: 6.226641053683648\n",
      "R2 Score - Cross Validation Score is 79.76008105478216\n"
     ]
    }
   ],
   "source": [
    "model=AdaBoostRegressor()\n",
    "reg(model,x_scaled,y)"
   ]
  },
  {
   "cell_type": "code",
   "execution_count": 50,
   "id": "515ad0ed",
   "metadata": {},
   "outputs": [
    {
     "name": "stdout",
     "output_type": "stream",
     "text": [
      "R2 Score is: 43.27029427884456\n",
      "MAE: 123011.50751826476\n",
      "MSE: 26458339353.87551\n",
      "RMSE 162660.1959726949\n",
      "Cross Validation Score: -81.16551687009795\n",
      "R2 Score - Cross Validation Score is 124.4358111489425\n"
     ]
    }
   ],
   "source": [
    "from sklearn.linear_model import LinearRegression\n",
    "model=LinearRegression()\n",
    "reg(model,x_scaled,y)"
   ]
  },
  {
   "cell_type": "code",
   "execution_count": 51,
   "id": "6843fb17",
   "metadata": {},
   "outputs": [
    {
     "data": {
      "text/plain": [
       "0.8383201764436679"
      ]
     },
     "execution_count": 51,
     "metadata": {},
     "output_type": "execute_result"
    }
   ],
   "source": [
    "# test dataset percentage\n",
    "metrics.r2_score(y_test,pred)"
   ]
  },
  {
   "cell_type": "code",
   "execution_count": 52,
   "id": "639bf5a5",
   "metadata": {},
   "outputs": [
    {
     "data": {
      "image/png": "[encoded data removed]",
      "text/plain": [
       "<Figure size 432x288 with 1 Axes>"
      ]
     },
     "metadata": {
      "needs_background": "light"
     },
     "output_type": "display_data"
    }
   ],
   "source": [
    "sns.distplot(y_test-pred)\n",
    "plt.show()"
   ]
  },
  {
   "cell_type": "code",
   "execution_count": 54,
   "id": "56bcd706",
   "metadata": {},
   "outputs": [
    {
     "data": {
      "image/png": "[encoded data removed]",
      "text/plain": [
       "<Figure size 432x288 with 1 Axes>"
      ]
     },
     "metadata": {
      "needs_background": "light"
     },
     "output_type": "display_data"
    }
   ],
   "source": [
    "plt.scatter(y_test,pred,alpha=0.5)\n",
    "plt.xlabel('y_test')\n",
    "plt.ylabel('pred')\n",
    "plt.show()"
   ]
  },
  {
   "cell_type": "code",
   "execution_count": 65,
   "id": "50120fe5",
   "metadata": {},
   "outputs": [],
   "source": [
    "#Hyperparameter tuning using RandomizedSearchCV\n",
    "from sklearn.model_selection import RandomizedSearchCV\n",
    "#List of parameters to pass\n",
    "n_estimators = [10,50,100]\n",
    "loss=['linear','square','exponential']\n",
    "#max_features = ['auto', 'sqrt']\n",
    "#max_depth = [2, 3, 5]\n",
    "#min_samples_split = [2, 4, 6]\n",
    "#min_samples_leaf = [1, 2, 4, 6]\n",
    "learning_rate=[0.1]"
   ]
  },
  {
   "cell_type": "code",
   "execution_count": 68,
   "id": "1a21811d",
   "metadata": {},
   "outputs": [],
   "source": [
    "#Creating random grid\n",
    "ab=AdaBoostRegressor()\n",
    "random_grid = {'n_estimators': n_estimators,\n",
    "               'loss':loss,\n",
    "               'learning_rate':learning_rate}"
   ]
  },
  {
   "cell_type": "code",
   "execution_count": 69,
   "id": "cc6c37e5",
   "metadata": {},
   "outputs": [],
   "source": [
    "# Random search of parameters, using 5 fold cross validation, \n",
    "# search across 100 different combinations\n",
    "ab_random = RandomizedSearchCV(estimator = ab, param_distributions = random_grid,scoring='neg_mean_squared_error', n_iter = 10, cv = 5, verbose=2, random_state=76)"
   ]
  },
  {
   "cell_type": "code",
   "execution_count": 73,
   "id": "8406578d",
   "metadata": {},
   "outputs": [],
   "source": [
    "ab.fit(X_train,y_train)\n",
    "y_pred=ab.predict(X_test)"
   ]
  },
  {
   "cell_type": "code",
   "execution_count": 74,
   "id": "e0707375",
   "metadata": {},
   "outputs": [
    {
     "name": "stdout",
     "output_type": "stream",
     "text": [
      "Fitting 5 folds for each of 9 candidates, totalling 45 fits\n",
      "[CV] END ....learning_rate=0.1, loss=linear, n_estimators=10; total time=   0.1s\n",
      "[CV] END ....learning_rate=0.1, loss=linear, n_estimators=10; total time=   0.0s\n",
      "[CV] END ....learning_rate=0.1, loss=linear, n_estimators=10; total time=   0.0s\n",
      "[CV] END ....learning_rate=0.1, loss=linear, n_estimators=10; total time=   0.0s\n",
      "[CV] END ....learning_rate=0.1, loss=linear, n_estimators=10; total time=   0.0s\n",
      "[CV] END ....learning_rate=0.1, loss=linear, n_estimators=50; total time=   0.0s\n",
      "[CV] END ....learning_rate=0.1, loss=linear, n_estimators=50; total time=   0.0s\n",
      "[CV] END ....learning_rate=0.1, loss=linear, n_estimators=50; total time=   0.0s\n",
      "[CV] END ....learning_rate=0.1, loss=linear, n_estimators=50; total time=   0.0s\n",
      "[CV] END ....learning_rate=0.1, loss=linear, n_estimators=50; total time=   0.0s\n",
      "[CV] END ...learning_rate=0.1, loss=linear, n_estimators=100; total time=   0.2s\n",
      "[CV] END ...learning_rate=0.1, loss=linear, n_estimators=100; total time=   0.1s\n",
      "[CV] END ...learning_rate=0.1, loss=linear, n_estimators=100; total time=   0.1s\n",
      "[CV] END ...learning_rate=0.1, loss=linear, n_estimators=100; total time=   0.1s\n",
      "[CV] END ...learning_rate=0.1, loss=linear, n_estimators=100; total time=   0.1s\n",
      "[CV] END ....learning_rate=0.1, loss=square, n_estimators=10; total time=   0.0s\n",
      "[CV] END ....learning_rate=0.1, loss=square, n_estimators=10; total time=   0.0s\n",
      "[CV] END ....learning_rate=0.1, loss=square, n_estimators=10; total time=   0.0s\n",
      "[CV] END ....learning_rate=0.1, loss=square, n_estimators=10; total time=   0.0s\n",
      "[CV] END ....learning_rate=0.1, loss=square, n_estimators=10; total time=   0.0s\n",
      "[CV] END ....learning_rate=0.1, loss=square, n_estimators=50; total time=   0.0s\n",
      "[CV] END ....learning_rate=0.1, loss=square, n_estimators=50; total time=   0.0s\n",
      "[CV] END ....learning_rate=0.1, loss=square, n_estimators=50; total time=   0.0s\n",
      "[CV] END ....learning_rate=0.1, loss=square, n_estimators=50; total time=   0.0s\n",
      "[CV] END ....learning_rate=0.1, loss=square, n_estimators=50; total time=   0.0s\n",
      "[CV] END ...learning_rate=0.1, loss=square, n_estimators=100; total time=   0.2s\n",
      "[CV] END ...learning_rate=0.1, loss=square, n_estimators=100; total time=   0.1s\n",
      "[CV] END ...learning_rate=0.1, loss=square, n_estimators=100; total time=   0.2s\n",
      "[CV] END ...learning_rate=0.1, loss=square, n_estimators=100; total time=   0.2s\n",
      "[CV] END ...learning_rate=0.1, loss=square, n_estimators=100; total time=   0.2s\n",
      "[CV] END learning_rate=0.1, loss=exponential, n_estimators=10; total time=   0.0s\n",
      "[CV] END learning_rate=0.1, loss=exponential, n_estimators=10; total time=   0.0s\n",
      "[CV] END learning_rate=0.1, loss=exponential, n_estimators=10; total time=   0.0s\n",
      "[CV] END learning_rate=0.1, loss=exponential, n_estimators=10; total time=   0.0s\n",
      "[CV] END learning_rate=0.1, loss=exponential, n_estimators=10; total time=   0.0s\n",
      "[CV] END learning_rate=0.1, loss=exponential, n_estimators=50; total time=   0.1s\n",
      "[CV] END learning_rate=0.1, loss=exponential, n_estimators=50; total time=   0.1s\n",
      "[CV] END learning_rate=0.1, loss=exponential, n_estimators=50; total time=   0.1s\n",
      "[CV] END learning_rate=0.1, loss=exponential, n_estimators=50; total time=   0.0s\n",
      "[CV] END learning_rate=0.1, loss=exponential, n_estimators=50; total time=   0.0s\n",
      "[CV] END learning_rate=0.1, loss=exponential, n_estimators=100; total time=   0.2s\n",
      "[CV] END learning_rate=0.1, loss=exponential, n_estimators=100; total time=   0.2s\n",
      "[CV] END learning_rate=0.1, loss=exponential, n_estimators=100; total time=   0.1s\n",
      "[CV] END learning_rate=0.1, loss=exponential, n_estimators=100; total time=   0.2s\n",
      "[CV] END learning_rate=0.1, loss=exponential, n_estimators=100; total time=   0.2s\n"
     ]
    },
    {
     "data": {
      "text/plain": [
       "RandomizedSearchCV(cv=5, estimator=AdaBoostRegressor(),\n",
       "                   param_distributions={'learning_rate': [0.1],\n",
       "                                        'loss': ['linear', 'square',\n",
       "                                                 'exponential'],\n",
       "                                        'n_estimators': [10, 50, 100]},\n",
       "                   random_state=76, scoring='neg_mean_squared_error',\n",
       "                   verbose=2)"
      ]
     },
     "execution_count": 74,
     "metadata": {},
     "output_type": "execute_result"
    }
   ],
   "source": [
    "ab_random.fit(X_train,y_train)"
   ]
  },
  {
   "cell_type": "code",
   "execution_count": 75,
   "id": "f335ebdb",
   "metadata": {},
   "outputs": [
    {
     "data": {
      "text/plain": [
       "{'n_estimators': 100, 'loss': 'square', 'learning_rate': 0.1}"
      ]
     },
     "execution_count": 75,
     "metadata": {},
     "output_type": "execute_result"
    }
   ],
   "source": [
    "ab_random.best_params_"
   ]
  },
  {
   "cell_type": "code",
   "execution_count": 76,
   "id": "4ea84756",
   "metadata": {},
   "outputs": [
    {
     "name": "stdout",
     "output_type": "stream",
     "text": [
      "R2 score: 77.84919541899849\n"
     ]
    }
   ],
   "source": [
    "ab=AdaBoostRegressor(n_estimators=100,loss='square',learning_rate=0.1)\n",
    "ab.fit(X_train,y_train)\n",
    "ab.score(X_train,y_train)\n",
    "pred=ab.predict(X_test)\n",
    "abr=r2_score(y_test,pred)\n",
    "print('R2 score:',abr*100)"
   ]
  },
  {
   "cell_type": "markdown",
   "id": "2323eff2",
   "metadata": {},
   "source": [
    "R2 score after hyper parameter tuning is 77%"
   ]
  },
  {
   "cell_type": "code",
   "execution_count": null,
   "id": "db2b5286",
   "metadata": {},
   "outputs": [],
   "source": []
  }
 ],
 "metadata": {
  "kernelspec": {
   "display_name": "Python 3",
   "language": "python",
   "name": "python3"
  },
  "language_info": {
   "codemirror_mode": {
    "name": "ipython",
    "version": 3
   },
   "file_extension": ".py",
   "mimetype": "text/x-python",
   "name": "python",
   "nbconvert_exporter": "python",
   "pygments_lexer": "ipython3",
   "version": "3.8.8"
  }
 },
 "nbformat": 4,
 "nbformat_minor": 5
}
