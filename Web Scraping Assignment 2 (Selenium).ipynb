{
 "cells": [
  {
   "cell_type": "code",
   "execution_count": 710,
   "id": "f3c16357",
   "metadata": {},
   "outputs": [
    {
     "name": "stdout",
     "output_type": "stream",
     "text": [
      "Requirement already satisfied: selenium in c:\\programdata\\anaconda3\\lib\\site-packages (4.1.0)\n",
      "Requirement already satisfied: trio~=0.17 in c:\\programdata\\anaconda3\\lib\\site-packages (from selenium) (0.19.0)\n",
      "Requirement already satisfied: urllib3[secure]~=1.26 in c:\\programdata\\anaconda3\\lib\\site-packages (from selenium) (1.26.4)\n",
      "Requirement already satisfied: trio-websocket~=0.9 in c:\\programdata\\anaconda3\\lib\\site-packages (from selenium) (0.9.2)\n",
      "Requirement already satisfied: async-generator>=1.9 in c:\\programdata\\anaconda3\\lib\\site-packages (from trio~=0.17->selenium) (1.10)\n",
      "Requirement already satisfied: outcome in c:\\programdata\\anaconda3\\lib\\site-packages (from trio~=0.17->selenium) (1.1.0)\n",
      "Requirement already satisfied: idna in c:\\programdata\\anaconda3\\lib\\site-packages (from trio~=0.17->selenium) (2.10)\n",
      "Requirement already satisfied: cffi>=1.14 in c:\\programdata\\anaconda3\\lib\\site-packages (from trio~=0.17->selenium) (1.14.5)\n",
      "Requirement already satisfied: attrs>=19.2.0 in c:\\programdata\\anaconda3\\lib\\site-packages (from trio~=0.17->selenium) (20.3.0)\n",
      "Requirement already satisfied: sniffio in c:\\programdata\\anaconda3\\lib\\site-packages (from trio~=0.17->selenium) (1.2.0)\n",
      "Requirement already satisfied: sortedcontainers in c:\\programdata\\anaconda3\\lib\\site-packages (from trio~=0.17->selenium) (2.3.0)\n",
      "Requirement already satisfied: pycparser in c:\\programdata\\anaconda3\\lib\\site-packages (from cffi>=1.14->trio~=0.17->selenium) (2.20)\n",
      "Requirement already satisfied: wsproto>=0.14 in c:\\programdata\\anaconda3\\lib\\site-packages (from trio-websocket~=0.9->selenium) (1.0.0)\n",
      "Requirement already satisfied: pyOpenSSL>=0.14 in c:\\programdata\\anaconda3\\lib\\site-packages (from urllib3[secure]~=1.26->selenium) (20.0.1)\n",
      "Requirement already satisfied: certifi in c:\\programdata\\anaconda3\\lib\\site-packages (from urllib3[secure]~=1.26->selenium) (2020.12.5)\n",
      "Requirement already satisfied: cryptography>=1.3.4 in c:\\programdata\\anaconda3\\lib\\site-packages (from urllib3[secure]~=1.26->selenium) (3.4.7)\n",
      "Requirement already satisfied: six>=1.5.2 in c:\\programdata\\anaconda3\\lib\\site-packages (from pyOpenSSL>=0.14->urllib3[secure]~=1.26->selenium) (1.15.0)\n",
      "Requirement already satisfied: h11<1,>=0.9.0 in c:\\programdata\\anaconda3\\lib\\site-packages (from wsproto>=0.14->trio-websocket~=0.9->selenium) (0.12.0)\n"
     ]
    }
   ],
   "source": [
    "!pip install selenium"
   ]
  },
  {
   "cell_type": "code",
   "execution_count": 711,
   "id": "b2b3e4c2",
   "metadata": {},
   "outputs": [],
   "source": [
    "import selenium\n",
    "from selenium import webdriver\n",
    "import pandas as pd\n",
    "import warnings\n",
    "warnings.filterwarnings('ignore')"
   ]
  },
  {
   "cell_type": "code",
   "execution_count": 712,
   "id": "08afe11f",
   "metadata": {},
   "outputs": [],
   "source": [
    "#Lets first connect to the webdriver\n",
    "driver=webdriver.Chrome(r\"C:\\Users\\Admin\\Google Drive\\Download\\chromedriver_win32 (2)\\chromedriver.exe\")"
   ]
  },
  {
   "cell_type": "markdown",
   "id": "db05401f",
   "metadata": {},
   "source": [
    "#####  Q1.  Write a python program to scrape data for “Data Analyst” Job position in “Bangalore” location. You have to scrape the job-title, job-location, company_name, experience_required. You have to scrape first 10 jobs data."
   ]
  },
  {
   "cell_type": "code",
   "execution_count": 716,
   "id": "6695a400",
   "metadata": {},
   "outputs": [],
   "source": [
    "#  url on the web drive\n",
    "driver.get(\"https://www.naukri.com\")"
   ]
  },
  {
   "cell_type": "code",
   "execution_count": 722,
   "id": "23dab46d",
   "metadata": {},
   "outputs": [
    {
     "data": {
      "text/plain": [
       "<selenium.webdriver.remote.webelement.WebElement (session=\"dfffa76a7dea2ebef22ddf2c3909cd61\", element=\"f4ac2e2c-dedc-4837-8048-0de9643f0758\")>"
      ]
     },
     "execution_count": 722,
     "metadata": {},
     "output_type": "execute_result"
    }
   ],
   "source": [
    "#find_element for job search bar\n",
    "search_job=driver.find_element_by_xpath('/html/body/div/div[2]/div[3]/div/div/div[1]/div/div/div/input')\n",
    "search_job"
   ]
  },
  {
   "cell_type": "code",
   "execution_count": 723,
   "id": "d606cbea",
   "metadata": {},
   "outputs": [],
   "source": [
    "#write on search bar\n",
    "search_job.send_keys(\"Data Analyst\")"
   ]
  },
  {
   "cell_type": "code",
   "execution_count": 726,
   "id": "618773bb",
   "metadata": {},
   "outputs": [
    {
     "data": {
      "text/plain": [
       "<selenium.webdriver.remote.webelement.WebElement (session=\"dfffa76a7dea2ebef22ddf2c3909cd61\", element=\"cd405d43-3306-439b-8439-b4e411f2d82c\")>"
      ]
     },
     "execution_count": 726,
     "metadata": {},
     "output_type": "execute_result"
    }
   ],
   "source": [
    "#findind web elemnet for search location bar using absolute xpath\n",
    "search_locn=driver.find_element_by_xpath('/html/body/div/div[2]/div[3]/div/div/div[3]/div/div/div/input')\n",
    "search_locn"
   ]
  },
  {
   "cell_type": "code",
   "execution_count": 727,
   "id": "6e85eeb2",
   "metadata": {},
   "outputs": [],
   "source": [
    "#finding element for the job location bar\n",
    "search_locn.send_keys(\"Bangalore\")"
   ]
  },
  {
   "cell_type": "code",
   "execution_count": 729,
   "id": "c10b5355",
   "metadata": {},
   "outputs": [
    {
     "data": {
      "text/plain": [
       "<selenium.webdriver.remote.webelement.WebElement (session=\"dfffa76a7dea2ebef22ddf2c3909cd61\", element=\"901894e6-c086-4d4b-864d-d95c13d3e410\")>"
      ]
     },
     "execution_count": 729,
     "metadata": {},
     "output_type": "execute_result"
    }
   ],
   "source": [
    "search_btn=driver.find_element_by_xpath('/html/body/div/div[2]/div[3]/div/div/div[6]')\n",
    "search_btn"
   ]
  },
  {
   "cell_type": "code",
   "execution_count": 730,
   "id": "952f3d0a",
   "metadata": {},
   "outputs": [],
   "source": [
    "search_btn.click()"
   ]
  },
  {
   "cell_type": "code",
   "execution_count": 731,
   "id": "d8463385",
   "metadata": {},
   "outputs": [
    {
     "data": {
      "text/plain": [
       "[<selenium.webdriver.remote.webelement.WebElement (session=\"dfffa76a7dea2ebef22ddf2c3909cd61\", element=\"ac7e8cc7-9627-4b0b-8032-5becc6a8c03c\")>,\n",
       " <selenium.webdriver.remote.webelement.WebElement (session=\"dfffa76a7dea2ebef22ddf2c3909cd61\", element=\"2812e3e2-e2d8-40f5-9deb-db4b811872a3\")>,\n",
       " <selenium.webdriver.remote.webelement.WebElement (session=\"dfffa76a7dea2ebef22ddf2c3909cd61\", element=\"9e9e160e-cd8b-4d20-b068-8fbe7f21424f\")>,\n",
       " <selenium.webdriver.remote.webelement.WebElement (session=\"dfffa76a7dea2ebef22ddf2c3909cd61\", element=\"0fec2fbb-f5b7-4d93-aada-4ca0668eaf23\")>,\n",
       " <selenium.webdriver.remote.webelement.WebElement (session=\"dfffa76a7dea2ebef22ddf2c3909cd61\", element=\"9e46579f-53ab-46dc-b9b2-82eb997c9479\")>,\n",
       " <selenium.webdriver.remote.webelement.WebElement (session=\"dfffa76a7dea2ebef22ddf2c3909cd61\", element=\"226e2ec2-0a35-42ae-8c72-e4856d56e411\")>,\n",
       " <selenium.webdriver.remote.webelement.WebElement (session=\"dfffa76a7dea2ebef22ddf2c3909cd61\", element=\"3e07f078-a7f3-4b32-874c-c052ad8ffc7b\")>,\n",
       " <selenium.webdriver.remote.webelement.WebElement (session=\"dfffa76a7dea2ebef22ddf2c3909cd61\", element=\"165035e3-3ab5-4761-90ad-88ea987d8f25\")>,\n",
       " <selenium.webdriver.remote.webelement.WebElement (session=\"dfffa76a7dea2ebef22ddf2c3909cd61\", element=\"83aa0dbd-c203-4c2e-a318-292ff9984953\")>,\n",
       " <selenium.webdriver.remote.webelement.WebElement (session=\"dfffa76a7dea2ebef22ddf2c3909cd61\", element=\"f5b86a5c-9124-490d-93c2-5adb8dc6c6c2\")>,\n",
       " <selenium.webdriver.remote.webelement.WebElement (session=\"dfffa76a7dea2ebef22ddf2c3909cd61\", element=\"56a4bf6f-d43f-46b1-abe9-766a7e69d861\")>,\n",
       " <selenium.webdriver.remote.webelement.WebElement (session=\"dfffa76a7dea2ebef22ddf2c3909cd61\", element=\"2829b9a8-44a1-4f75-9408-f12f8cf0a821\")>,\n",
       " <selenium.webdriver.remote.webelement.WebElement (session=\"dfffa76a7dea2ebef22ddf2c3909cd61\", element=\"44d83f40-e3d5-4afe-823f-4df28310e9dc\")>,\n",
       " <selenium.webdriver.remote.webelement.WebElement (session=\"dfffa76a7dea2ebef22ddf2c3909cd61\", element=\"1dfdd8dd-891a-4c4a-8d08-74b0560ecd6c\")>,\n",
       " <selenium.webdriver.remote.webelement.WebElement (session=\"dfffa76a7dea2ebef22ddf2c3909cd61\", element=\"83ed0a32-3fdb-4fba-843d-a6e43e98d745\")>,\n",
       " <selenium.webdriver.remote.webelement.WebElement (session=\"dfffa76a7dea2ebef22ddf2c3909cd61\", element=\"8557f652-9dbd-4330-8325-9894362f720b\")>,\n",
       " <selenium.webdriver.remote.webelement.WebElement (session=\"dfffa76a7dea2ebef22ddf2c3909cd61\", element=\"cc0a0429-932a-4552-b7b4-26a7276741be\")>,\n",
       " <selenium.webdriver.remote.webelement.WebElement (session=\"dfffa76a7dea2ebef22ddf2c3909cd61\", element=\"a7c494cc-3290-4b77-9ee1-b706ba982091\")>,\n",
       " <selenium.webdriver.remote.webelement.WebElement (session=\"dfffa76a7dea2ebef22ddf2c3909cd61\", element=\"f1802d54-e060-43c0-99c6-0d1e2f409636\")>,\n",
       " <selenium.webdriver.remote.webelement.WebElement (session=\"dfffa76a7dea2ebef22ddf2c3909cd61\", element=\"d9c9cc65-2392-47c3-a8f9-b38d8708f097\")>]"
      ]
     },
     "execution_count": 731,
     "metadata": {},
     "output_type": "execute_result"
    }
   ],
   "source": [
    "title_tags=driver.find_elements_by_xpath('//a[@class=\"title fw500 ellipsis\"]')\n",
    "title_tags\n"
   ]
  },
  {
   "cell_type": "code",
   "execution_count": 732,
   "id": "9ee02807",
   "metadata": {},
   "outputs": [
    {
     "data": {
      "text/plain": [
       "['Junior Data Analyst/ Scientist- Fresher Position',\n",
       " 'Assistant Clinical Data Analyst',\n",
       " 'ESG - Data Analyst/Work from Home opportunity For fresher',\n",
       " 'Senior Data Analyst',\n",
       " 'Data Analyst',\n",
       " 'Data Analyst',\n",
       " 'Lead - Data Analyst / Scientist',\n",
       " 'Senior Data Analyst - CRM',\n",
       " 'Data Analyst',\n",
       " 'Consultant - Data Analyst']"
      ]
     },
     "execution_count": 732,
     "metadata": {},
     "output_type": "execute_result"
    }
   ],
   "source": [
    "#Extracting the text from these tags one by one by looping over these tags\n",
    "Job_titles=[]\n",
    "for i in title_tags:\n",
    "    Job_titles.append(i.text)\n",
    "Job_titles[:10]\n",
    "    "
   ]
  },
  {
   "cell_type": "code",
   "execution_count": 737,
   "id": "4e9ed2f3",
   "metadata": {},
   "outputs": [
    {
     "data": {
      "text/plain": [
       "['Sejal Consulting Hub',\n",
       " 'Labcorp Drug Development India Private Limited',\n",
       " 'SPI technologies india private limited',\n",
       " 'Flipkart',\n",
       " 'JEDI SERVICES PRIVATE LIMITED',\n",
       " 'Snaphunt',\n",
       " 'Axim Technologies',\n",
       " 'Gojek Tech',\n",
       " 'Flipkart',\n",
       " 'Flipkart']"
      ]
     },
     "execution_count": 737,
     "metadata": {},
     "output_type": "execute_result"
    }
   ],
   "source": [
    "#extracting all web elements having company names\n",
    "company_tags=driver.find_elements_by_xpath('//a[@class=\"subTitle ellipsis fleft\"]')\n",
    "\n",
    "company_names=[]\n",
    "for i in company_tags:\n",
    "    company_names.append(i.text)\n",
    "company_names[0:10]"
   ]
  },
  {
   "cell_type": "code",
   "execution_count": 784,
   "id": "35b8a248",
   "metadata": {},
   "outputs": [
    {
     "data": {
      "text/plain": [
       "['0-3 Yrs', '0-0 Yrs']"
      ]
     },
     "execution_count": 784,
     "metadata": {},
     "output_type": "execute_result"
    }
   ],
   "source": [
    "exp_tags=driver.find_elements_by_xpath('//span[@class=\"ellipsis fleft fs12 lh16 expwdth\"]')\n",
    "Experience=[]\n",
    "for i in exp_tags:\n",
    "    Experience.append(i.text)\n",
    "Experience[:10]"
   ]
  },
  {
   "cell_type": "code",
   "execution_count": 785,
   "id": "cd98cfa3",
   "metadata": {},
   "outputs": [
    {
     "data": {
      "text/plain": [
       "['0-3 Yrs', '0-0 Yrs']"
      ]
     },
     "execution_count": 785,
     "metadata": {},
     "output_type": "execute_result"
    }
   ],
   "source": [
    "# Experience=[]\n",
    "# for i in exp_tags:\n",
    "#     Experience.append(i.text)\n",
    "# Experience"
   ]
  },
  {
   "cell_type": "code",
   "execution_count": 780,
   "id": "f3859b70",
   "metadata": {},
   "outputs": [
    {
     "data": {
      "text/plain": [
       "['Not disclosed',\n",
       " '0-2 Yrs',\n",
       " 'Not disclosed',\n",
       " 'Bangalore/Bengaluru',\n",
       " 'Not disclosed',\n",
       " '4-6 Yrs',\n",
       " 'Not disclosed',\n",
       " 'Bengaluru/Bangalore',\n",
       " 'Any Graduate',\n",
       " '3,00,000 - 7,50,000 PA.']"
      ]
     },
     "execution_count": 780,
     "metadata": {},
     "output_type": "execute_result"
    }
   ],
   "source": [
    "locn_tags=driver.find_elements_by_xpath('//span[@class=\"ellipsis fleft fs12 lh16 \"]')\n",
    "Location=[]\n",
    "for i in locn_tags:\n",
    "    Location.append(i.text)\n",
    "Location[:10]"
   ]
  },
  {
   "cell_type": "code",
   "execution_count": 787,
   "id": "1b50b616",
   "metadata": {},
   "outputs": [
    {
     "data": {
      "text/plain": [
       "(20, 20, 2, 56)"
      ]
     },
     "execution_count": 787,
     "metadata": {},
     "output_type": "execute_result"
    }
   ],
   "source": [
    "len(Job_titles), len(company_names),len(Experience),len(Location)"
   ]
  },
  {
   "cell_type": "code",
   "execution_count": 786,
   "id": "852ee07f",
   "metadata": {},
   "outputs": [
    {
     "ename": "ValueError",
     "evalue": "Length of values (2) does not match length of index (20)",
     "output_type": "error",
     "traceback": [
      "\u001b[1;31m---------------------------------------------------------------------------\u001b[0m",
      "\u001b[1;31mValueError\u001b[0m                                Traceback (most recent call last)",
      "\u001b[1;32m<ipython-input-786-6f4f90ce3cff>\u001b[0m in \u001b[0;36m<module>\u001b[1;34m\u001b[0m\n\u001b[0;32m      2\u001b[0m \u001b[0mdf\u001b[0m\u001b[1;33m[\u001b[0m\u001b[1;34m'Job_titles'\u001b[0m\u001b[1;33m]\u001b[0m\u001b[1;33m=\u001b[0m\u001b[0mJob_titles\u001b[0m\u001b[1;33m\u001b[0m\u001b[1;33m\u001b[0m\u001b[0m\n\u001b[0;32m      3\u001b[0m \u001b[0mdf\u001b[0m\u001b[1;33m[\u001b[0m\u001b[1;34m'Company'\u001b[0m\u001b[1;33m]\u001b[0m\u001b[1;33m=\u001b[0m \u001b[0mcompany_names\u001b[0m\u001b[1;33m\u001b[0m\u001b[1;33m\u001b[0m\u001b[0m\n\u001b[1;32m----> 4\u001b[1;33m \u001b[0mdf\u001b[0m\u001b[1;33m[\u001b[0m\u001b[1;34m'Experience'\u001b[0m\u001b[1;33m]\u001b[0m\u001b[1;33m=\u001b[0m\u001b[0mExperience\u001b[0m\u001b[1;33m\u001b[0m\u001b[1;33m\u001b[0m\u001b[0m\n\u001b[0m\u001b[0;32m      5\u001b[0m \u001b[0mdf\u001b[0m\u001b[1;33m[\u001b[0m\u001b[1;34m'Location'\u001b[0m\u001b[1;33m]\u001b[0m\u001b[1;33m=\u001b[0m\u001b[0mLocation\u001b[0m\u001b[1;33m\u001b[0m\u001b[1;33m\u001b[0m\u001b[0m\n\u001b[0;32m      6\u001b[0m \u001b[0mdf\u001b[0m\u001b[1;33m\u001b[0m\u001b[1;33m\u001b[0m\u001b[0m\n",
      "\u001b[1;32mC:\\ProgramData\\Anaconda3\\lib\\site-packages\\pandas\\core\\frame.py\u001b[0m in \u001b[0;36m__setitem__\u001b[1;34m(self, key, value)\u001b[0m\n\u001b[0;32m   3161\u001b[0m         \u001b[1;32melse\u001b[0m\u001b[1;33m:\u001b[0m\u001b[1;33m\u001b[0m\u001b[1;33m\u001b[0m\u001b[0m\n\u001b[0;32m   3162\u001b[0m             \u001b[1;31m# set column\u001b[0m\u001b[1;33m\u001b[0m\u001b[1;33m\u001b[0m\u001b[1;33m\u001b[0m\u001b[0m\n\u001b[1;32m-> 3163\u001b[1;33m             \u001b[0mself\u001b[0m\u001b[1;33m.\u001b[0m\u001b[0m_set_item\u001b[0m\u001b[1;33m(\u001b[0m\u001b[0mkey\u001b[0m\u001b[1;33m,\u001b[0m \u001b[0mvalue\u001b[0m\u001b[1;33m)\u001b[0m\u001b[1;33m\u001b[0m\u001b[1;33m\u001b[0m\u001b[0m\n\u001b[0m\u001b[0;32m   3164\u001b[0m \u001b[1;33m\u001b[0m\u001b[0m\n\u001b[0;32m   3165\u001b[0m     \u001b[1;32mdef\u001b[0m \u001b[0m_setitem_slice\u001b[0m\u001b[1;33m(\u001b[0m\u001b[0mself\u001b[0m\u001b[1;33m,\u001b[0m \u001b[0mkey\u001b[0m\u001b[1;33m:\u001b[0m \u001b[0mslice\u001b[0m\u001b[1;33m,\u001b[0m \u001b[0mvalue\u001b[0m\u001b[1;33m)\u001b[0m\u001b[1;33m:\u001b[0m\u001b[1;33m\u001b[0m\u001b[1;33m\u001b[0m\u001b[0m\n",
      "\u001b[1;32mC:\\ProgramData\\Anaconda3\\lib\\site-packages\\pandas\\core\\frame.py\u001b[0m in \u001b[0;36m_set_item\u001b[1;34m(self, key, value)\u001b[0m\n\u001b[0;32m   3240\u001b[0m         \"\"\"\n\u001b[0;32m   3241\u001b[0m         \u001b[0mself\u001b[0m\u001b[1;33m.\u001b[0m\u001b[0m_ensure_valid_index\u001b[0m\u001b[1;33m(\u001b[0m\u001b[0mvalue\u001b[0m\u001b[1;33m)\u001b[0m\u001b[1;33m\u001b[0m\u001b[1;33m\u001b[0m\u001b[0m\n\u001b[1;32m-> 3242\u001b[1;33m         \u001b[0mvalue\u001b[0m \u001b[1;33m=\u001b[0m \u001b[0mself\u001b[0m\u001b[1;33m.\u001b[0m\u001b[0m_sanitize_column\u001b[0m\u001b[1;33m(\u001b[0m\u001b[0mkey\u001b[0m\u001b[1;33m,\u001b[0m \u001b[0mvalue\u001b[0m\u001b[1;33m)\u001b[0m\u001b[1;33m\u001b[0m\u001b[1;33m\u001b[0m\u001b[0m\n\u001b[0m\u001b[0;32m   3243\u001b[0m         \u001b[0mNDFrame\u001b[0m\u001b[1;33m.\u001b[0m\u001b[0m_set_item\u001b[0m\u001b[1;33m(\u001b[0m\u001b[0mself\u001b[0m\u001b[1;33m,\u001b[0m \u001b[0mkey\u001b[0m\u001b[1;33m,\u001b[0m \u001b[0mvalue\u001b[0m\u001b[1;33m)\u001b[0m\u001b[1;33m\u001b[0m\u001b[1;33m\u001b[0m\u001b[0m\n\u001b[0;32m   3244\u001b[0m \u001b[1;33m\u001b[0m\u001b[0m\n",
      "\u001b[1;32mC:\\ProgramData\\Anaconda3\\lib\\site-packages\\pandas\\core\\frame.py\u001b[0m in \u001b[0;36m_sanitize_column\u001b[1;34m(self, key, value, broadcast)\u001b[0m\n\u001b[0;32m   3897\u001b[0m \u001b[1;33m\u001b[0m\u001b[0m\n\u001b[0;32m   3898\u001b[0m             \u001b[1;31m# turn me into an ndarray\u001b[0m\u001b[1;33m\u001b[0m\u001b[1;33m\u001b[0m\u001b[1;33m\u001b[0m\u001b[0m\n\u001b[1;32m-> 3899\u001b[1;33m             \u001b[0mvalue\u001b[0m \u001b[1;33m=\u001b[0m \u001b[0msanitize_index\u001b[0m\u001b[1;33m(\u001b[0m\u001b[0mvalue\u001b[0m\u001b[1;33m,\u001b[0m \u001b[0mself\u001b[0m\u001b[1;33m.\u001b[0m\u001b[0mindex\u001b[0m\u001b[1;33m)\u001b[0m\u001b[1;33m\u001b[0m\u001b[1;33m\u001b[0m\u001b[0m\n\u001b[0m\u001b[0;32m   3900\u001b[0m             \u001b[1;32mif\u001b[0m \u001b[1;32mnot\u001b[0m \u001b[0misinstance\u001b[0m\u001b[1;33m(\u001b[0m\u001b[0mvalue\u001b[0m\u001b[1;33m,\u001b[0m \u001b[1;33m(\u001b[0m\u001b[0mnp\u001b[0m\u001b[1;33m.\u001b[0m\u001b[0mndarray\u001b[0m\u001b[1;33m,\u001b[0m \u001b[0mIndex\u001b[0m\u001b[1;33m)\u001b[0m\u001b[1;33m)\u001b[0m\u001b[1;33m:\u001b[0m\u001b[1;33m\u001b[0m\u001b[1;33m\u001b[0m\u001b[0m\n\u001b[0;32m   3901\u001b[0m                 \u001b[1;32mif\u001b[0m \u001b[0misinstance\u001b[0m\u001b[1;33m(\u001b[0m\u001b[0mvalue\u001b[0m\u001b[1;33m,\u001b[0m \u001b[0mlist\u001b[0m\u001b[1;33m)\u001b[0m \u001b[1;32mand\u001b[0m \u001b[0mlen\u001b[0m\u001b[1;33m(\u001b[0m\u001b[0mvalue\u001b[0m\u001b[1;33m)\u001b[0m \u001b[1;33m>\u001b[0m \u001b[1;36m0\u001b[0m\u001b[1;33m:\u001b[0m\u001b[1;33m\u001b[0m\u001b[1;33m\u001b[0m\u001b[0m\n",
      "\u001b[1;32mC:\\ProgramData\\Anaconda3\\lib\\site-packages\\pandas\\core\\internals\\construction.py\u001b[0m in \u001b[0;36msanitize_index\u001b[1;34m(data, index)\u001b[0m\n\u001b[0;32m    749\u001b[0m     \"\"\"\n\u001b[0;32m    750\u001b[0m     \u001b[1;32mif\u001b[0m \u001b[0mlen\u001b[0m\u001b[1;33m(\u001b[0m\u001b[0mdata\u001b[0m\u001b[1;33m)\u001b[0m \u001b[1;33m!=\u001b[0m \u001b[0mlen\u001b[0m\u001b[1;33m(\u001b[0m\u001b[0mindex\u001b[0m\u001b[1;33m)\u001b[0m\u001b[1;33m:\u001b[0m\u001b[1;33m\u001b[0m\u001b[1;33m\u001b[0m\u001b[0m\n\u001b[1;32m--> 751\u001b[1;33m         raise ValueError(\n\u001b[0m\u001b[0;32m    752\u001b[0m             \u001b[1;34m\"Length of values \"\u001b[0m\u001b[1;33m\u001b[0m\u001b[1;33m\u001b[0m\u001b[0m\n\u001b[0;32m    753\u001b[0m             \u001b[1;34mf\"({len(data)}) \"\u001b[0m\u001b[1;33m\u001b[0m\u001b[1;33m\u001b[0m\u001b[0m\n",
      "\u001b[1;31mValueError\u001b[0m: Length of values (2) does not match length of index (20)"
     ]
    }
   ],
   "source": [
    "df=pd.DataFrame()\n",
    "df['Job_titles']=Job_titles\n",
    "df['Company']= company_names\n",
    "df['Experience']=Experience\n",
    "df['Location']=Location\n",
    "df"
   ]
  },
  {
   "cell_type": "markdown",
   "id": "33f74eec",
   "metadata": {},
   "source": [
    "##### Q2 . Write a python program to scrape data for “Data Scientist” Job position in “Bangalore” location. You have to scrape the job-title, job-location, company_name"
   ]
  },
  {
   "cell_type": "code",
   "execution_count": 684,
   "id": "b0ceebbe",
   "metadata": {},
   "outputs": [],
   "source": [
    "#importing all the required libraries\n",
    "import selenium\n",
    "import pandas as pd\n",
    "from selenium import webdriver\n",
    "import time"
   ]
  },
  {
   "cell_type": "code",
   "execution_count": 685,
   "id": "02919f29",
   "metadata": {},
   "outputs": [],
   "source": [
    "#Lets first connect to the webdriver\n",
    "driver=webdriver.Chrome(r\"C:\\Users\\Admin\\Google Drive\\Download\\chromedriver_win32 (2)\\chromedriver.exe\")"
   ]
  },
  {
   "cell_type": "code",
   "execution_count": 686,
   "id": "0da7c57b",
   "metadata": {},
   "outputs": [],
   "source": [
    "#get the webpage of https://www.naukri.com/\n",
    "url='https://www.naukri.com/'\n",
    "driver.get(url)"
   ]
  },
  {
   "cell_type": "code",
   "execution_count": 687,
   "id": "957cfe4d",
   "metadata": {},
   "outputs": [
    {
     "data": {
      "text/plain": [
       "<selenium.webdriver.remote.webelement.WebElement (session=\"2cf78359343a11ed358b0c0ce055c400\", element=\"33e1eb47-e74c-411a-a478-68d7e756036d\")>"
      ]
     },
     "execution_count": 687,
     "metadata": {},
     "output_type": "execute_result"
    }
   ],
   "source": [
    "#Now scrape data for “Data Scientist” .\n",
    "search_job=driver.find_element_by_xpath('/html/body/div/div[2]/div[3]/div/div/div[1]/div/div/div/input')\n",
    "search_job"
   ]
  },
  {
   "cell_type": "code",
   "execution_count": 688,
   "id": "6255f2af",
   "metadata": {},
   "outputs": [],
   "source": [
    "search_job.send_keys('Data Scientist')"
   ]
  },
  {
   "cell_type": "code",
   "execution_count": 689,
   "id": "b5b18023",
   "metadata": {},
   "outputs": [
    {
     "data": {
      "text/plain": [
       "<selenium.webdriver.remote.webelement.WebElement (session=\"2cf78359343a11ed358b0c0ce055c400\", element=\"b8b88e02-f6ed-4639-8c0b-69d7e8900202\")>"
      ]
     },
     "execution_count": 689,
     "metadata": {},
     "output_type": "execute_result"
    }
   ],
   "source": [
    "#Job position in “Bangalore” location\n",
    "search_locn=driver.find_element_by_xpath('/html/body/div/div[2]/div[3]/div/div/div[3]/div/div/div/input')\n",
    "search_locn"
   ]
  },
  {
   "cell_type": "code",
   "execution_count": 693,
   "id": "43205ab6",
   "metadata": {},
   "outputs": [],
   "source": [
    "search_locn.send_keys('Bangalore')"
   ]
  },
  {
   "cell_type": "code",
   "execution_count": 694,
   "id": "e9666a1d",
   "metadata": {},
   "outputs": [],
   "source": [
    "search_btn=driver.find_element_by_xpath('/html/body/div/div[2]/div[3]/div/div/div[6]')"
   ]
  },
  {
   "cell_type": "code",
   "execution_count": 695,
   "id": "286ad01a",
   "metadata": {},
   "outputs": [],
   "source": [
    "search_btn.click()"
   ]
  },
  {
   "cell_type": "code",
   "execution_count": 696,
   "id": "4aed2a9e",
   "metadata": {},
   "outputs": [
    {
     "data": {
      "text/plain": [
       "[<selenium.webdriver.remote.webelement.WebElement (session=\"2cf78359343a11ed358b0c0ce055c400\", element=\"da91ca50-20b5-49fe-8b90-5eba44727cd7\")>,\n",
       " <selenium.webdriver.remote.webelement.WebElement (session=\"2cf78359343a11ed358b0c0ce055c400\", element=\"6f2b817e-e3e2-45f4-bec5-5d0d01eb1d53\")>,\n",
       " <selenium.webdriver.remote.webelement.WebElement (session=\"2cf78359343a11ed358b0c0ce055c400\", element=\"1a0b139d-150e-4df1-a9b2-b0eddc47b49b\")>,\n",
       " <selenium.webdriver.remote.webelement.WebElement (session=\"2cf78359343a11ed358b0c0ce055c400\", element=\"f779e129-8df4-43fe-8d0f-fa29efeb9b09\")>,\n",
       " <selenium.webdriver.remote.webelement.WebElement (session=\"2cf78359343a11ed358b0c0ce055c400\", element=\"22db9c5f-78d7-4aa4-9330-87c2723d644f\")>,\n",
       " <selenium.webdriver.remote.webelement.WebElement (session=\"2cf78359343a11ed358b0c0ce055c400\", element=\"39975c1e-fdb8-47ed-9285-8f910509e5f2\")>,\n",
       " <selenium.webdriver.remote.webelement.WebElement (session=\"2cf78359343a11ed358b0c0ce055c400\", element=\"f9b4fed9-fd53-412c-b278-f4499a0a8600\")>,\n",
       " <selenium.webdriver.remote.webelement.WebElement (session=\"2cf78359343a11ed358b0c0ce055c400\", element=\"d9e2eb01-fbaa-439b-a7e7-172c58d217a1\")>,\n",
       " <selenium.webdriver.remote.webelement.WebElement (session=\"2cf78359343a11ed358b0c0ce055c400\", element=\"5d75c16a-5a44-45f1-b32f-369b4942efdf\")>,\n",
       " <selenium.webdriver.remote.webelement.WebElement (session=\"2cf78359343a11ed358b0c0ce055c400\", element=\"0b30c285-c294-42db-a0f8-719a79753f9c\")>,\n",
       " <selenium.webdriver.remote.webelement.WebElement (session=\"2cf78359343a11ed358b0c0ce055c400\", element=\"6a52ef81-171b-4bd4-9831-3b8fb8bbc1db\")>,\n",
       " <selenium.webdriver.remote.webelement.WebElement (session=\"2cf78359343a11ed358b0c0ce055c400\", element=\"aac0ec0b-8536-46eb-af92-40501f61638c\")>,\n",
       " <selenium.webdriver.remote.webelement.WebElement (session=\"2cf78359343a11ed358b0c0ce055c400\", element=\"4f706087-1dbc-44e0-8a64-990bc214f994\")>,\n",
       " <selenium.webdriver.remote.webelement.WebElement (session=\"2cf78359343a11ed358b0c0ce055c400\", element=\"4dfc93bd-4168-4017-a4d7-4eb8fa38b719\")>,\n",
       " <selenium.webdriver.remote.webelement.WebElement (session=\"2cf78359343a11ed358b0c0ce055c400\", element=\"2950890a-df1c-4422-ad41-7ce3ce89af37\")>,\n",
       " <selenium.webdriver.remote.webelement.WebElement (session=\"2cf78359343a11ed358b0c0ce055c400\", element=\"b3a39ffd-e0c1-447c-b4df-556224c547e7\")>,\n",
       " <selenium.webdriver.remote.webelement.WebElement (session=\"2cf78359343a11ed358b0c0ce055c400\", element=\"9c4c42cf-bf49-4548-96fa-34f24f70da04\")>,\n",
       " <selenium.webdriver.remote.webelement.WebElement (session=\"2cf78359343a11ed358b0c0ce055c400\", element=\"6dce22df-3e0a-4bfc-83fc-1082351d4d08\")>,\n",
       " <selenium.webdriver.remote.webelement.WebElement (session=\"2cf78359343a11ed358b0c0ce055c400\", element=\"ae941726-4cb7-4366-bb94-6cfbbd037406\")>,\n",
       " <selenium.webdriver.remote.webelement.WebElement (session=\"2cf78359343a11ed358b0c0ce055c400\", element=\"1fcfff49-f147-438c-b563-2f11f6651acd\")>]"
      ]
     },
     "execution_count": 696,
     "metadata": {},
     "output_type": "execute_result"
    }
   ],
   "source": [
    "#Lets extract all the tags having the job-titles\n",
    "titles_tags=driver.find_elements_by_xpath(\"//a[@class='title fw500 ellipsis']\")\n",
    "titles_tags"
   ]
  },
  {
   "cell_type": "code",
   "execution_count": 697,
   "id": "7f38c364",
   "metadata": {},
   "outputs": [
    {
     "data": {
      "text/plain": [
       "['Sr Data Scientist',\n",
       " 'Associate Data Scientist',\n",
       " 'Junior Programmer - Data Scientist',\n",
       " 'Senior/Lead Data Scientist - (Revenue Management)',\n",
       " 'Senior/Lead - Data Scientist (Supply Chain)',\n",
       " 'Lead/Senior Data Scientist (NLP)',\n",
       " 'Junior Data Analyst/ Scientist- Fresher Position',\n",
       " 'Associate Data Scientist',\n",
       " 'Senior Data Scientist',\n",
       " 'Senior Data Scientist']"
      ]
     },
     "execution_count": 697,
     "metadata": {},
     "output_type": "execute_result"
    }
   ],
   "source": [
    "#Extracting the text from these tags one by one by looping over these tags\n",
    "job_titles=[]\n",
    "for i in titles_tags:\n",
    "    job_titles.append(i.text)\n",
    "job_titles[:10]"
   ]
  },
  {
   "cell_type": "code",
   "execution_count": 698,
   "id": "04ca5109",
   "metadata": {},
   "outputs": [
    {
     "data": {
      "text/plain": [
       "[<selenium.webdriver.remote.webelement.WebElement (session=\"2cf78359343a11ed358b0c0ce055c400\", element=\"e1db40b8-3bc9-4f06-82b0-1a3da1e8e910\")>,\n",
       " <selenium.webdriver.remote.webelement.WebElement (session=\"2cf78359343a11ed358b0c0ce055c400\", element=\"f5fb4035-a1c3-41a1-b80c-10f19f384815\")>,\n",
       " <selenium.webdriver.remote.webelement.WebElement (session=\"2cf78359343a11ed358b0c0ce055c400\", element=\"6244c82e-2751-4fa3-9e44-ffb0f5995ef8\")>,\n",
       " <selenium.webdriver.remote.webelement.WebElement (session=\"2cf78359343a11ed358b0c0ce055c400\", element=\"2b0d18a0-f65f-4c0c-898d-5e9e8f6bfc4d\")>,\n",
       " <selenium.webdriver.remote.webelement.WebElement (session=\"2cf78359343a11ed358b0c0ce055c400\", element=\"0f0efa21-04bf-4122-9e8d-ca4c4faf3ded\")>,\n",
       " <selenium.webdriver.remote.webelement.WebElement (session=\"2cf78359343a11ed358b0c0ce055c400\", element=\"8a76ef11-8e0f-4088-a521-12c34b7dd284\")>,\n",
       " <selenium.webdriver.remote.webelement.WebElement (session=\"2cf78359343a11ed358b0c0ce055c400\", element=\"6baa6fe4-98a0-4a50-880a-1b8b760794b1\")>,\n",
       " <selenium.webdriver.remote.webelement.WebElement (session=\"2cf78359343a11ed358b0c0ce055c400\", element=\"fe480016-7540-41ba-90eb-816fb9d7a4c2\")>,\n",
       " <selenium.webdriver.remote.webelement.WebElement (session=\"2cf78359343a11ed358b0c0ce055c400\", element=\"216d46ef-f315-491d-896f-9736211377f7\")>,\n",
       " <selenium.webdriver.remote.webelement.WebElement (session=\"2cf78359343a11ed358b0c0ce055c400\", element=\"4e36662b-773b-43fa-a202-baed73143cfb\")>,\n",
       " <selenium.webdriver.remote.webelement.WebElement (session=\"2cf78359343a11ed358b0c0ce055c400\", element=\"09c62d1e-6ea3-42e0-be67-33b319a1fceb\")>,\n",
       " <selenium.webdriver.remote.webelement.WebElement (session=\"2cf78359343a11ed358b0c0ce055c400\", element=\"e0de0e6c-eaf7-47af-9bd7-6579828932c8\")>,\n",
       " <selenium.webdriver.remote.webelement.WebElement (session=\"2cf78359343a11ed358b0c0ce055c400\", element=\"102b73da-1251-4344-b766-fac4657f9e23\")>,\n",
       " <selenium.webdriver.remote.webelement.WebElement (session=\"2cf78359343a11ed358b0c0ce055c400\", element=\"4a4fdf12-5a1c-4178-ba51-7d8fe9647ca3\")>,\n",
       " <selenium.webdriver.remote.webelement.WebElement (session=\"2cf78359343a11ed358b0c0ce055c400\", element=\"7bdbc02e-28aa-47ce-b3a3-7cefa02d9b44\")>,\n",
       " <selenium.webdriver.remote.webelement.WebElement (session=\"2cf78359343a11ed358b0c0ce055c400\", element=\"45937a01-b771-4faa-acfc-54d17065b953\")>,\n",
       " <selenium.webdriver.remote.webelement.WebElement (session=\"2cf78359343a11ed358b0c0ce055c400\", element=\"71dc6c5f-4d09-44d6-bda1-93cbc9c34722\")>,\n",
       " <selenium.webdriver.remote.webelement.WebElement (session=\"2cf78359343a11ed358b0c0ce055c400\", element=\"35d798ff-0037-4fcf-b1d0-6264ad0c315b\")>,\n",
       " <selenium.webdriver.remote.webelement.WebElement (session=\"2cf78359343a11ed358b0c0ce055c400\", element=\"031168e1-9c75-4805-bd8d-6f601f36d795\")>,\n",
       " <selenium.webdriver.remote.webelement.WebElement (session=\"2cf78359343a11ed358b0c0ce055c400\", element=\"025200bd-febc-405d-a7a2-fdf6d888fe33\")>]"
      ]
     },
     "execution_count": 698,
     "metadata": {},
     "output_type": "execute_result"
    }
   ],
   "source": [
    "#lets extract all the tags having the location of the job\n",
    "locations_tags=driver.find_elements_by_xpath(\"//li[@class='fleft grey-text br2 placeHolderLi location']\")\n",
    "locations_tags"
   ]
  },
  {
   "cell_type": "code",
   "execution_count": 699,
   "id": "e36e9d4c",
   "metadata": {},
   "outputs": [
    {
     "data": {
      "text/plain": [
       "['Bangalore/Bengaluru',\n",
       " 'Chennai, Bangalore/Bengaluru',\n",
       " 'Bangalore/Bengaluru',\n",
       " 'Bangalore/Bengaluru',\n",
       " 'Bangalore/Bengaluru',\n",
       " 'Bangalore/Bengaluru\\n(WFH during Covid)',\n",
       " 'Kolkata, Gurgaon/Gurugram, Bangalore/Bengaluru\\n(WFH during Covid)',\n",
       " 'Chennai',\n",
       " 'Bangalore/Bengaluru',\n",
       " 'Bangalore/Bengaluru']"
      ]
     },
     "execution_count": 699,
     "metadata": {},
     "output_type": "execute_result"
    }
   ],
   "source": [
    "#Extracting the text from these tags one by one by looping over these tags\n",
    "locations_list=[]\n",
    "for i in locations_tags:\n",
    "    locations_list.append(i.text)\n",
    "locations_list[:10]"
   ]
  },
  {
   "cell_type": "code",
   "execution_count": 700,
   "id": "3cedce1d",
   "metadata": {},
   "outputs": [
    {
     "data": {
      "text/plain": [
       "[<selenium.webdriver.remote.webelement.WebElement (session=\"2cf78359343a11ed358b0c0ce055c400\", element=\"ef755214-69f4-469b-bf31-2a0e9faeaa30\")>,\n",
       " <selenium.webdriver.remote.webelement.WebElement (session=\"2cf78359343a11ed358b0c0ce055c400\", element=\"6a5d73c2-74f2-4d93-9ffd-061d71df8672\")>,\n",
       " <selenium.webdriver.remote.webelement.WebElement (session=\"2cf78359343a11ed358b0c0ce055c400\", element=\"fab9c2de-39e6-4482-b970-df1d45766959\")>,\n",
       " <selenium.webdriver.remote.webelement.WebElement (session=\"2cf78359343a11ed358b0c0ce055c400\", element=\"3c153277-512d-40ef-80ee-8f5fdbfece9b\")>,\n",
       " <selenium.webdriver.remote.webelement.WebElement (session=\"2cf78359343a11ed358b0c0ce055c400\", element=\"aaae7707-b899-4e3f-bf70-e4de1e98363c\")>,\n",
       " <selenium.webdriver.remote.webelement.WebElement (session=\"2cf78359343a11ed358b0c0ce055c400\", element=\"77b4c8cc-0d4a-4541-b7a2-f614f099da74\")>,\n",
       " <selenium.webdriver.remote.webelement.WebElement (session=\"2cf78359343a11ed358b0c0ce055c400\", element=\"9b325848-9701-4cc9-a4b7-a8374e488362\")>,\n",
       " <selenium.webdriver.remote.webelement.WebElement (session=\"2cf78359343a11ed358b0c0ce055c400\", element=\"00735246-67ec-4da9-9920-f1009fbe97fa\")>,\n",
       " <selenium.webdriver.remote.webelement.WebElement (session=\"2cf78359343a11ed358b0c0ce055c400\", element=\"1d24ca35-0683-4440-aaba-a20b2b2c68bf\")>,\n",
       " <selenium.webdriver.remote.webelement.WebElement (session=\"2cf78359343a11ed358b0c0ce055c400\", element=\"c394dcef-9e66-4b73-8e56-7d591668aa7f\")>,\n",
       " <selenium.webdriver.remote.webelement.WebElement (session=\"2cf78359343a11ed358b0c0ce055c400\", element=\"34551afe-be67-442e-8f82-8161f8d85302\")>,\n",
       " <selenium.webdriver.remote.webelement.WebElement (session=\"2cf78359343a11ed358b0c0ce055c400\", element=\"15c95689-31fd-4baa-8932-1c39e4a38097\")>,\n",
       " <selenium.webdriver.remote.webelement.WebElement (session=\"2cf78359343a11ed358b0c0ce055c400\", element=\"6fd0452a-5c45-4939-836e-a9cbf076c079\")>,\n",
       " <selenium.webdriver.remote.webelement.WebElement (session=\"2cf78359343a11ed358b0c0ce055c400\", element=\"65ff9ffc-2dc4-4262-a8fc-902bae97dc2f\")>,\n",
       " <selenium.webdriver.remote.webelement.WebElement (session=\"2cf78359343a11ed358b0c0ce055c400\", element=\"1e474faf-e05d-4988-b967-398e8e580d24\")>,\n",
       " <selenium.webdriver.remote.webelement.WebElement (session=\"2cf78359343a11ed358b0c0ce055c400\", element=\"d4493a50-ff77-45ad-91ff-2b6272f9241c\")>,\n",
       " <selenium.webdriver.remote.webelement.WebElement (session=\"2cf78359343a11ed358b0c0ce055c400\", element=\"cfa9b3ee-d7b6-4d8e-995a-cea586bd859d\")>,\n",
       " <selenium.webdriver.remote.webelement.WebElement (session=\"2cf78359343a11ed358b0c0ce055c400\", element=\"08c9e8a7-51b6-4a2f-bcc9-e7a6de31983e\")>,\n",
       " <selenium.webdriver.remote.webelement.WebElement (session=\"2cf78359343a11ed358b0c0ce055c400\", element=\"b86c0d9f-909b-4a92-b298-08bff6704330\")>,\n",
       " <selenium.webdriver.remote.webelement.WebElement (session=\"2cf78359343a11ed358b0c0ce055c400\", element=\"707cf513-4492-4380-8b25-d2b009ec7523\")>]"
      ]
     },
     "execution_count": 700,
     "metadata": {},
     "output_type": "execute_result"
    }
   ],
   "source": [
    "#lets extract all the tags having the company names\n",
    "companies_tags=driver.find_elements_by_xpath(\"//a[@class='subTitle ellipsis fleft']\")\n",
    "companies_tags"
   ]
  },
  {
   "cell_type": "code",
   "execution_count": 701,
   "id": "526ea850",
   "metadata": {},
   "outputs": [
    {
     "data": {
      "text/plain": [
       "['Siemens',\n",
       " 'Shell',\n",
       " 'GSK India',\n",
       " 'o9 Solutions Management India Private Limited',\n",
       " 'o9 Solutions Management India Private Limited',\n",
       " 'Samya.AI A FRACTAL Entity',\n",
       " 'Sejal Consulting Hub',\n",
       " 'Shell',\n",
       " 'Dell',\n",
       " 'Dell']"
      ]
     },
     "execution_count": 701,
     "metadata": {},
     "output_type": "execute_result"
    }
   ],
   "source": [
    "#Extracting the text from these tags one by one by looping over these tags\n",
    "company_names=[]\n",
    "for i in companies_tags:\n",
    "    company_names.append(i.text)\n",
    "company_names[:10]"
   ]
  },
  {
   "cell_type": "code",
   "execution_count": 702,
   "id": "102223ba",
   "metadata": {},
   "outputs": [
    {
     "data": {
      "text/plain": [
       "(20, 20, 20)"
      ]
     },
     "execution_count": 702,
     "metadata": {},
     "output_type": "execute_result"
    }
   ],
   "source": [
    "len(locations_list),len(company_names),len(job_titles)"
   ]
  },
  {
   "cell_type": "code",
   "execution_count": 704,
   "id": "91bc7840",
   "metadata": {},
   "outputs": [
    {
     "data": {
      "text/html": [
       "<div>\n",
       "<style scoped>\n",
       "    .dataframe tbody tr th:only-of-type {\n",
       "        vertical-align: middle;\n",
       "    }\n",
       "\n",
       "    .dataframe tbody tr th {\n",
       "        vertical-align: top;\n",
       "    }\n",
       "\n",
       "    .dataframe thead th {\n",
       "        text-align: right;\n",
       "    }\n",
       "</style>\n",
       "<table border=\"1\" class=\"dataframe\">\n",
       "  <thead>\n",
       "    <tr style=\"text-align: right;\">\n",
       "      <th></th>\n",
       "      <th>Title</th>\n",
       "      <th>Location</th>\n",
       "      <th>Company</th>\n",
       "    </tr>\n",
       "  </thead>\n",
       "  <tbody>\n",
       "    <tr>\n",
       "      <th>0</th>\n",
       "      <td>Sr Data Scientist</td>\n",
       "      <td>Bangalore/Bengaluru</td>\n",
       "      <td>Siemens</td>\n",
       "    </tr>\n",
       "    <tr>\n",
       "      <th>1</th>\n",
       "      <td>Associate Data Scientist</td>\n",
       "      <td>Chennai, Bangalore/Bengaluru</td>\n",
       "      <td>Shell</td>\n",
       "    </tr>\n",
       "    <tr>\n",
       "      <th>2</th>\n",
       "      <td>Junior Programmer - Data Scientist</td>\n",
       "      <td>Bangalore/Bengaluru</td>\n",
       "      <td>GSK India</td>\n",
       "    </tr>\n",
       "    <tr>\n",
       "      <th>3</th>\n",
       "      <td>Senior/Lead Data Scientist - (Revenue Management)</td>\n",
       "      <td>Bangalore/Bengaluru</td>\n",
       "      <td>o9 Solutions Management India Private Limited</td>\n",
       "    </tr>\n",
       "    <tr>\n",
       "      <th>4</th>\n",
       "      <td>Senior/Lead - Data Scientist (Supply Chain)</td>\n",
       "      <td>Bangalore/Bengaluru</td>\n",
       "      <td>o9 Solutions Management India Private Limited</td>\n",
       "    </tr>\n",
       "    <tr>\n",
       "      <th>5</th>\n",
       "      <td>Lead/Senior Data Scientist (NLP)</td>\n",
       "      <td>Bangalore/Bengaluru\\n(WFH during Covid)</td>\n",
       "      <td>Samya.AI A FRACTAL Entity</td>\n",
       "    </tr>\n",
       "    <tr>\n",
       "      <th>6</th>\n",
       "      <td>Junior Data Analyst/ Scientist- Fresher Position</td>\n",
       "      <td>Kolkata, Gurgaon/Gurugram, Bangalore/Bengaluru...</td>\n",
       "      <td>Sejal Consulting Hub</td>\n",
       "    </tr>\n",
       "    <tr>\n",
       "      <th>7</th>\n",
       "      <td>Associate Data Scientist</td>\n",
       "      <td>Chennai</td>\n",
       "      <td>Shell</td>\n",
       "    </tr>\n",
       "    <tr>\n",
       "      <th>8</th>\n",
       "      <td>Senior Data Scientist</td>\n",
       "      <td>Bangalore/Bengaluru</td>\n",
       "      <td>Dell</td>\n",
       "    </tr>\n",
       "    <tr>\n",
       "      <th>9</th>\n",
       "      <td>Senior Data Scientist</td>\n",
       "      <td>Bangalore/Bengaluru</td>\n",
       "      <td>Dell</td>\n",
       "    </tr>\n",
       "    <tr>\n",
       "      <th>10</th>\n",
       "      <td>Sr . Data Scientist</td>\n",
       "      <td>Mumbai, Bangalore/Bengaluru</td>\n",
       "      <td>RKSV</td>\n",
       "    </tr>\n",
       "    <tr>\n",
       "      <th>11</th>\n",
       "      <td>Sr. Data Scientist</td>\n",
       "      <td>Bangalore/Bengaluru</td>\n",
       "      <td>Siemens</td>\n",
       "    </tr>\n",
       "    <tr>\n",
       "      <th>12</th>\n",
       "      <td>Sr. Data Scientist</td>\n",
       "      <td>Pune, Bangalore/Bengaluru, Mumbai (All Areas)\\...</td>\n",
       "      <td>NutaNXT Technologies</td>\n",
       "    </tr>\n",
       "    <tr>\n",
       "      <th>13</th>\n",
       "      <td>Senior Data Scientist, Data Sciences</td>\n",
       "      <td>Bangalore/Bengaluru</td>\n",
       "      <td>Vmware</td>\n",
       "    </tr>\n",
       "    <tr>\n",
       "      <th>14</th>\n",
       "      <td>Data Scientist</td>\n",
       "      <td>Chennai</td>\n",
       "      <td>Shell</td>\n",
       "    </tr>\n",
       "    <tr>\n",
       "      <th>15</th>\n",
       "      <td>Data Scientist</td>\n",
       "      <td>Pune</td>\n",
       "      <td>Amdocs</td>\n",
       "    </tr>\n",
       "    <tr>\n",
       "      <th>16</th>\n",
       "      <td>Lead Data Scientist</td>\n",
       "      <td>Bangalore/Bengaluru\\n(WFH during Covid)</td>\n",
       "      <td>Gadgeon Smart Systems</td>\n",
       "    </tr>\n",
       "    <tr>\n",
       "      <th>17</th>\n",
       "      <td>Senior Data Scientist</td>\n",
       "      <td>Gurgaon/Gurugram, Bangalore/Bengaluru, Mumbai ...</td>\n",
       "      <td>Fractal Analytics</td>\n",
       "    </tr>\n",
       "    <tr>\n",
       "      <th>18</th>\n",
       "      <td>Senior Data Scientist</td>\n",
       "      <td>Bangalore/Bengaluru\\n(WFH during Covid)</td>\n",
       "      <td>Successr HR Tech PVT LTD</td>\n",
       "    </tr>\n",
       "    <tr>\n",
       "      <th>19</th>\n",
       "      <td>Sr Data Scientist</td>\n",
       "      <td>Bangalore/Bengaluru\\n(WFH during Covid)</td>\n",
       "      <td>Successr HR Tech PVT LTD</td>\n",
       "    </tr>\n",
       "  </tbody>\n",
       "</table>\n",
       "</div>"
      ],
      "text/plain": [
       "                                                Title  \\\n",
       "0                                   Sr Data Scientist   \n",
       "1                            Associate Data Scientist   \n",
       "2                  Junior Programmer - Data Scientist   \n",
       "3   Senior/Lead Data Scientist - (Revenue Management)   \n",
       "4         Senior/Lead - Data Scientist (Supply Chain)   \n",
       "5                    Lead/Senior Data Scientist (NLP)   \n",
       "6    Junior Data Analyst/ Scientist- Fresher Position   \n",
       "7                            Associate Data Scientist   \n",
       "8                               Senior Data Scientist   \n",
       "9                               Senior Data Scientist   \n",
       "10                                Sr . Data Scientist   \n",
       "11                                 Sr. Data Scientist   \n",
       "12                                 Sr. Data Scientist   \n",
       "13               Senior Data Scientist, Data Sciences   \n",
       "14                                     Data Scientist   \n",
       "15                                     Data Scientist   \n",
       "16                                Lead Data Scientist   \n",
       "17                              Senior Data Scientist   \n",
       "18                              Senior Data Scientist   \n",
       "19                                  Sr Data Scientist   \n",
       "\n",
       "                                             Location  \\\n",
       "0                                 Bangalore/Bengaluru   \n",
       "1                        Chennai, Bangalore/Bengaluru   \n",
       "2                                 Bangalore/Bengaluru   \n",
       "3                                 Bangalore/Bengaluru   \n",
       "4                                 Bangalore/Bengaluru   \n",
       "5             Bangalore/Bengaluru\\n(WFH during Covid)   \n",
       "6   Kolkata, Gurgaon/Gurugram, Bangalore/Bengaluru...   \n",
       "7                                             Chennai   \n",
       "8                                 Bangalore/Bengaluru   \n",
       "9                                 Bangalore/Bengaluru   \n",
       "10                        Mumbai, Bangalore/Bengaluru   \n",
       "11                                Bangalore/Bengaluru   \n",
       "12  Pune, Bangalore/Bengaluru, Mumbai (All Areas)\\...   \n",
       "13                                Bangalore/Bengaluru   \n",
       "14                                            Chennai   \n",
       "15                                               Pune   \n",
       "16            Bangalore/Bengaluru\\n(WFH during Covid)   \n",
       "17  Gurgaon/Gurugram, Bangalore/Bengaluru, Mumbai ...   \n",
       "18            Bangalore/Bengaluru\\n(WFH during Covid)   \n",
       "19            Bangalore/Bengaluru\\n(WFH during Covid)   \n",
       "\n",
       "                                          Company  \n",
       "0                                         Siemens  \n",
       "1                                           Shell  \n",
       "2                                       GSK India  \n",
       "3   o9 Solutions Management India Private Limited  \n",
       "4   o9 Solutions Management India Private Limited  \n",
       "5                       Samya.AI A FRACTAL Entity  \n",
       "6                            Sejal Consulting Hub  \n",
       "7                                           Shell  \n",
       "8                                            Dell  \n",
       "9                                            Dell  \n",
       "10                                           RKSV  \n",
       "11                                        Siemens  \n",
       "12                           NutaNXT Technologies  \n",
       "13                                         Vmware  \n",
       "14                                          Shell  \n",
       "15                                         Amdocs  \n",
       "16                          Gadgeon Smart Systems  \n",
       "17                              Fractal Analytics  \n",
       "18                       Successr HR Tech PVT LTD  \n",
       "19                       Successr HR Tech PVT LTD  "
      ]
     },
     "execution_count": 704,
     "metadata": {},
     "output_type": "execute_result"
    }
   ],
   "source": [
    "jobs=pd.DataFrame({})\n",
    "jobs['Title']=job_titles\n",
    "jobs['Location']=locations_list\n",
    "jobs['Company']=company_names\n",
    "jobs"
   ]
  },
  {
   "cell_type": "markdown",
   "id": "08e741cf",
   "metadata": {},
   "source": [
    "#####  Q3.scrape data from https://www.naukri.com/ and search for “Data Scientist” designation for first 10 job results and also scrape the job-title, job-location, company name, experience required for Delhi/NCR location."
   ]
  },
  {
   "cell_type": "code",
   "execution_count": 656,
   "id": "01ccf812",
   "metadata": {},
   "outputs": [],
   "source": [
    "#Lets first connect to the webdriver\n",
    "driver=webdriver.Chrome(r\"C:\\Users\\Admin\\Google Drive\\Download\\chromedriver_win32 (2)\\chromedriver.exe\")\n",
    "\n",
    "url='https://www.naukri.com/'\n",
    "driver.get(url)"
   ]
  },
  {
   "cell_type": "code",
   "execution_count": 657,
   "id": "c8fbd18c",
   "metadata": {},
   "outputs": [
    {
     "data": {
      "text/plain": [
       "<selenium.webdriver.remote.webelement.WebElement (session=\"126c73221fe888d7cc3eea094fcffe65\", element=\"eca02b21-f968-4617-8a10-c1e637ce8c70\")>"
      ]
     },
     "execution_count": 657,
     "metadata": {},
     "output_type": "execute_result"
    }
   ],
   "source": [
    "search_job1=driver.find_element_by_xpath('/html/body/div/div[2]/div[3]/div/div/div[1]/div/div/div/input')\n",
    "search_job1"
   ]
  },
  {
   "cell_type": "code",
   "execution_count": 658,
   "id": "28de08d9",
   "metadata": {},
   "outputs": [],
   "source": [
    "#write on search bar\n",
    "search_job1.send_keys(\"Data Scientist\")"
   ]
  },
  {
   "cell_type": "code",
   "execution_count": 659,
   "id": "48fe3248",
   "metadata": {},
   "outputs": [
    {
     "data": {
      "text/plain": [
       "<selenium.webdriver.remote.webelement.WebElement (session=\"126c73221fe888d7cc3eea094fcffe65\", element=\"3c84d31e-2bf6-4c60-90fa-36ef0c2d59a1\")>"
      ]
     },
     "execution_count": 659,
     "metadata": {},
     "output_type": "execute_result"
    }
   ],
   "source": [
    "search_locn=driver.find_element_by_xpath('/html/body/div/div[2]/div[3]/div/div/div[3]/div/div/div/input')\n",
    "search_locn"
   ]
  },
  {
   "cell_type": "code",
   "execution_count": 660,
   "id": "9addea11",
   "metadata": {},
   "outputs": [],
   "source": [
    "search_locn.send_keys('Delhi/NCR')"
   ]
  },
  {
   "cell_type": "code",
   "execution_count": 663,
   "id": "aa1a49b5",
   "metadata": {},
   "outputs": [
    {
     "data": {
      "text/plain": [
       "<selenium.webdriver.remote.webelement.WebElement (session=\"126c73221fe888d7cc3eea094fcffe65\", element=\"be1f6656-612a-4aad-bc0e-9165c7a7fc14\")>"
      ]
     },
     "execution_count": 663,
     "metadata": {},
     "output_type": "execute_result"
    }
   ],
   "source": [
    "search_btn=driver.find_element_by_xpath('/html/body/div/div[2]/div[3]/div/div/div[6]')\n",
    "search_btn"
   ]
  },
  {
   "cell_type": "code",
   "execution_count": 668,
   "id": "d6ff9951",
   "metadata": {},
   "outputs": [],
   "source": [
    "search_btn.click()"
   ]
  },
  {
   "cell_type": "code",
   "execution_count": 669,
   "id": "91750df9",
   "metadata": {},
   "outputs": [],
   "source": [
    "#Locating the salary filter\n",
    "filter_button=driver.find_elements_by_xpath(\"//p[@class='grey-text lH20 fleft ml-8 txtLbl']/span\")\n",
    "for i in filter_button:\n",
    "    if i.text=='3-6 Lakhs':\n",
    "        i.click()\n",
    "        break"
   ]
  },
  {
   "cell_type": "code",
   "execution_count": 670,
   "id": "72da8f65",
   "metadata": {},
   "outputs": [
    {
     "data": {
      "text/plain": [
       "[<selenium.webdriver.remote.webelement.WebElement (session=\"126c73221fe888d7cc3eea094fcffe65\", element=\"c950763f-6688-40bc-b818-a21e1780dca3\")>,\n",
       " <selenium.webdriver.remote.webelement.WebElement (session=\"126c73221fe888d7cc3eea094fcffe65\", element=\"34e15597-7d98-4df2-b315-6975b6920c95\")>,\n",
       " <selenium.webdriver.remote.webelement.WebElement (session=\"126c73221fe888d7cc3eea094fcffe65\", element=\"d2bb6305-d0ad-45c5-9b7f-f4846158b0f7\")>,\n",
       " <selenium.webdriver.remote.webelement.WebElement (session=\"126c73221fe888d7cc3eea094fcffe65\", element=\"3be101b7-52a4-4eba-aa4b-1a8eb549d3ce\")>,\n",
       " <selenium.webdriver.remote.webelement.WebElement (session=\"126c73221fe888d7cc3eea094fcffe65\", element=\"0e93f79d-d33a-44ba-8d8e-104e6b960224\")>,\n",
       " <selenium.webdriver.remote.webelement.WebElement (session=\"126c73221fe888d7cc3eea094fcffe65\", element=\"540053c5-1bc3-4e82-bf76-726504f6b6d0\")>,\n",
       " <selenium.webdriver.remote.webelement.WebElement (session=\"126c73221fe888d7cc3eea094fcffe65\", element=\"18771c82-3032-4d15-b00e-b07bd5adafea\")>,\n",
       " <selenium.webdriver.remote.webelement.WebElement (session=\"126c73221fe888d7cc3eea094fcffe65\", element=\"e21f510b-dd8f-4d76-9523-81d46ee18461\")>,\n",
       " <selenium.webdriver.remote.webelement.WebElement (session=\"126c73221fe888d7cc3eea094fcffe65\", element=\"33f4f78c-8c95-4030-8096-eadaddf0d54c\")>,\n",
       " <selenium.webdriver.remote.webelement.WebElement (session=\"126c73221fe888d7cc3eea094fcffe65\", element=\"c3e00f79-d936-4612-b27d-df94f4294409\")>,\n",
       " <selenium.webdriver.remote.webelement.WebElement (session=\"126c73221fe888d7cc3eea094fcffe65\", element=\"5eef9e54-05b6-48cd-a327-aebe92fd3589\")>,\n",
       " <selenium.webdriver.remote.webelement.WebElement (session=\"126c73221fe888d7cc3eea094fcffe65\", element=\"e3e85ce3-04e8-4201-8419-f37c37e570bf\")>,\n",
       " <selenium.webdriver.remote.webelement.WebElement (session=\"126c73221fe888d7cc3eea094fcffe65\", element=\"5469fab8-8149-4184-b637-0d681af3df23\")>,\n",
       " <selenium.webdriver.remote.webelement.WebElement (session=\"126c73221fe888d7cc3eea094fcffe65\", element=\"4f3e9581-d434-4a85-b021-87db4416ffc4\")>,\n",
       " <selenium.webdriver.remote.webelement.WebElement (session=\"126c73221fe888d7cc3eea094fcffe65\", element=\"9a106098-deb0-4dcd-a086-d2347c9bbc73\")>,\n",
       " <selenium.webdriver.remote.webelement.WebElement (session=\"126c73221fe888d7cc3eea094fcffe65\", element=\"80721eb8-5652-48d1-900d-6f24fbaf5f0b\")>,\n",
       " <selenium.webdriver.remote.webelement.WebElement (session=\"126c73221fe888d7cc3eea094fcffe65\", element=\"5c6d514e-00a3-4be7-b0c7-c1b63fab9bd5\")>,\n",
       " <selenium.webdriver.remote.webelement.WebElement (session=\"126c73221fe888d7cc3eea094fcffe65\", element=\"b73a1513-5a8b-43e2-87d0-101dcad57696\")>,\n",
       " <selenium.webdriver.remote.webelement.WebElement (session=\"126c73221fe888d7cc3eea094fcffe65\", element=\"a3217643-e779-4663-9ed7-ed36a0f0e301\")>,\n",
       " <selenium.webdriver.remote.webelement.WebElement (session=\"126c73221fe888d7cc3eea094fcffe65\", element=\"6744168a-2281-4884-8ae6-f00b6059a3f7\")>]"
      ]
     },
     "execution_count": 670,
     "metadata": {},
     "output_type": "execute_result"
    }
   ],
   "source": [
    "#Lets extract all the tags having the job-titles\n",
    "titles_tags=driver.find_elements_by_xpath(\"//a[@class='title fw500 ellipsis']\")\n",
    "titles_tags"
   ]
  },
  {
   "cell_type": "code",
   "execution_count": 671,
   "id": "df81509e",
   "metadata": {},
   "outputs": [
    {
     "data": {
      "text/plain": [
       "['Data Scientist',\n",
       " 'Data Scientist | Python | Machine Learning | Deep Learning- Fresher',\n",
       " 'Job Opportunity || Data Scientist || HCL Technologies',\n",
       " 'Senior Data Scientist I',\n",
       " 'Openings For Jr/mid/Sr level data Scientists',\n",
       " 'Data Scientist role',\n",
       " 'Urgent Hiring For Data Scientist',\n",
       " 'Urgent Hiring For Data Scientist',\n",
       " 'Data Scientist role',\n",
       " 'Data Scientist role']"
      ]
     },
     "execution_count": 671,
     "metadata": {},
     "output_type": "execute_result"
    }
   ],
   "source": [
    "#Extracting the text from these tags one by one by looping over these tags\n",
    "job_titles=[]\n",
    "for i in titles_tags:\n",
    "    job_titles.append(i.text)\n",
    "job_titles[:10]"
   ]
  },
  {
   "cell_type": "code",
   "execution_count": 672,
   "id": "3592b1bd",
   "metadata": {},
   "outputs": [
    {
     "data": {
      "text/plain": [
       "[<selenium.webdriver.remote.webelement.WebElement (session=\"126c73221fe888d7cc3eea094fcffe65\", element=\"b5422300-2d0b-4c87-b743-d0ddd4728448\")>,\n",
       " <selenium.webdriver.remote.webelement.WebElement (session=\"126c73221fe888d7cc3eea094fcffe65\", element=\"56fbcb38-2273-437b-a091-c7de8717d842\")>,\n",
       " <selenium.webdriver.remote.webelement.WebElement (session=\"126c73221fe888d7cc3eea094fcffe65\", element=\"db66f7d1-a89e-4510-a333-4f33e0a37e24\")>,\n",
       " <selenium.webdriver.remote.webelement.WebElement (session=\"126c73221fe888d7cc3eea094fcffe65\", element=\"7117b40f-fc97-4fb2-86d6-71ea2428ec48\")>,\n",
       " <selenium.webdriver.remote.webelement.WebElement (session=\"126c73221fe888d7cc3eea094fcffe65\", element=\"ce38d398-8c03-41d8-afb6-624c0d29ec0d\")>,\n",
       " <selenium.webdriver.remote.webelement.WebElement (session=\"126c73221fe888d7cc3eea094fcffe65\", element=\"022c34c4-8dae-4572-afe8-dac098a112d0\")>,\n",
       " <selenium.webdriver.remote.webelement.WebElement (session=\"126c73221fe888d7cc3eea094fcffe65\", element=\"65f1a120-ec53-43c3-a90f-adece296eb3c\")>,\n",
       " <selenium.webdriver.remote.webelement.WebElement (session=\"126c73221fe888d7cc3eea094fcffe65\", element=\"11197f7e-b8af-498d-bc6a-9e5a07951a12\")>,\n",
       " <selenium.webdriver.remote.webelement.WebElement (session=\"126c73221fe888d7cc3eea094fcffe65\", element=\"10c38e50-d3bf-45c6-99d2-3cb2a88f1d9e\")>,\n",
       " <selenium.webdriver.remote.webelement.WebElement (session=\"126c73221fe888d7cc3eea094fcffe65\", element=\"4acbad41-987e-4256-a680-e6ea1c02709d\")>,\n",
       " <selenium.webdriver.remote.webelement.WebElement (session=\"126c73221fe888d7cc3eea094fcffe65\", element=\"cc27e386-55d8-43fd-8d92-8e6690d31424\")>,\n",
       " <selenium.webdriver.remote.webelement.WebElement (session=\"126c73221fe888d7cc3eea094fcffe65\", element=\"000ca2ab-8f27-4086-90d6-324560e06566\")>,\n",
       " <selenium.webdriver.remote.webelement.WebElement (session=\"126c73221fe888d7cc3eea094fcffe65\", element=\"7cd389c3-586e-40fd-b9b9-51be92948fcb\")>,\n",
       " <selenium.webdriver.remote.webelement.WebElement (session=\"126c73221fe888d7cc3eea094fcffe65\", element=\"62d717e9-9c4c-4b6a-8fef-2287fad1a7b3\")>,\n",
       " <selenium.webdriver.remote.webelement.WebElement (session=\"126c73221fe888d7cc3eea094fcffe65\", element=\"35c8b618-866a-4324-b353-5e32c73df538\")>,\n",
       " <selenium.webdriver.remote.webelement.WebElement (session=\"126c73221fe888d7cc3eea094fcffe65\", element=\"af23cefb-64a5-409d-b354-49951912dd8f\")>,\n",
       " <selenium.webdriver.remote.webelement.WebElement (session=\"126c73221fe888d7cc3eea094fcffe65\", element=\"3dd48aec-bb61-4a40-8b6a-1d029eeb5593\")>,\n",
       " <selenium.webdriver.remote.webelement.WebElement (session=\"126c73221fe888d7cc3eea094fcffe65\", element=\"fc7f7a8e-a327-45e9-aaa9-e0c6a6de17d4\")>,\n",
       " <selenium.webdriver.remote.webelement.WebElement (session=\"126c73221fe888d7cc3eea094fcffe65\", element=\"fadcc690-e579-4e57-861f-9df47ffd6480\")>,\n",
       " <selenium.webdriver.remote.webelement.WebElement (session=\"126c73221fe888d7cc3eea094fcffe65\", element=\"20a8c6d6-db55-4829-8281-421d07b0a3ec\")>]"
      ]
     },
     "execution_count": 672,
     "metadata": {},
     "output_type": "execute_result"
    }
   ],
   "source": [
    "#lets extract all the tags having the location of the job\n",
    "locations_tags=driver.find_elements_by_xpath(\"//li[@class='fleft grey-text br2 placeHolderLi location']\")\n",
    "locations_tags"
   ]
  },
  {
   "cell_type": "code",
   "execution_count": 673,
   "id": "e8f292a9",
   "metadata": {},
   "outputs": [
    {
     "data": {
      "text/plain": [
       "['Gurgaon/Gurugram',\n",
       " 'Noida, Gurgaon/Gurugram, Delhi / NCR',\n",
       " 'Delhi / NCR',\n",
       " 'Gurgaon/Gurugram',\n",
       " 'Kolkata, Hyderabad/Secunderabad, Pune, Ahmedabad, Chennai, Bangalore/Bengaluru, Delhi / NCR, Mumbai (All Areas)\\n(WFH during Covid)',\n",
       " 'Noida, Hyderabad/Secunderabad, Pune, Gurgaon/Gurugram, Bangalore/Bengaluru, Delhi / NCR\\n(WFH during Covid)',\n",
       " 'Gurgaon/Gurugram, Bangalore/Bengaluru',\n",
       " 'Gurgaon/Gurugram, Bangalore/Bengaluru',\n",
       " 'Noida, Hyderabad/Secunderabad, Pune, Gurgaon/Gurugram, Bangalore/Bengaluru, Delhi / NCR\\n(WFH during Covid)',\n",
       " 'Noida, Hyderabad/Secunderabad, Pune, Gurgaon/Gurugram, Bangalore/Bengaluru, Delhi / NCR\\n(WFH during Covid)']"
      ]
     },
     "execution_count": 673,
     "metadata": {},
     "output_type": "execute_result"
    }
   ],
   "source": [
    "#Extracting the text from these tags one by one by looping over these tags\n",
    "locations_list=[]\n",
    "for i in locations_tags:\n",
    "    locations_list.append(i.text)\n",
    "locations_list[:10]"
   ]
  },
  {
   "cell_type": "code",
   "execution_count": 674,
   "id": "2f3f54b6",
   "metadata": {},
   "outputs": [
    {
     "data": {
      "text/plain": [
       "[<selenium.webdriver.remote.webelement.WebElement (session=\"126c73221fe888d7cc3eea094fcffe65\", element=\"a832de21-e829-40ae-941b-e4a10c7427c4\")>,\n",
       " <selenium.webdriver.remote.webelement.WebElement (session=\"126c73221fe888d7cc3eea094fcffe65\", element=\"faba9346-0a13-4a34-a414-e00c151461bb\")>,\n",
       " <selenium.webdriver.remote.webelement.WebElement (session=\"126c73221fe888d7cc3eea094fcffe65\", element=\"a396045d-5f81-4ec0-8e84-305f291f7fd8\")>,\n",
       " <selenium.webdriver.remote.webelement.WebElement (session=\"126c73221fe888d7cc3eea094fcffe65\", element=\"ef252196-0549-423e-b235-b081d80f193a\")>,\n",
       " <selenium.webdriver.remote.webelement.WebElement (session=\"126c73221fe888d7cc3eea094fcffe65\", element=\"40abfff6-f13e-440b-91e8-b03638f70cf8\")>,\n",
       " <selenium.webdriver.remote.webelement.WebElement (session=\"126c73221fe888d7cc3eea094fcffe65\", element=\"9675db95-6440-4a33-a725-0c084bde2a2c\")>,\n",
       " <selenium.webdriver.remote.webelement.WebElement (session=\"126c73221fe888d7cc3eea094fcffe65\", element=\"1c45fda2-6f0a-45d8-9aa5-e43550113c31\")>,\n",
       " <selenium.webdriver.remote.webelement.WebElement (session=\"126c73221fe888d7cc3eea094fcffe65\", element=\"aeae93d1-fa0b-464f-aea3-aaf180a8c000\")>,\n",
       " <selenium.webdriver.remote.webelement.WebElement (session=\"126c73221fe888d7cc3eea094fcffe65\", element=\"d766ccfe-4ab4-46fe-a12d-8fdabd4214c6\")>,\n",
       " <selenium.webdriver.remote.webelement.WebElement (session=\"126c73221fe888d7cc3eea094fcffe65\", element=\"5cdc9e82-12e2-47f0-84c8-fe45045925cd\")>,\n",
       " <selenium.webdriver.remote.webelement.WebElement (session=\"126c73221fe888d7cc3eea094fcffe65\", element=\"708c34dd-2c13-43ab-8ff9-b122a8074194\")>,\n",
       " <selenium.webdriver.remote.webelement.WebElement (session=\"126c73221fe888d7cc3eea094fcffe65\", element=\"e9eadff7-21e3-4284-ae4e-ac994fd91bb3\")>,\n",
       " <selenium.webdriver.remote.webelement.WebElement (session=\"126c73221fe888d7cc3eea094fcffe65\", element=\"1ed580be-c91f-4020-987c-5fc255574338\")>,\n",
       " <selenium.webdriver.remote.webelement.WebElement (session=\"126c73221fe888d7cc3eea094fcffe65\", element=\"9f071f2f-3358-4735-b194-be5b705cbcf0\")>,\n",
       " <selenium.webdriver.remote.webelement.WebElement (session=\"126c73221fe888d7cc3eea094fcffe65\", element=\"de8eaba5-b4dc-4d6f-9b6c-eea89c189e81\")>,\n",
       " <selenium.webdriver.remote.webelement.WebElement (session=\"126c73221fe888d7cc3eea094fcffe65\", element=\"1bc97518-075c-4e92-9428-fd60d90bf177\")>,\n",
       " <selenium.webdriver.remote.webelement.WebElement (session=\"126c73221fe888d7cc3eea094fcffe65\", element=\"bafc3536-5642-443f-bd27-29d47d1c76dd\")>,\n",
       " <selenium.webdriver.remote.webelement.WebElement (session=\"126c73221fe888d7cc3eea094fcffe65\", element=\"55e92966-a990-410c-91ff-7503d6419e41\")>,\n",
       " <selenium.webdriver.remote.webelement.WebElement (session=\"126c73221fe888d7cc3eea094fcffe65\", element=\"245429cb-6fda-4c32-b9fc-7a35611bd1fd\")>,\n",
       " <selenium.webdriver.remote.webelement.WebElement (session=\"126c73221fe888d7cc3eea094fcffe65\", element=\"b6749c65-3bf3-4334-8a7d-f8b5b1187605\")>]"
      ]
     },
     "execution_count": 674,
     "metadata": {},
     "output_type": "execute_result"
    }
   ],
   "source": [
    "#extract all the tags having the company names\n",
    "companies_tags=driver.find_elements_by_xpath(\"//a[@class='subTitle ellipsis fleft']\")\n",
    "companies_tags"
   ]
  },
  {
   "cell_type": "code",
   "execution_count": 675,
   "id": "a036e668",
   "metadata": {},
   "outputs": [
    {
     "data": {
      "text/plain": [
       "['T & A Solutions',\n",
       " 'Schlesinger Group',\n",
       " 'HCL',\n",
       " 'Delhivery',\n",
       " 'Pluto seven business solutions (p) limited',\n",
       " 'Mount Talent Consulting Private Limited',\n",
       " 'Mount Talent Consulting Private Limited',\n",
       " 'Mount Talent Consulting Private Limited',\n",
       " 'Mount Talent Consulting Private Limited',\n",
       " 'Mount Talent Consulting Private Limited']"
      ]
     },
     "execution_count": 675,
     "metadata": {},
     "output_type": "execute_result"
    }
   ],
   "source": [
    "#Extracting text from tags one by one by looping over these tags\n",
    "company_names=[]\n",
    "for i in companies_tags:\n",
    "    company_names.append(i.text)\n",
    "company_names[:10]"
   ]
  },
  {
   "cell_type": "code",
   "execution_count": 677,
   "id": "c6ad349f",
   "metadata": {},
   "outputs": [
    {
     "data": {
      "text/plain": [
       "[<selenium.webdriver.remote.webelement.WebElement (session=\"126c73221fe888d7cc3eea094fcffe65\", element=\"e548deca-9201-4832-bb10-1a0736f2741e\")>,\n",
       " <selenium.webdriver.remote.webelement.WebElement (session=\"126c73221fe888d7cc3eea094fcffe65\", element=\"73d861a3-f3b8-4698-8540-3bc093923f73\")>,\n",
       " <selenium.webdriver.remote.webelement.WebElement (session=\"126c73221fe888d7cc3eea094fcffe65\", element=\"b0ffe187-1003-42b5-ae87-efa36e7eb08e\")>,\n",
       " <selenium.webdriver.remote.webelement.WebElement (session=\"126c73221fe888d7cc3eea094fcffe65\", element=\"4aca9e25-23f8-426a-91f1-34dfcd4e35f0\")>,\n",
       " <selenium.webdriver.remote.webelement.WebElement (session=\"126c73221fe888d7cc3eea094fcffe65\", element=\"32682171-0b30-44b2-aaa8-038c1c998c29\")>,\n",
       " <selenium.webdriver.remote.webelement.WebElement (session=\"126c73221fe888d7cc3eea094fcffe65\", element=\"c9d2f7f8-9aad-45d6-b928-50bb741b5fa1\")>,\n",
       " <selenium.webdriver.remote.webelement.WebElement (session=\"126c73221fe888d7cc3eea094fcffe65\", element=\"9804d016-4409-4e79-a8a0-b28d13b55923\")>,\n",
       " <selenium.webdriver.remote.webelement.WebElement (session=\"126c73221fe888d7cc3eea094fcffe65\", element=\"ba643464-c0f0-47d4-841f-d49358605917\")>,\n",
       " <selenium.webdriver.remote.webelement.WebElement (session=\"126c73221fe888d7cc3eea094fcffe65\", element=\"46b275f7-4887-44b4-8b1e-f43f846bdcad\")>,\n",
       " <selenium.webdriver.remote.webelement.WebElement (session=\"126c73221fe888d7cc3eea094fcffe65\", element=\"adce28a6-d528-4130-9070-099c2c2479ae\")>,\n",
       " <selenium.webdriver.remote.webelement.WebElement (session=\"126c73221fe888d7cc3eea094fcffe65\", element=\"89a7262f-33b3-485a-a1bb-511cf957fba8\")>,\n",
       " <selenium.webdriver.remote.webelement.WebElement (session=\"126c73221fe888d7cc3eea094fcffe65\", element=\"311a274a-0685-47ac-a216-d8a7fd4fc6f4\")>,\n",
       " <selenium.webdriver.remote.webelement.WebElement (session=\"126c73221fe888d7cc3eea094fcffe65\", element=\"d69393e6-4770-445e-954a-280ddeb3b2dd\")>,\n",
       " <selenium.webdriver.remote.webelement.WebElement (session=\"126c73221fe888d7cc3eea094fcffe65\", element=\"d5a8b65e-828f-4006-bdd1-6143d07b8294\")>,\n",
       " <selenium.webdriver.remote.webelement.WebElement (session=\"126c73221fe888d7cc3eea094fcffe65\", element=\"e6c4a46d-87b6-4e07-9f5b-d02df6634c62\")>,\n",
       " <selenium.webdriver.remote.webelement.WebElement (session=\"126c73221fe888d7cc3eea094fcffe65\", element=\"446eb485-a30e-4d9e-a36a-96f1ada80f6e\")>,\n",
       " <selenium.webdriver.remote.webelement.WebElement (session=\"126c73221fe888d7cc3eea094fcffe65\", element=\"1f3f08a4-c2dc-4dae-92c6-e111ddad8acd\")>,\n",
       " <selenium.webdriver.remote.webelement.WebElement (session=\"126c73221fe888d7cc3eea094fcffe65\", element=\"567453f7-1e0b-45db-8f81-dfad388905b1\")>,\n",
       " <selenium.webdriver.remote.webelement.WebElement (session=\"126c73221fe888d7cc3eea094fcffe65\", element=\"f03281a1-018d-4309-9d00-9c937adf0893\")>,\n",
       " <selenium.webdriver.remote.webelement.WebElement (session=\"126c73221fe888d7cc3eea094fcffe65\", element=\"bca24475-3dfb-4359-a0c2-a211e0600d5b\")>]"
      ]
     },
     "execution_count": 677,
     "metadata": {},
     "output_type": "execute_result"
    }
   ],
   "source": [
    "#extract all the tags having the experience required data\n",
    "experience_tags=driver.find_elements_by_xpath(\"//li[@class='fleft grey-text br2 placeHolderLi experience']\")\n",
    "experience_tags"
   ]
  },
  {
   "cell_type": "code",
   "execution_count": 678,
   "id": "ede415c2",
   "metadata": {},
   "outputs": [
    {
     "data": {
      "text/plain": [
       "['2-6 Yrs',\n",
       " '0-3 Yrs',\n",
       " '2-6 Yrs',\n",
       " '3-7 Yrs',\n",
       " '2-6 Yrs',\n",
       " '1-4 Yrs',\n",
       " '1-6 Yrs',\n",
       " '1-6 Yrs',\n",
       " '1-3 Yrs',\n",
       " '1-3 Yrs']"
      ]
     },
     "execution_count": 678,
     "metadata": {},
     "output_type": "execute_result"
    }
   ],
   "source": [
    "#Extracting the text from these tags one by one by looping over these tags\n",
    "experience_list=[]\n",
    "for i in experience_tags:\n",
    "    experience_list.append(i.text)\n",
    "experience_list[:10]"
   ]
  },
  {
   "cell_type": "code",
   "execution_count": 679,
   "id": "b31a769c",
   "metadata": {},
   "outputs": [
    {
     "name": "stdout",
     "output_type": "stream",
     "text": [
      "20 20 20 20\n"
     ]
    }
   ],
   "source": [
    "#create a dataframe and checking the length of it\n",
    "print(len(job_titles),len(company_names),len(experience_list),len(locations_list))"
   ]
  },
  {
   "cell_type": "code",
   "execution_count": 682,
   "id": "b2543887",
   "metadata": {},
   "outputs": [
    {
     "data": {
      "text/html": [
       "<div>\n",
       "<style scoped>\n",
       "    .dataframe tbody tr th:only-of-type {\n",
       "        vertical-align: middle;\n",
       "    }\n",
       "\n",
       "    .dataframe tbody tr th {\n",
       "        vertical-align: top;\n",
       "    }\n",
       "\n",
       "    .dataframe thead th {\n",
       "        text-align: right;\n",
       "    }\n",
       "</style>\n",
       "<table border=\"1\" class=\"dataframe\">\n",
       "  <thead>\n",
       "    <tr style=\"text-align: right;\">\n",
       "      <th></th>\n",
       "      <th>Job Title</th>\n",
       "      <th>Cocation</th>\n",
       "      <th>company</th>\n",
       "      <th>Experience_required</th>\n",
       "    </tr>\n",
       "  </thead>\n",
       "  <tbody>\n",
       "    <tr>\n",
       "      <th>0</th>\n",
       "      <td>Data Scientist</td>\n",
       "      <td>Gurgaon/Gurugram</td>\n",
       "      <td>T &amp; A Solutions</td>\n",
       "      <td>2-6 Yrs</td>\n",
       "    </tr>\n",
       "    <tr>\n",
       "      <th>1</th>\n",
       "      <td>Data Scientist | Python | Machine Learning | D...</td>\n",
       "      <td>Noida, Gurgaon/Gurugram, Delhi / NCR</td>\n",
       "      <td>Schlesinger Group</td>\n",
       "      <td>0-3 Yrs</td>\n",
       "    </tr>\n",
       "    <tr>\n",
       "      <th>2</th>\n",
       "      <td>Job Opportunity || Data Scientist || HCL Techn...</td>\n",
       "      <td>Delhi / NCR</td>\n",
       "      <td>HCL</td>\n",
       "      <td>2-6 Yrs</td>\n",
       "    </tr>\n",
       "    <tr>\n",
       "      <th>3</th>\n",
       "      <td>Senior Data Scientist I</td>\n",
       "      <td>Gurgaon/Gurugram</td>\n",
       "      <td>Delhivery</td>\n",
       "      <td>3-7 Yrs</td>\n",
       "    </tr>\n",
       "    <tr>\n",
       "      <th>4</th>\n",
       "      <td>Openings For Jr/mid/Sr level data Scientists</td>\n",
       "      <td>Kolkata, Hyderabad/Secunderabad, Pune, Ahmedab...</td>\n",
       "      <td>Pluto seven business solutions (p) limited</td>\n",
       "      <td>2-6 Yrs</td>\n",
       "    </tr>\n",
       "    <tr>\n",
       "      <th>5</th>\n",
       "      <td>Data Scientist role</td>\n",
       "      <td>Noida, Hyderabad/Secunderabad, Pune, Gurgaon/G...</td>\n",
       "      <td>Mount Talent Consulting Private Limited</td>\n",
       "      <td>1-4 Yrs</td>\n",
       "    </tr>\n",
       "    <tr>\n",
       "      <th>6</th>\n",
       "      <td>Urgent Hiring For Data Scientist</td>\n",
       "      <td>Gurgaon/Gurugram, Bangalore/Bengaluru</td>\n",
       "      <td>Mount Talent Consulting Private Limited</td>\n",
       "      <td>1-6 Yrs</td>\n",
       "    </tr>\n",
       "    <tr>\n",
       "      <th>7</th>\n",
       "      <td>Urgent Hiring For Data Scientist</td>\n",
       "      <td>Gurgaon/Gurugram, Bangalore/Bengaluru</td>\n",
       "      <td>Mount Talent Consulting Private Limited</td>\n",
       "      <td>1-6 Yrs</td>\n",
       "    </tr>\n",
       "    <tr>\n",
       "      <th>8</th>\n",
       "      <td>Data Scientist role</td>\n",
       "      <td>Noida, Hyderabad/Secunderabad, Pune, Gurgaon/G...</td>\n",
       "      <td>Mount Talent Consulting Private Limited</td>\n",
       "      <td>1-3 Yrs</td>\n",
       "    </tr>\n",
       "    <tr>\n",
       "      <th>9</th>\n",
       "      <td>Data Scientist role</td>\n",
       "      <td>Noida, Hyderabad/Secunderabad, Pune, Gurgaon/G...</td>\n",
       "      <td>Mount Talent Consulting Private Limited</td>\n",
       "      <td>1-3 Yrs</td>\n",
       "    </tr>\n",
       "  </tbody>\n",
       "</table>\n",
       "</div>"
      ],
      "text/plain": [
       "                                           Job Title  \\\n",
       "0                                     Data Scientist   \n",
       "1  Data Scientist | Python | Machine Learning | D...   \n",
       "2  Job Opportunity || Data Scientist || HCL Techn...   \n",
       "3                            Senior Data Scientist I   \n",
       "4       Openings For Jr/mid/Sr level data Scientists   \n",
       "5                                Data Scientist role   \n",
       "6                   Urgent Hiring For Data Scientist   \n",
       "7                   Urgent Hiring For Data Scientist   \n",
       "8                                Data Scientist role   \n",
       "9                                Data Scientist role   \n",
       "\n",
       "                                            Cocation  \\\n",
       "0                                   Gurgaon/Gurugram   \n",
       "1               Noida, Gurgaon/Gurugram, Delhi / NCR   \n",
       "2                                        Delhi / NCR   \n",
       "3                                   Gurgaon/Gurugram   \n",
       "4  Kolkata, Hyderabad/Secunderabad, Pune, Ahmedab...   \n",
       "5  Noida, Hyderabad/Secunderabad, Pune, Gurgaon/G...   \n",
       "6              Gurgaon/Gurugram, Bangalore/Bengaluru   \n",
       "7              Gurgaon/Gurugram, Bangalore/Bengaluru   \n",
       "8  Noida, Hyderabad/Secunderabad, Pune, Gurgaon/G...   \n",
       "9  Noida, Hyderabad/Secunderabad, Pune, Gurgaon/G...   \n",
       "\n",
       "                                      company Experience_required  \n",
       "0                             T & A Solutions             2-6 Yrs  \n",
       "1                           Schlesinger Group             0-3 Yrs  \n",
       "2                                         HCL             2-6 Yrs  \n",
       "3                                   Delhivery             3-7 Yrs  \n",
       "4  Pluto seven business solutions (p) limited             2-6 Yrs  \n",
       "5     Mount Talent Consulting Private Limited             1-4 Yrs  \n",
       "6     Mount Talent Consulting Private Limited             1-6 Yrs  \n",
       "7     Mount Talent Consulting Private Limited             1-6 Yrs  \n",
       "8     Mount Talent Consulting Private Limited             1-3 Yrs  \n",
       "9     Mount Talent Consulting Private Limited             1-3 Yrs  "
      ]
     },
     "execution_count": 682,
     "metadata": {},
     "output_type": "execute_result"
    }
   ],
   "source": [
    "df=pd.DataFrame({})\n",
    "df['Job Title']=job_titles\n",
    "df['Cocation']=locations_list\n",
    "df['company']=company_names\n",
    "df['Experience_required']=experience_list\n",
    "df[0:10]"
   ]
  },
  {
   "cell_type": "markdown",
   "id": "17d029ef",
   "metadata": {},
   "source": [
    "##### Q4  Scrape data of first 100 sunglasses listings on flipkart.com."
   ]
  },
  {
   "cell_type": "code",
   "execution_count": 622,
   "id": "5347f08e",
   "metadata": {},
   "outputs": [],
   "source": [
    "# getting the flipkart shopping site url on the web driver\n",
    "url = \"https://www.flipkart.com/\"\n",
    "driver.get(url)"
   ]
  },
  {
   "cell_type": "code",
   "execution_count": 623,
   "id": "17133551",
   "metadata": {},
   "outputs": [],
   "source": [
    "# code to write sunglasses in the search box\n",
    "search_prod = driver.find_element_by_xpath('/html/body/div[1]/div/div[1]/div[1]/div[2]/div[2]/form/div/div/input')\n",
    "search_prod.send_keys(\"Sunglasses\")"
   ]
  },
  {
   "cell_type": "code",
   "execution_count": 624,
   "id": "fde7bcd3",
   "metadata": {},
   "outputs": [
    {
     "data": {
      "text/plain": [
       "<selenium.webdriver.remote.webelement.WebElement (session=\"fef2d977f44e0ca681f00b9d0a15dc07\", element=\"d6d0318d-9163-4025-8bc5-ecfc52c6e9e0\")>"
      ]
     },
     "execution_count": 624,
     "metadata": {},
     "output_type": "execute_result"
    }
   ],
   "source": [
    "# code to click on the search button\n",
    "search_btn = driver.find_element_by_xpath('//button[@class=\"L0Z3Pu\"]')\n",
    "search_btn\n"
   ]
  },
  {
   "cell_type": "code",
   "execution_count": 625,
   "id": "f2f2b588",
   "metadata": {},
   "outputs": [],
   "source": [
    "search_btn.click()"
   ]
  },
  {
   "cell_type": "code",
   "execution_count": 626,
   "id": "3bd1d662",
   "metadata": {},
   "outputs": [],
   "source": [
    "# code to extract brand details\n",
    "prod_brand = driver.find_elements_by_xpath('//div[@class=\"_2WkVRV\"]')\n",
    "brand = []\n",
    "for i in prod_brand:\n",
    "    brand.append(i.text)\n",
    "\n",
    "# code to extract product description\n",
    "prod_description=driver.find_elements_by_xpath('//a[@class=\"IRpwTa\"]')\n",
    "description=[]\n",
    "for i in prod_description:\n",
    "    try:\n",
    "        description.append(i.text)\n",
    "    except:\n",
    "        description.appendend(\"No description available\")\n",
    "\n",
    "# code to extract price of the product\n",
    "prod_price=driver.find_elements_by_xpath('//div[@class=\"_30jeq3\"]')\n",
    "price=[]\n",
    "for i in prod_price:\n",
    "    price.append(i.text)\n",
    "\n",
    "# code to extract the discount percentage\n",
    "prod_discount=driver.find_elements_by_xpath('//div[@class=\"_3Ay6Sb\"]//span')\n",
    "discount=[]\n",
    "for i in prod_discount:\n",
    "    discount.append(i.text)\n",
    "    \n",
    "# code to click on the next button for page 2\n",
    "search_btn1 = driver.find_element_by_xpath('/html/body/div/div/div[3]/div[1]/div[2]/div[12]/div/div/nav/a[11]')\n",
    "search_btn1.click()"
   ]
  },
  {
   "cell_type": "code",
   "execution_count": 627,
   "id": "598fd8e0",
   "metadata": {},
   "outputs": [],
   "source": [
    "# code to extract brand details\n",
    "prod_brand = driver.find_elements_by_xpath('//div[@class=\"_2WkVRV\"]')\n",
    "for i in prod_brand:\n",
    "    brand.append(i.text)\n",
    "\n",
    "# code to extract product description\n",
    "prod_description = driver.find_elements_by_xpath('//a[@class=\"IRpwTa\"]')\n",
    "for i in prod_description:\n",
    "    try:\n",
    "        description.append(i.text)\n",
    "    except:\n",
    "        description.appendend(\"No description available\")\n",
    "\n",
    "# code to extract price of the product\n",
    "prod_price = driver.find_elements_by_xpath('//div[@class=\"_30jeq3\"]')\n",
    "for i in prod_price:\n",
    "    price.append(i.text)\n",
    "\n",
    "# code to extract the discount percentage\n",
    "prod_discount = driver.find_elements_by_xpath('//div[@class=\"_3Ay6Sb\"]//span')\n",
    "for i in prod_discount:\n",
    "    discount.append(i.text)"
   ]
  },
  {
   "cell_type": "code",
   "execution_count": 629,
   "id": "72db53ab",
   "metadata": {},
   "outputs": [],
   "source": [
    "# code to click on the next button for page 3\n",
    "search_btn2 = driver.find_element_by_xpath('/html/body/div/div/div[3]/div[1]/div[2]/div[12]/div/div/nav/a[12]')\n",
    "search_btn2.click()"
   ]
  },
  {
   "cell_type": "code",
   "execution_count": 630,
   "id": "193f9910",
   "metadata": {},
   "outputs": [
    {
     "data": {
      "text/html": [
       "<div>\n",
       "<style scoped>\n",
       "    .dataframe tbody tr th:only-of-type {\n",
       "        vertical-align: middle;\n",
       "    }\n",
       "\n",
       "    .dataframe tbody tr th {\n",
       "        vertical-align: top;\n",
       "    }\n",
       "\n",
       "    .dataframe thead th {\n",
       "        text-align: right;\n",
       "    }\n",
       "</style>\n",
       "<table border=\"1\" class=\"dataframe\">\n",
       "  <thead>\n",
       "    <tr style=\"text-align: right;\">\n",
       "      <th></th>\n",
       "      <th>Sunglasses Brand</th>\n",
       "      <th>Sunglasses Description</th>\n",
       "      <th>Sunglasses Price</th>\n",
       "      <th>Sunglasses Discount</th>\n",
       "    </tr>\n",
       "  </thead>\n",
       "  <tbody>\n",
       "    <tr>\n",
       "      <th>0</th>\n",
       "      <td>VINCENT CHASE</td>\n",
       "      <td>by Lenskart UV Protection Aviator Sunglasses (53)</td>\n",
       "      <td>₹999</td>\n",
       "      <td>50% off</td>\n",
       "    </tr>\n",
       "    <tr>\n",
       "      <th>1</th>\n",
       "      <td>Singco India</td>\n",
       "      <td>Gradient, Toughened Glass Lens, UV Protection ...</td>\n",
       "      <td>₹599</td>\n",
       "      <td>80% off</td>\n",
       "    </tr>\n",
       "    <tr>\n",
       "      <th>2</th>\n",
       "      <td>Elligator</td>\n",
       "      <td>UV Protection Round Sunglasses (54)</td>\n",
       "      <td>₹248</td>\n",
       "      <td>90% off</td>\n",
       "    </tr>\n",
       "    <tr>\n",
       "      <th>3</th>\n",
       "      <td>PIRASO</td>\n",
       "      <td>UV Protection Aviator Sunglasses (54)</td>\n",
       "      <td>₹200</td>\n",
       "      <td>87% off</td>\n",
       "    </tr>\n",
       "    <tr>\n",
       "      <th>4</th>\n",
       "      <td>SRPM</td>\n",
       "      <td>UV Protection Wayfarer Sunglasses (56)</td>\n",
       "      <td>₹198</td>\n",
       "      <td>84% off</td>\n",
       "    </tr>\n",
       "    <tr>\n",
       "      <th>...</th>\n",
       "      <td>...</td>\n",
       "      <td>...</td>\n",
       "      <td>...</td>\n",
       "      <td>...</td>\n",
       "    </tr>\n",
       "    <tr>\n",
       "      <th>95</th>\n",
       "      <td>Cristiano Ronnie</td>\n",
       "      <td>Toughened Glass Lens, UV Protection Rectangula...</td>\n",
       "      <td>₹664</td>\n",
       "      <td>66% off</td>\n",
       "    </tr>\n",
       "    <tr>\n",
       "      <th>96</th>\n",
       "      <td>New Specs</td>\n",
       "      <td>UV Protection Round, Oval Sunglasses (54)</td>\n",
       "      <td>₹1,161</td>\n",
       "      <td>68% off</td>\n",
       "    </tr>\n",
       "    <tr>\n",
       "      <th>97</th>\n",
       "      <td>ROZZETTA CRAFT</td>\n",
       "      <td>UV Protection Aviator Sunglasses (55)</td>\n",
       "      <td>₹266</td>\n",
       "      <td>79% off</td>\n",
       "    </tr>\n",
       "    <tr>\n",
       "      <th>98</th>\n",
       "      <td>Fastrack</td>\n",
       "      <td>Polarized, Gradient Cat-eye Sunglasses (57)</td>\n",
       "      <td>₹225</td>\n",
       "      <td>85% off</td>\n",
       "    </tr>\n",
       "    <tr>\n",
       "      <th>99</th>\n",
       "      <td>Cristiano Ronnie</td>\n",
       "      <td>Others Retro Square Sunglasses (Free Size)</td>\n",
       "      <td>₹664</td>\n",
       "      <td>66% off</td>\n",
       "    </tr>\n",
       "  </tbody>\n",
       "</table>\n",
       "<p>100 rows × 4 columns</p>\n",
       "</div>"
      ],
      "text/plain": [
       "    Sunglasses Brand                             Sunglasses Description  \\\n",
       "0      VINCENT CHASE  by Lenskart UV Protection Aviator Sunglasses (53)   \n",
       "1       Singco India  Gradient, Toughened Glass Lens, UV Protection ...   \n",
       "2          Elligator                UV Protection Round Sunglasses (54)   \n",
       "3             PIRASO              UV Protection Aviator Sunglasses (54)   \n",
       "4               SRPM             UV Protection Wayfarer Sunglasses (56)   \n",
       "..               ...                                                ...   \n",
       "95  Cristiano Ronnie  Toughened Glass Lens, UV Protection Rectangula...   \n",
       "96         New Specs          UV Protection Round, Oval Sunglasses (54)   \n",
       "97    ROZZETTA CRAFT              UV Protection Aviator Sunglasses (55)   \n",
       "98          Fastrack        Polarized, Gradient Cat-eye Sunglasses (57)   \n",
       "99  Cristiano Ronnie         Others Retro Square Sunglasses (Free Size)   \n",
       "\n",
       "   Sunglasses Price Sunglasses Discount  \n",
       "0              ₹999             50% off  \n",
       "1              ₹599             80% off  \n",
       "2              ₹248             90% off  \n",
       "3              ₹200             87% off  \n",
       "4              ₹198             84% off  \n",
       "..              ...                 ...  \n",
       "95             ₹664             66% off  \n",
       "96           ₹1,161             68% off  \n",
       "97             ₹266             79% off  \n",
       "98             ₹225             85% off  \n",
       "99             ₹664             66% off  \n",
       "\n",
       "[100 rows x 4 columns]"
      ]
     },
     "execution_count": 630,
     "metadata": {},
     "output_type": "execute_result"
    }
   ],
   "source": [
    "# code to extract brand details\n",
    "prod_brand = driver.find_elements_by_xpath('//div[@class=\"_2WkVRV\"]')\n",
    "for i in prod_brand:\n",
    "    brand.append(i.text)\n",
    "\n",
    "# code to extract product description\n",
    "prod_description = driver.find_elements_by_xpath('//a[@class=\"IRpwTa\"]')\n",
    "for i in prod_description:\n",
    "    try:\n",
    "        description.append(i.text)\n",
    "    except:\n",
    "        description.append(\"No description available\")\n",
    "\n",
    "# code to extract price of the product\n",
    "prod_price = driver.find_elements_by_xpath('//div[@class=\"_30jeq3\"]')\n",
    "for i in prod_price:\n",
    "    price.append(i.text)\n",
    "\n",
    "# code to extract the discount percentage\n",
    "prod_discount = driver.find_elements_by_xpath('//div[@class=\"_3Ay6Sb\"]//span')\n",
    "for i in prod_discount:\n",
    "    discount.append(i.text)\n",
    "    \n",
    "\n",
    "# creating the data frame now\n",
    "df = pd.DataFrame({})\n",
    "df['Sunglasses Brand']=brand[:100]\n",
    "df['Sunglasses Description']=description[:100]\n",
    "df['Sunglasses Price']=price[:100]\n",
    "df['Sunglasses Discount']=discount[:100]\n",
    "df"
   ]
  },
  {
   "cell_type": "markdown",
   "id": "22178ab5",
   "metadata": {},
   "source": [
    "##### Q5. Scrape 100 reviews data from flipkart.com for iphone11 phone. You have to go the link: https://www.flipkart.com/apple-iphone-11-black-64-gb-includes-earpods-power- adapter/p/itm0f37c2240b217?pid=MOBFKCTSVZAXUHGR&lid=LSTMOBFKC TSVZAXUHGREPBFGI&marketplace."
   ]
  },
  {
   "cell_type": "code",
   "execution_count": 553,
   "id": "8671e099",
   "metadata": {},
   "outputs": [],
   "source": [
    "# getting the flipkart shopping site url on the web driver\n",
    "url = 'https://www.flipkart.com/apple-iphone-11-black-64-gb-includes- earpods-power- adapter/p/itm0f37c2240b217?pid=MOBFKCTSVZAXUHGR&lid=LSTMOBFKC TSVZAXUHGREPBFGI&marketplace.'\n",
    "driver.get(url)\n",
    "\n",
    "review = driver.find_element_by_xpath(\"//div[@class='_3UAT2v _16PBlm']\")\n",
    "review.click()\n"
   ]
  },
  {
   "cell_type": "code",
   "execution_count": 555,
   "id": "0bfd9aa2",
   "metadata": {},
   "outputs": [
    {
     "data": {
      "text/plain": [
       "['The Best Phone for the Money\\n\\nThe iPhone 11 offers superb cameras, a more durable design and excellent battery life for an affordable price.\\n\\nCompelling ultra-wide camera\\nNew Night mode is excellent\\nLong battery life',\n",
       " 'Really satisfied with the Product I received... It’s totally genuine and the packaging was also really good so if ur planning to buy just go for it.',\n",
       " 'Amazing phone with great cameras and better battery which gives you the best performance. I just love the camera .',\n",
       " 'Great iPhone very snappy experience as apple kind. Upgraded from iPhone 7.\\nPros\\n-Camera top class\\n- Battery top performed\\n-Chipset no need to say as apple kind\\n-Security as you expect from apple\\n- Display super bright industry leading colour\\naccuracy and super responsive\\n-Build quality as expect from apple sturdy\\npremium durable beautiful stylish.\\n-Os most stable os in smartphone industry\\n\\nCons\\n-No 5G\\n-Display is not based on OLED technology\\n-Charger headphones and 1 apple stic...\\nREAD MORE',\n",
       " 'Previously I was using one plus 3t it was a great phone\\nAnd then I decided to upgrade I am stuck between Samsung s10 plus or iPhone 11\\nI have seen the specs and everything were good except the display it’s somewhere between 720-1080 and it’s not even an amoled it’s an LCD display\\nBut I decided to go with iPhone because I have never used an IOS device I have Been an android user from the past 9 years I ordered IPhone 11 (128gb) product red\\nMy experience after using 3 weeks\\n1. The delivery ...\\nREAD MORE',\n",
       " 'This is my first iOS phone. I am very happy with this product. Very much satisfied with this. I love this phone.',\n",
       " 'Amazing Powerful and Durable Gadget.\\n\\nI’m am very happy with the camera picture quality, Amazing face id unlocked in dark room, Strong battery with perfect screen size as you can carry easily in pocket. This is my third iPhone.\\n\\nI shifted from android Samsung Note series to iPhone because of the strong build quality and peace of mind for next 3-4 years.\\n\\nDon’t think to much just go for it and I suggest you to go for minimum 128gb variant or more 256gb.\\n\\nI’ve attached my puppy pics and no fi...\\nREAD MORE',\n",
       " 'So far it’s been an AMAZING experience coming back to iOS after nearly a decade but it’s not as versatile as android though phone is sturdy dropped it accidentally a couple of times and nothing happened fortunately camera is awesome',\n",
       " 'What a camera .....just awesome ..you can feel this iPhone just awesome . Good for gaming also ...try pubg in hd it’s just wow',\n",
       " 'i11 is worthy to buy, too much happy with the product. Thank u flipkart I received the item on time..loved it..']"
      ]
     },
     "execution_count": 555,
     "metadata": {},
     "output_type": "execute_result"
    }
   ],
   "source": [
    "rating=[]\n",
    "review_summ=[]\n",
    "full_review=[]\n",
    "\n",
    "rat=driver.find_elements_by_xpath(\"//div[@class='_3LWZlK _1BLPMq']\")\n",
    "for i in rat:\n",
    "    rating.append(i.text)\n",
    "rating\n",
    "\n",
    "review=driver.find_elements_by_xpath(\"//p[@class='_2-N8zT']\")\n",
    "for i in review: \n",
    "    review_summ.append(i.text)\n",
    "review_summ\n",
    "\n",
    "freview = driver.find_elements_by_xpath(\"//div[@class='t-ZTKy']\")\n",
    "for i in freview:\n",
    "    full_review.append(i.text)    \n",
    "full_review"
   ]
  },
  {
   "cell_type": "code",
   "execution_count": 556,
   "id": "1b6144e2",
   "metadata": {},
   "outputs": [],
   "source": [
    "page2 = driver.find_element_by_link_text(\"2\")\n",
    "page2.click()"
   ]
  },
  {
   "cell_type": "code",
   "execution_count": 558,
   "id": "b04a37dd",
   "metadata": {},
   "outputs": [],
   "source": [
    "rat=driver.find_elements_by_xpath(\"//div[@class='_3LWZlK _1BLPMq']\")\n",
    "for i in rat:\n",
    "    rating.append(i.text)\n",
    "\n",
    "\n",
    "    review=driver.find_elements_by_xpath(\"//p[@class='_2-N8zT']\")\n",
    "for i in review: \n",
    "    review_summ.append(i.text)\n",
    "\n",
    "\n",
    "freview = driver.find_elements_by_xpath(\"//div[@class='t-ZTKy']\")\n",
    "for i in freview:\n",
    "    full_review.append(i.text)    \n"
   ]
  },
  {
   "cell_type": "code",
   "execution_count": 559,
   "id": "dfe98aa2",
   "metadata": {},
   "outputs": [],
   "source": [
    "#do click next page using class_name function\n",
    "page3 = driver.find_element_by_link_text(\"3\")\n",
    "page3.click()"
   ]
  },
  {
   "cell_type": "code",
   "execution_count": 560,
   "id": "abacf7ae",
   "metadata": {},
   "outputs": [],
   "source": [
    "#extract all the tags and then extracting the text from these tags one by one by looping over these tags\n",
    "rat=driver.find_elements_by_xpath(\"//div[@class='_3LWZlK _1BLPMq']\")\n",
    "for i in rat:\n",
    "    rating.append(i.text)\n",
    "\n",
    "\n",
    "review=driver.find_elements_by_xpath(\"//p[@class='_2-N8zT']\")\n",
    "for i in review: \n",
    "    review_summ.append(i.text)\n",
    "\n",
    "\n",
    "freview = driver.find_elements_by_xpath(\"//div[@class='t-ZTKy']\")\n",
    "for i in freview:\n",
    "    full_review.append(i.text)    \n"
   ]
  },
  {
   "cell_type": "code",
   "execution_count": 562,
   "id": "8ec86044",
   "metadata": {},
   "outputs": [],
   "source": [
    "#do click next page using class_name function\n",
    "page4 = driver.find_element_by_link_text(\"4\")\n",
    "page4.click()\n",
    "\n",
    "#extract all the tags and then extracting the text from these tags one by one by looping over these tags\n",
    "rat=driver.find_elements_by_xpath(\"//div[@class='_3LWZlK _1BLPMq']\")\n",
    "for i in rat:\n",
    "    rating.append(i.text)\n",
    "\n",
    "\n",
    "review=driver.find_elements_by_xpath(\"//p[@class='_2-N8zT']\")\n",
    "for i in review: \n",
    "    review_summ.append(i.text)\n",
    "\n",
    "\n",
    "freview = driver.find_elements_by_xpath(\"//div[@class='t-ZTKy']\")\n",
    "for i in freview:\n",
    "    full_review.append(i.text)    \n"
   ]
  },
  {
   "cell_type": "code",
   "execution_count": 564,
   "id": "6571c73b",
   "metadata": {},
   "outputs": [],
   "source": [
    "#do click next page using class_name function\n",
    "page5 = driver.find_element_by_link_text(\"5\")\n",
    "page5.click()\n",
    "\n",
    "#extract all the tags and then extracting the text from these tags one by one by looping over these tags\n",
    "rat=driver.find_elements_by_xpath(\"//div[@class='_3LWZlK _1BLPMq']\")\n",
    "for i in rat:\n",
    "    rating.append(i.text)\n",
    "\n",
    "review=driver.find_elements_by_xpath(\"//p[@class='_2-N8zT']\")\n",
    "for i in review: \n",
    "    review_summ.append(i.text)\n",
    "\n",
    "freview = driver.find_elements_by_xpath(\"//div[@class='t-ZTKy']\")\n",
    "for i in freview:\n",
    "    full_review.append(i.text)    "
   ]
  },
  {
   "cell_type": "code",
   "execution_count": 566,
   "id": "b9242177",
   "metadata": {},
   "outputs": [],
   "source": [
    "#extract all the tags and then extracting the text from these tags one by one by looping over these tags\n",
    "page6 = driver.find_element_by_link_text(\"6\")\n",
    "page6.click()\n",
    "\n",
    "rat=driver.find_elements_by_xpath(\"//div[@class='_3LWZlK _1BLPMq']\")\n",
    "for i in rat:\n",
    "    rating.append(i.text)\n",
    "\n",
    "review=driver.find_elements_by_xpath(\"//p[@class='_2-N8zT']\")\n",
    "for i in review: \n",
    "    review_summ.append(i.text)\n",
    "\n",
    "freview = driver.find_elements_by_xpath(\"//div[@class='t-ZTKy']\")\n",
    "for i in freview:\n",
    "    full_review.append(i.text)    "
   ]
  },
  {
   "cell_type": "code",
   "execution_count": null,
   "id": "8726e0bc",
   "metadata": {},
   "outputs": [],
   "source": [
    "page7 = driver.find_element_by_link_text(\"7\")\n",
    "page7.click()\n",
    "\n",
    "rat=driver.find_elements_by_xpath(\"//div[@class='_3LWZlK _1BLPMq']\")\n",
    "for i in rat:\n",
    "    rating.append(i.text)\n",
    "\n",
    "\n",
    "review=driver.find_elements_by_xpath(\"//p[@class='_2-N8zT']\")\n",
    "for i in review: \n",
    "    review_summ.append(i.text)\n",
    "\n",
    "\n",
    "freview = driver.find_elements_by_xpath(\"//div[@class='t-ZTKy']\")\n",
    "for i in freview:\n",
    "    full_review.append(i.text)    "
   ]
  },
  {
   "cell_type": "code",
   "execution_count": 567,
   "id": "dcee64f2",
   "metadata": {},
   "outputs": [],
   "source": [
    "page8 = driver.find_element_by_link_text(\"8\")\n",
    "page8.click()\n",
    "\n",
    "rat=driver.find_elements_by_xpath(\"//div[@class='_3LWZlK _1BLPMq']\")\n",
    "for i in rat:\n",
    "    rating.append(i.text)\n",
    "\n",
    "\n",
    "review=driver.find_elements_by_xpath(\"//p[@class='_2-N8zT']\")\n",
    "for i in review: \n",
    "    review_summ.append(i.text)\n",
    "\n",
    "\n",
    "freview = driver.find_elements_by_xpath(\"//div[@class='t-ZTKy']\")\n",
    "for i in freview:\n",
    "    full_review.append(i.text)   "
   ]
  },
  {
   "cell_type": "code",
   "execution_count": null,
   "id": "ddc098e7",
   "metadata": {},
   "outputs": [],
   "source": [
    "page9 = driver.find_element_by_link_text(\"9\")\n",
    "page9.click()\n",
    "\n",
    "rat=driver.find_elements_by_xpath(\"//div[@class='_3LWZlK _1BLPMq']\")\n",
    "for i in rat:\n",
    "    rating.append(i.text)\n",
    "\n",
    "\n",
    "review=driver.find_elements_by_xpath(\"//p[@class='_2-N8zT']\")\n",
    "for i in review: \n",
    "    review_summ.append(i.text)\n",
    "\n",
    "\n",
    "freview = driver.find_elements_by_xpath(\"//div[@class='t-ZTKy']\")\n",
    "for i in freview:\n",
    "    full_review.append(i.text)    \n"
   ]
  },
  {
   "cell_type": "code",
   "execution_count": 569,
   "id": "4160512e",
   "metadata": {},
   "outputs": [],
   "source": [
    "page10 = driver.find_element_by_link_text(\"10\")\n",
    "page10.click()\n",
    "\n",
    "rat=driver.find_elements_by_xpath(\"//div[@class='_3LWZlK _1BLPMq']\")\n",
    "for i in rat:\n",
    "    rating.append(i.text)\n",
    "\n",
    "review=driver.find_elements_by_xpath(\"//p[@class='_2-N8zT']\")\n",
    "for i in review: \n",
    "    review_summ.append(i.text)\n",
    "\n",
    "freview = driver.find_elements_by_xpath(\"//div[@class='t-ZTKy']\")\n",
    "for i in freview:\n",
    "    full_review.append(i.text)    "
   ]
  },
  {
   "cell_type": "code",
   "execution_count": 571,
   "id": "edd8ebad",
   "metadata": {},
   "outputs": [],
   "source": [
    "page11 = driver.find_element_by_link_text(\"11\")\n",
    "page11.click()\n",
    "rat=driver.find_elements_by_xpath(\"//div[@class='_3LWZlK _1BLPMq']\")\n",
    "for i in rat:\n",
    "    rating.append(i.text)\n",
    "\n",
    "review=driver.find_elements_by_xpath(\"//p[@class='_2-N8zT']\")\n",
    "for i in review: \n",
    "    review_summ.append(i.text)\n",
    "\n",
    "freview = driver.find_elements_by_xpath(\"//div[@class='t-ZTKy']\")\n",
    "for i in freview:\n",
    "    full_review.append(i.text)    "
   ]
  },
  {
   "cell_type": "code",
   "execution_count": 575,
   "id": "1aa5a1f6",
   "metadata": {},
   "outputs": [
    {
     "data": {
      "text/html": [
       "<div>\n",
       "<style scoped>\n",
       "    .dataframe tbody tr th:only-of-type {\n",
       "        vertical-align: middle;\n",
       "    }\n",
       "\n",
       "    .dataframe tbody tr th {\n",
       "        vertical-align: top;\n",
       "    }\n",
       "\n",
       "    .dataframe thead th {\n",
       "        text-align: right;\n",
       "    }\n",
       "</style>\n",
       "<table border=\"1\" class=\"dataframe\">\n",
       "  <thead>\n",
       "    <tr style=\"text-align: right;\">\n",
       "      <th></th>\n",
       "      <th>rating</th>\n",
       "      <th>review_summary</th>\n",
       "      <th>full_review</th>\n",
       "    </tr>\n",
       "  </thead>\n",
       "  <tbody>\n",
       "    <tr>\n",
       "      <th>0</th>\n",
       "      <td>5</td>\n",
       "      <td>Brilliant</td>\n",
       "      <td>The Best Phone for the Money\\n\\nThe iPhone 11 ...</td>\n",
       "    </tr>\n",
       "    <tr>\n",
       "      <th>1</th>\n",
       "      <td>5</td>\n",
       "      <td>Simply awesome</td>\n",
       "      <td>Really satisfied with the Product I received.....</td>\n",
       "    </tr>\n",
       "    <tr>\n",
       "      <th>2</th>\n",
       "      <td>5</td>\n",
       "      <td>Perfect product!</td>\n",
       "      <td>Amazing phone with great cameras and better ba...</td>\n",
       "    </tr>\n",
       "    <tr>\n",
       "      <th>3</th>\n",
       "      <td>5</td>\n",
       "      <td>Best in the market!</td>\n",
       "      <td>Great iPhone very snappy experience as apple k...</td>\n",
       "    </tr>\n",
       "    <tr>\n",
       "      <th>4</th>\n",
       "      <td>5</td>\n",
       "      <td>Worth every penny</td>\n",
       "      <td>Previously I was using one plus 3t it was a gr...</td>\n",
       "    </tr>\n",
       "    <tr>\n",
       "      <th>...</th>\n",
       "      <td>...</td>\n",
       "      <td>...</td>\n",
       "      <td>...</td>\n",
       "    </tr>\n",
       "    <tr>\n",
       "      <th>95</th>\n",
       "      <td>5</td>\n",
       "      <td>Excellent</td>\n",
       "      <td>iPhone is delivered on time. Display is great ...</td>\n",
       "    </tr>\n",
       "    <tr>\n",
       "      <th>96</th>\n",
       "      <td>5</td>\n",
       "      <td>Worth every penny</td>\n",
       "      <td>This is my first ever iPhone.\\nAnd I truly don...</td>\n",
       "    </tr>\n",
       "    <tr>\n",
       "      <th>97</th>\n",
       "      <td>5</td>\n",
       "      <td>Fabulous!</td>\n",
       "      <td>Really very nice... my dad gifted me really I ...</td>\n",
       "    </tr>\n",
       "    <tr>\n",
       "      <th>98</th>\n",
       "      <td>4</td>\n",
       "      <td>Brilliant</td>\n",
       "      <td>I got this phone for good price hence 5 star f...</td>\n",
       "    </tr>\n",
       "    <tr>\n",
       "      <th>99</th>\n",
       "      <td>5</td>\n",
       "      <td>Just wow!</td>\n",
       "      <td>I genuinely liked it. One of the best mobile p...</td>\n",
       "    </tr>\n",
       "  </tbody>\n",
       "</table>\n",
       "<p>100 rows × 3 columns</p>\n",
       "</div>"
      ],
      "text/plain": [
       "   rating       review_summary  \\\n",
       "0       5            Brilliant   \n",
       "1       5       Simply awesome   \n",
       "2       5     Perfect product!   \n",
       "3       5  Best in the market!   \n",
       "4       5    Worth every penny   \n",
       "..    ...                  ...   \n",
       "95      5            Excellent   \n",
       "96      5    Worth every penny   \n",
       "97      5            Fabulous!   \n",
       "98      4            Brilliant   \n",
       "99      5            Just wow!   \n",
       "\n",
       "                                          full_review  \n",
       "0   The Best Phone for the Money\\n\\nThe iPhone 11 ...  \n",
       "1   Really satisfied with the Product I received.....  \n",
       "2   Amazing phone with great cameras and better ba...  \n",
       "3   Great iPhone very snappy experience as apple k...  \n",
       "4   Previously I was using one plus 3t it was a gr...  \n",
       "..                                                ...  \n",
       "95  iPhone is delivered on time. Display is great ...  \n",
       "96  This is my first ever iPhone.\\nAnd I truly don...  \n",
       "97  Really very nice... my dad gifted me really I ...  \n",
       "98  I got this phone for good price hence 5 star f...  \n",
       "99  I genuinely liked it. One of the best mobile p...  \n",
       "\n",
       "[100 rows x 3 columns]"
      ]
     },
     "execution_count": 575,
     "metadata": {},
     "output_type": "execute_result"
    }
   ],
   "source": [
    "df=pd.DataFrame({})\n",
    "df['rating']=rating[0:100]\n",
    "df['review_summary']=review_summ[0:100]\n",
    "df['full_review']=full_review[0:100]\n",
    "df"
   ]
  },
  {
   "cell_type": "code",
   "execution_count": null,
   "id": "9f24ffa5",
   "metadata": {},
   "outputs": [],
   "source": []
  },
  {
   "cell_type": "markdown",
   "id": "b49c9b6e",
   "metadata": {},
   "source": [
    "##### Q6.  Scrape data for first 100 sneakers you find when you visit flipkart.com"
   ]
  },
  {
   "cell_type": "code",
   "execution_count": 418,
   "id": "977d95e7",
   "metadata": {},
   "outputs": [],
   "source": [
    "#getting url on web driver\n",
    "driver.get('https://www.flipkart.com/')\n"
   ]
  },
  {
   "cell_type": "code",
   "execution_count": 419,
   "id": "7adae846",
   "metadata": {},
   "outputs": [],
   "source": [
    "product= driver.find_element_by_xpath(\"//input[@title='Search for products, brands and more']\")\n",
    "product.send_keys(\"sneakers\")"
   ]
  },
  {
   "cell_type": "code",
   "execution_count": 420,
   "id": "cc92436b",
   "metadata": {},
   "outputs": [],
   "source": [
    "select= driver.find_element_by_xpath(\"//button[@type='submit']\")\n",
    "select.click()"
   ]
  },
  {
   "cell_type": "code",
   "execution_count": 423,
   "id": "3dddc17b",
   "metadata": {},
   "outputs": [],
   "source": [
    "brand=[]\n",
    "product_des=[]\n",
    "price=[]\n",
    "discount=[]"
   ]
  },
  {
   "cell_type": "code",
   "execution_count": 425,
   "id": "dbe554ce",
   "metadata": {},
   "outputs": [],
   "source": [
    "product_brand = driver.find_elements_by_xpath(\"//div[@class='_2WkVRV']\")\n",
    "\n",
    "for i in product_brand:\n",
    "    brand.append(i.text)    \n",
    "\n",
    "product_desc = driver.find_elements_by_xpath(\"//a[@class='IRpwTa']\")\n",
    "\n",
    "for i in product_desc: \n",
    "    product_des.append(i.text)\n",
    "\n",
    "product_price = driver.find_elements_by_xpath(\"//div[@class='_30jeq3']\")\n",
    "\n",
    "for i in product_price:\n",
    "    price.append(i.text)\n",
    "\n",
    "product_discount = driver.find_elements_by_xpath(\"//div[@class='_3Ay6Sb']\")\n",
    "\n",
    "for i in product_discount:\n",
    "    discount.append( i.text)\n"
   ]
  },
  {
   "cell_type": "code",
   "execution_count": 426,
   "id": "94132b07",
   "metadata": {},
   "outputs": [
    {
     "data": {
      "text/plain": [
       "<selenium.webdriver.remote.webelement.WebElement (session=\"b47f263d68828ee1d76f0c0e8939f831\", element=\"fdfd7a69-a330-4a8a-9ad0-ba9b8131cdac\")>"
      ]
     },
     "execution_count": 426,
     "metadata": {},
     "output_type": "execute_result"
    }
   ],
   "source": [
    "page2 = driver.find_element_by_link_text(\"2\")\n",
    "page2"
   ]
  },
  {
   "cell_type": "code",
   "execution_count": 427,
   "id": "380ed0de",
   "metadata": {},
   "outputs": [],
   "source": [
    "product_brand = driver.find_elements_by_xpath(\"//div[@class='_2WkVRV']\")\n",
    "\n",
    "for i in product_brand:\n",
    "    brand.append(i.text)    \n",
    "\n",
    "product_desc = driver.find_elements_by_xpath(\"//a[@class='IRpwTa']\")\n",
    "\n",
    "for i in product_desc: \n",
    "    product_des.append(i.text)\n",
    "\n",
    "product_price = driver.find_elements_by_xpath(\"//div[@class='_30jeq3']\")\n",
    "\n",
    "for i in product_price:\n",
    "    price.append(i.text)\n",
    "\n",
    "product_discount = driver.find_elements_by_xpath(\"//div[@class='_3Ay6Sb']\")\n",
    "\n",
    "for i in product_discount:\n",
    "    discount.append( i.text)"
   ]
  },
  {
   "cell_type": "code",
   "execution_count": 428,
   "id": "6c852b43",
   "metadata": {},
   "outputs": [],
   "source": [
    "page3 = driver.find_element_by_link_text(\"3\")\n",
    "page3.click()"
   ]
  },
  {
   "cell_type": "code",
   "execution_count": 429,
   "id": "d78b9740",
   "metadata": {},
   "outputs": [],
   "source": [
    "product_brand = driver.find_elements_by_xpath(\"//div[@class='_2WkVRV']\")\n",
    "\n",
    "for i in product_brand:\n",
    "    brand.append(i.text)    \n",
    "\n",
    "product_desc = driver.find_elements_by_xpath(\"//a[@class='IRpwTa']\")\n",
    "\n",
    "for i in product_desc: \n",
    "    product_des.append(i.text)\n",
    "\n",
    "product_price = driver.find_elements_by_xpath(\"//div[@class='_30jeq3']\")\n",
    "\n",
    "for i in product_price:\n",
    "    price.append(i.text)\n",
    "\n",
    "product_discount = driver.find_elements_by_xpath(\"//div[@class='_3Ay6Sb']\")\n",
    "\n",
    "for i in product_discount:\n",
    "    discount.append( i.text)"
   ]
  },
  {
   "cell_type": "code",
   "execution_count": 439,
   "id": "5c64cd03",
   "metadata": {},
   "outputs": [
    {
     "data": {
      "text/html": [
       "<div>\n",
       "<style scoped>\n",
       "    .dataframe tbody tr th:only-of-type {\n",
       "        vertical-align: middle;\n",
       "    }\n",
       "\n",
       "    .dataframe tbody tr th {\n",
       "        vertical-align: top;\n",
       "    }\n",
       "\n",
       "    .dataframe thead th {\n",
       "        text-align: right;\n",
       "    }\n",
       "</style>\n",
       "<table border=\"1\" class=\"dataframe\">\n",
       "  <thead>\n",
       "    <tr style=\"text-align: right;\">\n",
       "      <th></th>\n",
       "      <th>brand</th>\n",
       "      <th>product_decription</th>\n",
       "      <th>price</th>\n",
       "      <th>discount</th>\n",
       "    </tr>\n",
       "  </thead>\n",
       "  <tbody>\n",
       "    <tr>\n",
       "      <th>0</th>\n",
       "      <td>PEHANOSA</td>\n",
       "      <td>Casuals Walking Shoes Boxing &amp; Wrestling Shoes...</td>\n",
       "      <td>₹449</td>\n",
       "      <td>55% off</td>\n",
       "    </tr>\n",
       "    <tr>\n",
       "      <th>1</th>\n",
       "      <td>Longwalk</td>\n",
       "      <td>Sneakers For Women</td>\n",
       "      <td>₹348</td>\n",
       "      <td>56% off</td>\n",
       "    </tr>\n",
       "    <tr>\n",
       "      <th>2</th>\n",
       "      <td>Magnolia</td>\n",
       "      <td>Sneakers For Men</td>\n",
       "      <td>₹398</td>\n",
       "      <td>60% off</td>\n",
       "    </tr>\n",
       "    <tr>\n",
       "      <th>3</th>\n",
       "      <td>luxury fashion</td>\n",
       "      <td>Luxury Fashionable casual sneaker shoes Sneake...</td>\n",
       "      <td>₹449</td>\n",
       "      <td>65% off</td>\n",
       "    </tr>\n",
       "    <tr>\n",
       "      <th>4</th>\n",
       "      <td>URBANBOX</td>\n",
       "      <td>Sneakers For Men</td>\n",
       "      <td>₹220</td>\n",
       "      <td>77% off</td>\n",
       "    </tr>\n",
       "    <tr>\n",
       "      <th>...</th>\n",
       "      <td>...</td>\n",
       "      <td>...</td>\n",
       "      <td>...</td>\n",
       "      <td>...</td>\n",
       "    </tr>\n",
       "    <tr>\n",
       "      <th>95</th>\n",
       "      <td>Longwalk</td>\n",
       "      <td>White Sneaker For Men Sneakers For Men</td>\n",
       "      <td>₹598</td>\n",
       "      <td>60% off</td>\n",
       "    </tr>\n",
       "    <tr>\n",
       "      <th>96</th>\n",
       "      <td>ASTEROID</td>\n",
       "      <td>Sneakers For Men</td>\n",
       "      <td>₹499</td>\n",
       "      <td>37% off</td>\n",
       "    </tr>\n",
       "    <tr>\n",
       "      <th>97</th>\n",
       "      <td>HOTSTYLE</td>\n",
       "      <td>Sneakers For Men</td>\n",
       "      <td>₹298</td>\n",
       "      <td>53% off</td>\n",
       "    </tr>\n",
       "    <tr>\n",
       "      <th>98</th>\n",
       "      <td>Numenzo</td>\n",
       "      <td>Sneakers For Men</td>\n",
       "      <td>₹499</td>\n",
       "      <td>54% off</td>\n",
       "    </tr>\n",
       "    <tr>\n",
       "      <th>99</th>\n",
       "      <td>Longwalk</td>\n",
       "      <td>Comfortable &amp; Ultra Light Weight Sneaker Sneak...</td>\n",
       "      <td>₹348</td>\n",
       "      <td>73% off</td>\n",
       "    </tr>\n",
       "  </tbody>\n",
       "</table>\n",
       "<p>100 rows × 4 columns</p>\n",
       "</div>"
      ],
      "text/plain": [
       "             brand                                 product_decription price  \\\n",
       "0         PEHANOSA  Casuals Walking Shoes Boxing & Wrestling Shoes...  ₹449   \n",
       "1         Longwalk                                 Sneakers For Women  ₹348   \n",
       "2         Magnolia                                   Sneakers For Men  ₹398   \n",
       "3   luxury fashion  Luxury Fashionable casual sneaker shoes Sneake...  ₹449   \n",
       "4         URBANBOX                                   Sneakers For Men  ₹220   \n",
       "..             ...                                                ...   ...   \n",
       "95        Longwalk             White Sneaker For Men Sneakers For Men  ₹598   \n",
       "96        ASTEROID                                   Sneakers For Men  ₹499   \n",
       "97        HOTSTYLE                                   Sneakers For Men  ₹298   \n",
       "98         Numenzo                                   Sneakers For Men  ₹499   \n",
       "99        Longwalk  Comfortable & Ultra Light Weight Sneaker Sneak...  ₹348   \n",
       "\n",
       "   discount  \n",
       "0   55% off  \n",
       "1   56% off  \n",
       "2   60% off  \n",
       "3   65% off  \n",
       "4   77% off  \n",
       "..      ...  \n",
       "95  60% off  \n",
       "96  37% off  \n",
       "97  53% off  \n",
       "98  54% off  \n",
       "99  73% off  \n",
       "\n",
       "[100 rows x 4 columns]"
      ]
     },
     "execution_count": 439,
     "metadata": {},
     "output_type": "execute_result"
    }
   ],
   "source": [
    "df=pd.DataFrame({})\n",
    "df['brand']=brand[0:100]\n",
    "df['product_decription']=product_des[0:100]\n",
    "df['price']=price[0:100]\n",
    "df['discount']=discount[0:100]\n",
    "df"
   ]
  },
  {
   "cell_type": "markdown",
   "id": "9ce5bf00",
   "metadata": {},
   "source": [
    "#####  Q7. Go to the link - https://www.myntra.com/shoes  Set Price filter to “Rs. 7149 to Rs. 14099 ” , Color filter to “Black”, And then scrape First 100 shoes data include “Brand” of the shoes , Short Shoe description, price of the shoe"
   ]
  },
  {
   "cell_type": "code",
   "execution_count": 400,
   "id": "83f0ea0d",
   "metadata": {},
   "outputs": [],
   "source": [
    "#  url on the web drive\n",
    "driver.get(\"https://www.myntra.com/shoes\")"
   ]
  },
  {
   "cell_type": "code",
   "execution_count": 401,
   "id": "32253d3a",
   "metadata": {},
   "outputs": [],
   "source": [
    "color=driver.find_element_by_xpath(\"//ul//li[@class='colour-listItem']\")\n",
    "\n",
    "price_range=driver.find_element_by_xpath(\"//ul[@class='price-list']/li[2]\")\n",
    "color.click()"
   ]
  },
  {
   "cell_type": "code",
   "execution_count": 402,
   "id": "36c00a23",
   "metadata": {},
   "outputs": [],
   "source": [
    "price_range.click()"
   ]
  },
  {
   "cell_type": "code",
   "execution_count": 404,
   "id": "57f9f246",
   "metadata": {},
   "outputs": [],
   "source": [
    "next=driver.find_element_by_xpath(\"//a[@rel='next']\")"
   ]
  },
  {
   "cell_type": "code",
   "execution_count": 405,
   "id": "d4df462d",
   "metadata": {},
   "outputs": [],
   "source": [
    "Brand=[]\n",
    "Description=[]\n",
    "Price=[]"
   ]
  },
  {
   "cell_type": "code",
   "execution_count": 406,
   "id": "48c374f4",
   "metadata": {},
   "outputs": [],
   "source": [
    "shoe_brand=driver.find_elements_by_xpath(\"//h3[@class='product-brand']\")\n",
    "\n",
    "shoe_des=driver.find_elements_by_xpath(\"//h4[@class='product-product']\")\n",
    "\n",
    "shoe_price=driver.find_elements_by_xpath(\"//div[@class='product-price']/span[1]\")"
   ]
  },
  {
   "cell_type": "code",
   "execution_count": 407,
   "id": "0590f11c",
   "metadata": {},
   "outputs": [],
   "source": [
    "for i in shoe_brand:\n",
    "    Brand.append(i.text)\n",
    "    \n",
    "for i in shoe_des:\n",
    "    Description.append(i.text)\n",
    "    \n",
    "for i in shoe_price:\n",
    "    Price.append(i.text)"
   ]
  },
  {
   "cell_type": "code",
   "execution_count": 409,
   "id": "4cde972a",
   "metadata": {},
   "outputs": [],
   "source": [
    "next.click()"
   ]
  },
  {
   "cell_type": "code",
   "execution_count": 410,
   "id": "d62fc460",
   "metadata": {},
   "outputs": [],
   "source": [
    "Brand1=[]\n",
    "Description1=[]\n",
    "Price1=[]"
   ]
  },
  {
   "cell_type": "code",
   "execution_count": 411,
   "id": "150a18c5",
   "metadata": {},
   "outputs": [],
   "source": [
    "shoe_brand1=driver.find_elements_by_xpath(\"//h3[@class='product-brand']\")\n",
    "\n",
    "shoe_des1=driver.find_elements_by_xpath(\"//h4[@class='product-product']\")\n",
    "\n",
    "shoe_price1=driver.find_elements_by_xpath(\"//div[@class='product-price']/span[1]\")\n"
   ]
  },
  {
   "cell_type": "code",
   "execution_count": 413,
   "id": "aa43f0fa",
   "metadata": {},
   "outputs": [],
   "source": [
    "for i in shoe_brand1:\n",
    "    Brand1.append(i.text)\n",
    "    \n",
    "for i in shoe_des1:\n",
    "    Description1.append(i.text)\n",
    "    \n",
    "for i in shoe_price1:\n",
    "    Price1.append(i.text)"
   ]
  },
  {
   "cell_type": "code",
   "execution_count": 414,
   "id": "0a964b76",
   "metadata": {},
   "outputs": [],
   "source": [
    "x=Brand+Brand1\n",
    "y=Description+Description1\n",
    "z=Price+Price1"
   ]
  },
  {
   "cell_type": "code",
   "execution_count": 415,
   "id": "478b3c4f",
   "metadata": {},
   "outputs": [
    {
     "name": "stdout",
     "output_type": "stream",
     "text": [
      "100 100 100\n"
     ]
    }
   ],
   "source": [
    "x=x[0:100]\n",
    "y=y[0:100]\n",
    "z=z[0:100]\n",
    "print(len(x),len(y),len(z))"
   ]
  },
  {
   "cell_type": "code",
   "execution_count": 416,
   "id": "66b0ae5e",
   "metadata": {},
   "outputs": [
    {
     "data": {
      "text/html": [
       "<div>\n",
       "<style scoped>\n",
       "    .dataframe tbody tr th:only-of-type {\n",
       "        vertical-align: middle;\n",
       "    }\n",
       "\n",
       "    .dataframe tbody tr th {\n",
       "        vertical-align: top;\n",
       "    }\n",
       "\n",
       "    .dataframe thead th {\n",
       "        text-align: right;\n",
       "    }\n",
       "</style>\n",
       "<table border=\"1\" class=\"dataframe\">\n",
       "  <thead>\n",
       "    <tr style=\"text-align: right;\">\n",
       "      <th></th>\n",
       "      <th>Brand</th>\n",
       "      <th>Product Description</th>\n",
       "      <th>Price</th>\n",
       "    </tr>\n",
       "  </thead>\n",
       "  <tbody>\n",
       "    <tr>\n",
       "      <th>0</th>\n",
       "      <td>Puma</td>\n",
       "      <td>Men Magnify Nitro Running</td>\n",
       "      <td>Rs. 8449Rs. 12999</td>\n",
       "    </tr>\n",
       "    <tr>\n",
       "      <th>1</th>\n",
       "      <td>Puma</td>\n",
       "      <td>Men Electrify Nitro Running</td>\n",
       "      <td>Rs. 7499Rs. 9999</td>\n",
       "    </tr>\n",
       "    <tr>\n",
       "      <th>2</th>\n",
       "      <td>Saint G</td>\n",
       "      <td>Men Mid-Top Chelsea Boots</td>\n",
       "      <td>Rs. 9810Rs. 10900</td>\n",
       "    </tr>\n",
       "    <tr>\n",
       "      <th>3</th>\n",
       "      <td>Puma</td>\n",
       "      <td>Women Magnify Nitro Shoes</td>\n",
       "      <td>Rs. 7799Rs. 12999</td>\n",
       "    </tr>\n",
       "    <tr>\n",
       "      <th>4</th>\n",
       "      <td>RARE RABBIT</td>\n",
       "      <td>Men Leather Flat Boots</td>\n",
       "      <td>Rs. 7999Rs. 9999</td>\n",
       "    </tr>\n",
       "    <tr>\n",
       "      <th>...</th>\n",
       "      <td>...</td>\n",
       "      <td>...</td>\n",
       "      <td>...</td>\n",
       "    </tr>\n",
       "    <tr>\n",
       "      <th>95</th>\n",
       "      <td>Geox</td>\n",
       "      <td>Men Leather Sneakers</td>\n",
       "      <td>Rs. 10999</td>\n",
       "    </tr>\n",
       "    <tr>\n",
       "      <th>96</th>\n",
       "      <td>MANGO</td>\n",
       "      <td>Women WovenDesign Sports Shoes</td>\n",
       "      <td>Rs. 7590Rs. 7990</td>\n",
       "    </tr>\n",
       "    <tr>\n",
       "      <th>97</th>\n",
       "      <td>DAVINCHI</td>\n",
       "      <td>Solid Slip On Shoes</td>\n",
       "      <td>Rs. 7990</td>\n",
       "    </tr>\n",
       "    <tr>\n",
       "      <th>98</th>\n",
       "      <td>DAVINCHI</td>\n",
       "      <td>Solid Leather Formal Shoes</td>\n",
       "      <td>Rs. 7990</td>\n",
       "    </tr>\n",
       "    <tr>\n",
       "      <th>99</th>\n",
       "      <td>Royal Enfield</td>\n",
       "      <td>Cabo WP Riding Boots</td>\n",
       "      <td>Rs. 8500</td>\n",
       "    </tr>\n",
       "  </tbody>\n",
       "</table>\n",
       "<p>100 rows × 3 columns</p>\n",
       "</div>"
      ],
      "text/plain": [
       "            Brand             Product Description              Price\n",
       "0            Puma       Men Magnify Nitro Running  Rs. 8449Rs. 12999\n",
       "1            Puma     Men Electrify Nitro Running   Rs. 7499Rs. 9999\n",
       "2         Saint G       Men Mid-Top Chelsea Boots  Rs. 9810Rs. 10900\n",
       "3            Puma       Women Magnify Nitro Shoes  Rs. 7799Rs. 12999\n",
       "4     RARE RABBIT          Men Leather Flat Boots   Rs. 7999Rs. 9999\n",
       "..            ...                             ...                ...\n",
       "95           Geox            Men Leather Sneakers          Rs. 10999\n",
       "96          MANGO  Women WovenDesign Sports Shoes   Rs. 7590Rs. 7990\n",
       "97       DAVINCHI             Solid Slip On Shoes           Rs. 7990\n",
       "98       DAVINCHI      Solid Leather Formal Shoes           Rs. 7990\n",
       "99  Royal Enfield            Cabo WP Riding Boots           Rs. 8500\n",
       "\n",
       "[100 rows x 3 columns]"
      ]
     },
     "execution_count": 416,
     "metadata": {},
     "output_type": "execute_result"
    }
   ],
   "source": [
    "df=pd.DataFrame({'Brand':x,'Product Description':y,'Price':z})\n",
    "df"
   ]
  },
  {
   "cell_type": "code",
   "execution_count": null,
   "id": "08bc0d11",
   "metadata": {},
   "outputs": [],
   "source": []
  },
  {
   "cell_type": "code",
   "execution_count": null,
   "id": "6ab9d547",
   "metadata": {},
   "outputs": [],
   "source": []
  },
  {
   "cell_type": "markdown",
   "id": "8e26ba6d",
   "metadata": {},
   "source": [
    "##### Q8.   using https://www.amazon.in/ we have toeEnter “Laptop” in the search field and then click. then scrape 3 attributes for each laptop:\n",
    "1. Title\n",
    "2. Ratings\n",
    "3. Price"
   ]
  },
  {
   "cell_type": "code",
   "execution_count": 391,
   "id": "6f591a77",
   "metadata": {},
   "outputs": [],
   "source": [
    "url = \"https://www.amazon.in/\"\n",
    "driver.get(url)\n",
    "\n",
    "# code to write Laptop in the search box\n",
    "search_prod = driver.find_element_by_xpath('/html/body/div[1]/header/div/div[1]/div[2]/div/form/div[2]/div[1]/input')\n",
    "search_prod.send_keys(\"Laptop\")\n",
    "\n",
    "# code to click on the search button\n",
    "search_btn = driver.find_element_by_xpath('/html/body/div[1]/header/div/div[1]/div[2]/div/form/div[3]/div/span/input')\n",
    "search_btn.click()"
   ]
  },
  {
   "cell_type": "code",
   "execution_count": 393,
   "id": "53708fb4",
   "metadata": {},
   "outputs": [],
   "source": [
    "#locating the core i7 filter\n",
    "filter_button=driver.find_elements_by_xpath(\"/html/body/div[1]/div[2]/div[1]/div[2]/div/div[3]/span/div[1]/span/div/div/div[6]/div/div/div[1]/div/span[1]/a[13]/div/span\")\n",
    "for i in filter_button:\n",
    "    if i.text=='Intel Core i7':\n",
    "        i.click()\n",
    "        break"
   ]
  },
  {
   "cell_type": "code",
   "execution_count": 394,
   "id": "1fb215cc",
   "metadata": {},
   "outputs": [],
   "source": [
    "#locating the core i9 filter\n",
    "filter_button=driver.find_elements_by_xpath(\"//div[@class='a-section']\")\n",
    "for j in filter_button:\n",
    "    if j.text=='Intel Core i9':\n",
    "        j.click()\n",
    "        break"
   ]
  },
  {
   "cell_type": "code",
   "execution_count": 395,
   "id": "ffef7f0b",
   "metadata": {},
   "outputs": [
    {
     "name": "stdout",
     "output_type": "stream",
     "text": [
      "22 26 25\n"
     ]
    },
    {
     "data": {
      "text/html": [
       "<div>\n",
       "<style scoped>\n",
       "    .dataframe tbody tr th:only-of-type {\n",
       "        vertical-align: middle;\n",
       "    }\n",
       "\n",
       "    .dataframe tbody tr th {\n",
       "        vertical-align: top;\n",
       "    }\n",
       "\n",
       "    .dataframe thead th {\n",
       "        text-align: right;\n",
       "    }\n",
       "</style>\n",
       "<table border=\"1\" class=\"dataframe\">\n",
       "  <thead>\n",
       "    <tr style=\"text-align: right;\">\n",
       "      <th></th>\n",
       "      <th>Laptop Title</th>\n",
       "      <th>Laptop Rating</th>\n",
       "      <th>Laptop Price</th>\n",
       "    </tr>\n",
       "  </thead>\n",
       "  <tbody>\n",
       "    <tr>\n",
       "      <th>0</th>\n",
       "      <td>Lenovo IdeaPad 3 11th Gen Intel Core i3 15.6 F...</td>\n",
       "      <td>4.2 out of 5 stars.</td>\n",
       "      <td>39,990</td>\n",
       "    </tr>\n",
       "    <tr>\n",
       "      <th>1</th>\n",
       "      <td>Lenovo IdeaPad 3 10th Gen Intel Core i3 15.6 H...</td>\n",
       "      <td>3.8 out of 5 stars.</td>\n",
       "      <td>37,490</td>\n",
       "    </tr>\n",
       "    <tr>\n",
       "      <th>2</th>\n",
       "      <td>Lenovo Chromebook 14e 14.0\" FHD Business Lapto...</td>\n",
       "      <td>4.4 out of 5 stars.</td>\n",
       "      <td>21,990</td>\n",
       "    </tr>\n",
       "    <tr>\n",
       "      <th>3</th>\n",
       "      <td>HP Chromebook 14 Intel Celeron N4020-4GB SDRAM...</td>\n",
       "      <td>4.1 out of 5 stars</td>\n",
       "      <td>26,490</td>\n",
       "    </tr>\n",
       "    <tr>\n",
       "      <th>4</th>\n",
       "      <td>AVITA Cosmos 2 in 1 Intel Celeron Dual Core 11...</td>\n",
       "      <td>3.7 out of 5 stars</td>\n",
       "      <td>19,000</td>\n",
       "    </tr>\n",
       "    <tr>\n",
       "      <th>5</th>\n",
       "      <td>Lenovo IdeaPad Slim 1 Intel Celeron N4020 11.6...</td>\n",
       "      <td>3.0 out of 5 stars</td>\n",
       "      <td>69,788</td>\n",
       "    </tr>\n",
       "    <tr>\n",
       "      <th>6</th>\n",
       "      <td>Lenovo V15 Intel Celeron N4020 15.6\" FHD (1080...</td>\n",
       "      <td>3.7 out of 5 stars</td>\n",
       "      <td>85,600</td>\n",
       "    </tr>\n",
       "    <tr>\n",
       "      <th>7</th>\n",
       "      <td>Lenovo IdeaPad 3 AMD 3020e 14'' HD Thin &amp; Ligh...</td>\n",
       "      <td>3.7 out of 5 stars</td>\n",
       "      <td></td>\n",
       "    </tr>\n",
       "    <tr>\n",
       "      <th>8</th>\n",
       "      <td>Dell 15 (2021) PQC-N5030, 4GB, 256GB SSD, Win ...</td>\n",
       "      <td>4.0 out of 5 stars</td>\n",
       "      <td>28,999</td>\n",
       "    </tr>\n",
       "    <tr>\n",
       "      <th>9</th>\n",
       "      <td>HP Chromebook 14 Intel Celeron N4020-4GB SDRAM...</td>\n",
       "      <td>4.2 out of 5 stars</td>\n",
       "      <td>29,599</td>\n",
       "    </tr>\n",
       "  </tbody>\n",
       "</table>\n",
       "</div>"
      ],
      "text/plain": [
       "                                        Laptop Title        Laptop Rating  \\\n",
       "0  Lenovo IdeaPad 3 11th Gen Intel Core i3 15.6 F...  4.2 out of 5 stars.   \n",
       "1  Lenovo IdeaPad 3 10th Gen Intel Core i3 15.6 H...  3.8 out of 5 stars.   \n",
       "2  Lenovo Chromebook 14e 14.0\" FHD Business Lapto...  4.4 out of 5 stars.   \n",
       "3  HP Chromebook 14 Intel Celeron N4020-4GB SDRAM...   4.1 out of 5 stars   \n",
       "4  AVITA Cosmos 2 in 1 Intel Celeron Dual Core 11...   3.7 out of 5 stars   \n",
       "5  Lenovo IdeaPad Slim 1 Intel Celeron N4020 11.6...   3.0 out of 5 stars   \n",
       "6  Lenovo V15 Intel Celeron N4020 15.6\" FHD (1080...   3.7 out of 5 stars   \n",
       "7  Lenovo IdeaPad 3 AMD 3020e 14'' HD Thin & Ligh...   3.7 out of 5 stars   \n",
       "8  Dell 15 (2021) PQC-N5030, 4GB, 256GB SSD, Win ...   4.0 out of 5 stars   \n",
       "9  HP Chromebook 14 Intel Celeron N4020-4GB SDRAM...   4.2 out of 5 stars   \n",
       "\n",
       "  Laptop Price  \n",
       "0       39,990  \n",
       "1       37,490  \n",
       "2       21,990  \n",
       "3       26,490  \n",
       "4       19,000  \n",
       "5       69,788  \n",
       "6       85,600  \n",
       "7               \n",
       "8       28,999  \n",
       "9       29,599  "
      ]
     },
     "execution_count": 395,
     "metadata": {},
     "output_type": "execute_result"
    }
   ],
   "source": [
    "# code to extract laptop title\n",
    "Laptop_title=[]\n",
    "title = driver.find_elements_by_xpath('//span[@class=\"a-size-medium a-color-base a-text-normal\"]')\n",
    "for i in title[:10]:\n",
    "    Laptop_title.append(i.text)\n",
    "\n",
    "# extracting laptop rating\n",
    "Laptop_rating=[]\n",
    "rating = driver.find_elements_by_class_name(\"a-icon-alt\")\n",
    "for i in rating[:10]:\n",
    "    Laptop_rating.append(i.get_attribute('textContent'))\n",
    "\n",
    "# Extracting laptop price\n",
    "Laptop_price=[]\n",
    "price = driver.find_elements_by_xpath('//span[@class=\"a-price-whole\"]')\n",
    "for i in price[:10]:\n",
    "    Laptop_price.append(i.text)\n",
    "    \n",
    "# checking the length to get the data frame\n",
    "print(len(title), len(rating), len(price))\n",
    "\n",
    "# creating the data frame \n",
    "df = pd.DataFrame({})\n",
    "df['Laptop Title']=Laptop_title\n",
    "df['Laptop Rating']=Laptop_rating\n",
    "df['Laptop Price']=Laptop_price\n",
    "df"
   ]
  },
  {
   "cell_type": "markdown",
   "id": "ec6152a6",
   "metadata": {},
   "source": [
    "##### Q9.   Write a python program to scrape data for first 10 job results for Data Scientist Designation in Noida location. You have to scrape company name, No. of days ago when job was posted, Rating of the company."
   ]
  },
  {
   "cell_type": "code",
   "execution_count": 367,
   "id": "acfd23f5",
   "metadata": {},
   "outputs": [],
   "source": [
    "driver.get(\"https://www.ambitionbox.com/\")"
   ]
  },
  {
   "cell_type": "code",
   "execution_count": 368,
   "id": "fdc348de",
   "metadata": {},
   "outputs": [],
   "source": [
    "job=driver.find_element_by_xpath(\"//a[@class='link jobs']\")"
   ]
  },
  {
   "cell_type": "code",
   "execution_count": 369,
   "id": "6d27f3a1",
   "metadata": {},
   "outputs": [],
   "source": [
    "job.click()\n"
   ]
  },
  {
   "cell_type": "code",
   "execution_count": 370,
   "id": "97e95aa5",
   "metadata": {},
   "outputs": [],
   "source": [
    "search_job=driver.find_element_by_xpath(\"//input[@class='input tt-input']\")\n",
    "search_job.send_keys(\"Data Scientist\")"
   ]
  },
  {
   "cell_type": "code",
   "execution_count": 371,
   "id": "f1a26dae",
   "metadata": {},
   "outputs": [],
   "source": [
    "search_btn=driver.find_element_by_xpath(\"//button[@class='ab_btn search-btn round']\")"
   ]
  },
  {
   "cell_type": "code",
   "execution_count": 372,
   "id": "86ec07e0",
   "metadata": {},
   "outputs": [],
   "source": [
    "search_btn.click()"
   ]
  },
  {
   "cell_type": "code",
   "execution_count": 373,
   "id": "1bf61ddb",
   "metadata": {},
   "outputs": [],
   "source": [
    "search_loc=driver.find_element_by_xpath(\"//div[2][@class='filter-item']\")\n",
    "search_loc.click()"
   ]
  },
  {
   "cell_type": "code",
   "execution_count": 374,
   "id": "777aeacf",
   "metadata": {},
   "outputs": [],
   "source": [
    "location=driver.find_element_by_xpath(\"//input[@placeholder='Search locations']\")\n",
    "location.send_keys(\"Noida\")"
   ]
  },
  {
   "cell_type": "code",
   "execution_count": 376,
   "id": "7a87c9e5",
   "metadata": {},
   "outputs": [],
   "source": [
    "loc_btn=driver.find_element_by_xpath(\"//input[@id='location_Noida']\")\n",
    "loc_btn.click()"
   ]
  },
  {
   "cell_type": "code",
   "execution_count": 380,
   "id": "6209c0eb",
   "metadata": {},
   "outputs": [],
   "source": [
    "company_name=driver.find_elements_by_xpath(\"//p[@class='company body-medium']\")\n",
    "\n",
    "company_rating=driver.find_elements_by_xpath(\"//span[@class='body-small']\")\n",
    "\n",
    "daysago=driver.find_elements_by_xpath(\"//div[@class='other-info']/span[1]\")"
   ]
  },
  {
   "cell_type": "code",
   "execution_count": 381,
   "id": "2ace848c",
   "metadata": {},
   "outputs": [
    {
     "data": {
      "text/plain": [
       "['Ameriprise Financial',\n",
       " 'Paytm',\n",
       " 'Jubilant Foodworks Limited',\n",
       " 'CHT Sapiense',\n",
       " 'CHT Sapiense',\n",
       " 'GI Group',\n",
       " 'GI Group',\n",
       " 'GI Group',\n",
       " 'RMS Risk Management Solutions',\n",
       " 'Paytm']"
      ]
     },
     "execution_count": 381,
     "metadata": {},
     "output_type": "execute_result"
    }
   ],
   "source": [
    "name=[]\n",
    "for i in company_name:\n",
    "    name.append(i.text)\n",
    "name"
   ]
  },
  {
   "cell_type": "code",
   "execution_count": 382,
   "id": "54a5daa1",
   "metadata": {},
   "outputs": [
    {
     "data": {
      "text/plain": [
       "['4.0', '3.7', '3.9', '3.7', '3.7', '4.1', '4.1', '4.1', '3.5', '3.7']"
      ]
     },
     "execution_count": 382,
     "metadata": {},
     "output_type": "execute_result"
    }
   ],
   "source": [
    "rating=[]\n",
    "for i in company_rating:\n",
    "        rating.append(i.text)\n",
    "rating"
   ]
  },
  {
   "cell_type": "code",
   "execution_count": 383,
   "id": "d4d69f77",
   "metadata": {},
   "outputs": [
    {
     "data": {
      "text/plain": [
       "['1d ago',\n",
       " '7d ago',\n",
       " '24d ago',\n",
       " '8d ago',\n",
       " '9d ago',\n",
       " '20d ago',\n",
       " '20d ago',\n",
       " '20d ago',\n",
       " '2d ago',\n",
       " '28d ago']"
      ]
     },
     "execution_count": 383,
     "metadata": {},
     "output_type": "execute_result"
    }
   ],
   "source": [
    "days_ago=[]\n",
    "for i in daysago:\n",
    "    days_ago.append(i.text)\n",
    "days_ago"
   ]
  },
  {
   "cell_type": "code",
   "execution_count": 386,
   "id": "8a8afcae",
   "metadata": {},
   "outputs": [
    {
     "data": {
      "text/html": [
       "<div>\n",
       "<style scoped>\n",
       "    .dataframe tbody tr th:only-of-type {\n",
       "        vertical-align: middle;\n",
       "    }\n",
       "\n",
       "    .dataframe tbody tr th {\n",
       "        vertical-align: top;\n",
       "    }\n",
       "\n",
       "    .dataframe thead th {\n",
       "        text-align: right;\n",
       "    }\n",
       "</style>\n",
       "<table border=\"1\" class=\"dataframe\">\n",
       "  <thead>\n",
       "    <tr style=\"text-align: right;\">\n",
       "      <th></th>\n",
       "      <th>Company Name</th>\n",
       "      <th>Rating of the company</th>\n",
       "      <th>No. of days job posted</th>\n",
       "    </tr>\n",
       "  </thead>\n",
       "  <tbody>\n",
       "    <tr>\n",
       "      <th>0</th>\n",
       "      <td>Ameriprise Financial</td>\n",
       "      <td>4.0</td>\n",
       "      <td>1d ago</td>\n",
       "    </tr>\n",
       "    <tr>\n",
       "      <th>1</th>\n",
       "      <td>Paytm</td>\n",
       "      <td>3.7</td>\n",
       "      <td>7d ago</td>\n",
       "    </tr>\n",
       "    <tr>\n",
       "      <th>2</th>\n",
       "      <td>Jubilant Foodworks Limited</td>\n",
       "      <td>3.9</td>\n",
       "      <td>24d ago</td>\n",
       "    </tr>\n",
       "    <tr>\n",
       "      <th>3</th>\n",
       "      <td>CHT Sapiense</td>\n",
       "      <td>3.7</td>\n",
       "      <td>8d ago</td>\n",
       "    </tr>\n",
       "    <tr>\n",
       "      <th>4</th>\n",
       "      <td>CHT Sapiense</td>\n",
       "      <td>3.7</td>\n",
       "      <td>9d ago</td>\n",
       "    </tr>\n",
       "    <tr>\n",
       "      <th>5</th>\n",
       "      <td>GI Group</td>\n",
       "      <td>4.1</td>\n",
       "      <td>20d ago</td>\n",
       "    </tr>\n",
       "    <tr>\n",
       "      <th>6</th>\n",
       "      <td>GI Group</td>\n",
       "      <td>4.1</td>\n",
       "      <td>20d ago</td>\n",
       "    </tr>\n",
       "    <tr>\n",
       "      <th>7</th>\n",
       "      <td>GI Group</td>\n",
       "      <td>4.1</td>\n",
       "      <td>20d ago</td>\n",
       "    </tr>\n",
       "    <tr>\n",
       "      <th>8</th>\n",
       "      <td>RMS Risk Management Solutions</td>\n",
       "      <td>3.5</td>\n",
       "      <td>2d ago</td>\n",
       "    </tr>\n",
       "    <tr>\n",
       "      <th>9</th>\n",
       "      <td>Paytm</td>\n",
       "      <td>3.7</td>\n",
       "      <td>28d ago</td>\n",
       "    </tr>\n",
       "  </tbody>\n",
       "</table>\n",
       "</div>"
      ],
      "text/plain": [
       "                    Company Name Rating of the company No. of days job posted\n",
       "0           Ameriprise Financial                   4.0                 1d ago\n",
       "1                          Paytm                   3.7                 7d ago\n",
       "2     Jubilant Foodworks Limited                   3.9                24d ago\n",
       "3                   CHT Sapiense                   3.7                 8d ago\n",
       "4                   CHT Sapiense                   3.7                 9d ago\n",
       "5                       GI Group                   4.1                20d ago\n",
       "6                       GI Group                   4.1                20d ago\n",
       "7                       GI Group                   4.1                20d ago\n",
       "8  RMS Risk Management Solutions                   3.5                 2d ago\n",
       "9                          Paytm                   3.7                28d ago"
      ]
     },
     "execution_count": 386,
     "metadata": {},
     "output_type": "execute_result"
    }
   ],
   "source": [
    "df=pd.DataFrame({'Company Name':name,'Rating of the company':rating,'No. of days job posted':days_ago})\n",
    "df"
   ]
  },
  {
   "cell_type": "markdown",
   "id": "8f8a3f0f",
   "metadata": {},
   "source": [
    "###### Q10.  Write a python program to scrape the salary data for Data Scientist designation.You have to scrape Company name, Number of salaries, Average salary, Minsalary, Max Salary."
   ]
  },
  {
   "cell_type": "code",
   "execution_count": 354,
   "id": "3ec30ca3",
   "metadata": {},
   "outputs": [],
   "source": [
    "driver.get(\"https://www.ambitionbox.com/\")"
   ]
  },
  {
   "cell_type": "code",
   "execution_count": 355,
   "id": "ae5f2c52",
   "metadata": {},
   "outputs": [],
   "source": [
    "salaries=driver.find_element_by_xpath(\"//a[@class='link salaries']\")\n",
    "salaries.click()"
   ]
  },
  {
   "cell_type": "code",
   "execution_count": 356,
   "id": "c19369b6",
   "metadata": {},
   "outputs": [],
   "source": [
    "srch_jp=driver.find_element_by_xpath(\"//input[@class='tt-input']\")\n",
    "srch_jp.send_keys(\"Data Scientist\")"
   ]
  },
  {
   "cell_type": "code",
   "execution_count": 357,
   "id": "b953d5cc",
   "metadata": {},
   "outputs": [],
   "source": [
    "dept=driver.find_element_by_xpath(\"//i[1][@class='icon-search']\")\n",
    "dept.click()"
   ]
  },
  {
   "cell_type": "code",
   "execution_count": 358,
   "id": "d3d15bb4",
   "metadata": {},
   "outputs": [],
   "source": [
    "search_btn=driver.find_element_by_xpath(\"//div[@class='ab_chip active sbold-list-header']\")\n",
    "search_btn.click()"
   ]
  },
  {
   "cell_type": "code",
   "execution_count": 359,
   "id": "1fc18b9d",
   "metadata": {},
   "outputs": [],
   "source": [
    "Companies=driver.find_elements_by_xpath(\"//div[@class='name']/a\")"
   ]
  },
  {
   "cell_type": "code",
   "execution_count": 360,
   "id": "20eab3d3",
   "metadata": {},
   "outputs": [
    {
     "data": {
      "text/plain": [
       "['Tekion',\n",
       " 'Microsoft Corporation',\n",
       " 'Goldman Sachs',\n",
       " 'Flipkart',\n",
       " 'Amazon',\n",
       " 'Arcesium',\n",
       " 'PayPal',\n",
       " 'Servicenow Software Development India',\n",
       " 'Walmart',\n",
       " 'ServiceNow']"
      ]
     },
     "execution_count": 360,
     "metadata": {},
     "output_type": "execute_result"
    }
   ],
   "source": [
    "Company_name=[]\n",
    "for i in Companies:\n",
    "    Company_name.append(i.text)\n",
    "Company_name"
   ]
  },
  {
   "cell_type": "code",
   "execution_count": 361,
   "id": "411f59da",
   "metadata": {},
   "outputs": [
    {
     "data": {
      "text/plain": [
       "['based on 10 salaries',\n",
       " 'based on 224 salaries',\n",
       " 'based on 11 salaries',\n",
       " 'based on 54 salaries',\n",
       " 'based on 85 salaries',\n",
       " 'based on 37 salaries',\n",
       " 'based on 12 salaries',\n",
       " 'based on 27 salaries',\n",
       " 'based on 79 salaries',\n",
       " 'based on 16 salaries']"
      ]
     },
     "execution_count": 361,
     "metadata": {},
     "output_type": "execute_result"
    }
   ],
   "source": [
    "sal_rec=driver.find_elements_by_xpath(\"//div[@class='name']/span\")\n",
    "rec=[]\n",
    "for i in sal_rec:\n",
    "    rec.append(i.text)\n",
    "rec"
   ]
  },
  {
   "cell_type": "code",
   "execution_count": 362,
   "id": "60f89fd2",
   "metadata": {},
   "outputs": [
    {
     "data": {
      "text/plain": [
       "['₹ 14.0L',\n",
       " '₹ 12.0L',\n",
       " '₹ 16.0L',\n",
       " '₹ 7.0L',\n",
       " '₹ 8.0L',\n",
       " '₹ 12.0L',\n",
       " '₹ 12.0L',\n",
       " '₹ 12.0L',\n",
       " '₹ 10.0L',\n",
       " '₹ 11.2L']"
      ]
     },
     "execution_count": 362,
     "metadata": {},
     "output_type": "execute_result"
    }
   ],
   "source": [
    "sal_min=driver.find_elements_by_xpath(\"//div[@class='salary-values']/div[1]\")\n",
    "min_sal=[]\n",
    "for i in sal_min:\n",
    "    min_sal.append(i.text)\n",
    "min_sal"
   ]
  },
  {
   "cell_type": "code",
   "execution_count": 363,
   "id": "1f81b113",
   "metadata": {},
   "outputs": [
    {
     "data": {
      "text/plain": [
       "['₹ 32.0L',\n",
       " '₹ 45.0L',\n",
       " '₹ 30.0L',\n",
       " '₹ 30.0L',\n",
       " '₹ 41.5L',\n",
       " '₹ 30.0L',\n",
       " '₹ 25.0L',\n",
       " '₹ 25.0L',\n",
       " '₹ 32.0L',\n",
       " '₹ 23.0L']"
      ]
     },
     "execution_count": 363,
     "metadata": {},
     "output_type": "execute_result"
    }
   ],
   "source": [
    "sal_max=driver.find_elements_by_xpath(\"//div[@class='salary-values']/div[2]\")\n",
    "max_sal=[]\n",
    "for i in sal_max:\n",
    "    max_sal.append(i.text)\n",
    "max_sal"
   ]
  },
  {
   "cell_type": "code",
   "execution_count": 364,
   "id": "2635e6cb",
   "metadata": {},
   "outputs": [
    {
     "data": {
      "text/plain": [
       "['₹ 23.3L',\n",
       " '₹ 22.4L',\n",
       " '₹ 21.9L',\n",
       " '₹ 20.6L',\n",
       " '₹ 19.4L',\n",
       " '₹ 18.5L',\n",
       " '₹ 18.4L',\n",
       " '₹ 18.3L',\n",
       " '₹ 17.9L',\n",
       " '₹ 17.8L']"
      ]
     },
     "execution_count": 364,
     "metadata": {},
     "output_type": "execute_result"
    }
   ],
   "source": [
    "sal_avg=driver.find_elements_by_xpath(\"//div[@class='average-indicator-wrapper']/p\")\n",
    "avg=[]\n",
    "for i in sal_avg:\n",
    "    avg.append(i.text)\n",
    "avg"
   ]
  },
  {
   "cell_type": "code",
   "execution_count": 365,
   "id": "5dab8a65",
   "metadata": {},
   "outputs": [
    {
     "data": {
      "text/plain": [
       "['4 yrs exp',\n",
       " '1-4 yrs exp',\n",
       " '2 yrs exp',\n",
       " '1-4 yrs exp',\n",
       " '1-4 yrs exp',\n",
       " '1 yr exp',\n",
       " '1 yr exp',\n",
       " '2-3 yrs exp',\n",
       " '1-4 yrs exp',\n",
       " '3 yrs exp']"
      ]
     },
     "execution_count": 365,
     "metadata": {},
     "output_type": "execute_result"
    }
   ],
   "source": [
    "sal_exp=driver.find_elements_by_xpath(\"//div[@class='salaries sbold-list-header']\")\n",
    "exp=[]\n",
    "for i in sal_exp:\n",
    "#     i1=i.text.split('\\n')\n",
    "    exp.append(i.text.split('\\n')[2])\n",
    "exp"
   ]
  },
  {
   "cell_type": "code",
   "execution_count": 366,
   "id": "3df4a799",
   "metadata": {},
   "outputs": [
    {
     "data": {
      "text/html": [
       "<div>\n",
       "<style scoped>\n",
       "    .dataframe tbody tr th:only-of-type {\n",
       "        vertical-align: middle;\n",
       "    }\n",
       "\n",
       "    .dataframe tbody tr th {\n",
       "        vertical-align: top;\n",
       "    }\n",
       "\n",
       "    .dataframe thead th {\n",
       "        text-align: right;\n",
       "    }\n",
       "</style>\n",
       "<table border=\"1\" class=\"dataframe\">\n",
       "  <thead>\n",
       "    <tr style=\"text-align: right;\">\n",
       "      <th></th>\n",
       "      <th>Company Name</th>\n",
       "      <th>Salary Record</th>\n",
       "      <th>Experience</th>\n",
       "      <th>Min Sal</th>\n",
       "      <th>Avg Sal</th>\n",
       "      <th>Max Sal</th>\n",
       "    </tr>\n",
       "  </thead>\n",
       "  <tbody>\n",
       "    <tr>\n",
       "      <th>0</th>\n",
       "      <td>Tekion</td>\n",
       "      <td>based on 10 salaries</td>\n",
       "      <td>4 yrs exp</td>\n",
       "      <td>₹ 14.0L</td>\n",
       "      <td>₹ 23.3L</td>\n",
       "      <td>₹ 32.0L</td>\n",
       "    </tr>\n",
       "    <tr>\n",
       "      <th>1</th>\n",
       "      <td>Microsoft Corporation</td>\n",
       "      <td>based on 224 salaries</td>\n",
       "      <td>1-4 yrs exp</td>\n",
       "      <td>₹ 12.0L</td>\n",
       "      <td>₹ 22.4L</td>\n",
       "      <td>₹ 45.0L</td>\n",
       "    </tr>\n",
       "    <tr>\n",
       "      <th>2</th>\n",
       "      <td>Goldman Sachs</td>\n",
       "      <td>based on 11 salaries</td>\n",
       "      <td>2 yrs exp</td>\n",
       "      <td>₹ 16.0L</td>\n",
       "      <td>₹ 21.9L</td>\n",
       "      <td>₹ 30.0L</td>\n",
       "    </tr>\n",
       "    <tr>\n",
       "      <th>3</th>\n",
       "      <td>Flipkart</td>\n",
       "      <td>based on 54 salaries</td>\n",
       "      <td>1-4 yrs exp</td>\n",
       "      <td>₹ 7.0L</td>\n",
       "      <td>₹ 20.6L</td>\n",
       "      <td>₹ 30.0L</td>\n",
       "    </tr>\n",
       "    <tr>\n",
       "      <th>4</th>\n",
       "      <td>Amazon</td>\n",
       "      <td>based on 85 salaries</td>\n",
       "      <td>1-4 yrs exp</td>\n",
       "      <td>₹ 8.0L</td>\n",
       "      <td>₹ 19.4L</td>\n",
       "      <td>₹ 41.5L</td>\n",
       "    </tr>\n",
       "    <tr>\n",
       "      <th>5</th>\n",
       "      <td>Arcesium</td>\n",
       "      <td>based on 37 salaries</td>\n",
       "      <td>1 yr exp</td>\n",
       "      <td>₹ 12.0L</td>\n",
       "      <td>₹ 18.5L</td>\n",
       "      <td>₹ 30.0L</td>\n",
       "    </tr>\n",
       "    <tr>\n",
       "      <th>6</th>\n",
       "      <td>PayPal</td>\n",
       "      <td>based on 12 salaries</td>\n",
       "      <td>1 yr exp</td>\n",
       "      <td>₹ 12.0L</td>\n",
       "      <td>₹ 18.4L</td>\n",
       "      <td>₹ 25.0L</td>\n",
       "    </tr>\n",
       "    <tr>\n",
       "      <th>7</th>\n",
       "      <td>Servicenow Software Development India</td>\n",
       "      <td>based on 27 salaries</td>\n",
       "      <td>2-3 yrs exp</td>\n",
       "      <td>₹ 12.0L</td>\n",
       "      <td>₹ 18.3L</td>\n",
       "      <td>₹ 25.0L</td>\n",
       "    </tr>\n",
       "    <tr>\n",
       "      <th>8</th>\n",
       "      <td>Walmart</td>\n",
       "      <td>based on 79 salaries</td>\n",
       "      <td>1-4 yrs exp</td>\n",
       "      <td>₹ 10.0L</td>\n",
       "      <td>₹ 17.9L</td>\n",
       "      <td>₹ 32.0L</td>\n",
       "    </tr>\n",
       "    <tr>\n",
       "      <th>9</th>\n",
       "      <td>ServiceNow</td>\n",
       "      <td>based on 16 salaries</td>\n",
       "      <td>3 yrs exp</td>\n",
       "      <td>₹ 11.2L</td>\n",
       "      <td>₹ 17.8L</td>\n",
       "      <td>₹ 23.0L</td>\n",
       "    </tr>\n",
       "  </tbody>\n",
       "</table>\n",
       "</div>"
      ],
      "text/plain": [
       "                            Company Name          Salary Record   Experience  \\\n",
       "0                                 Tekion   based on 10 salaries    4 yrs exp   \n",
       "1                  Microsoft Corporation  based on 224 salaries  1-4 yrs exp   \n",
       "2                          Goldman Sachs   based on 11 salaries    2 yrs exp   \n",
       "3                               Flipkart   based on 54 salaries  1-4 yrs exp   \n",
       "4                                 Amazon   based on 85 salaries  1-4 yrs exp   \n",
       "5                               Arcesium   based on 37 salaries     1 yr exp   \n",
       "6                                 PayPal   based on 12 salaries     1 yr exp   \n",
       "7  Servicenow Software Development India   based on 27 salaries  2-3 yrs exp   \n",
       "8                                Walmart   based on 79 salaries  1-4 yrs exp   \n",
       "9                             ServiceNow   based on 16 salaries    3 yrs exp   \n",
       "\n",
       "   Min Sal  Avg Sal  Max Sal  \n",
       "0  ₹ 14.0L  ₹ 23.3L  ₹ 32.0L  \n",
       "1  ₹ 12.0L  ₹ 22.4L  ₹ 45.0L  \n",
       "2  ₹ 16.0L  ₹ 21.9L  ₹ 30.0L  \n",
       "3   ₹ 7.0L  ₹ 20.6L  ₹ 30.0L  \n",
       "4   ₹ 8.0L  ₹ 19.4L  ₹ 41.5L  \n",
       "5  ₹ 12.0L  ₹ 18.5L  ₹ 30.0L  \n",
       "6  ₹ 12.0L  ₹ 18.4L  ₹ 25.0L  \n",
       "7  ₹ 12.0L  ₹ 18.3L  ₹ 25.0L  \n",
       "8  ₹ 10.0L  ₹ 17.9L  ₹ 32.0L  \n",
       "9  ₹ 11.2L  ₹ 17.8L  ₹ 23.0L  "
      ]
     },
     "execution_count": 366,
     "metadata": {},
     "output_type": "execute_result"
    }
   ],
   "source": [
    "df1=pd.DataFrame({'Company Name':Company_name,'Salary Record':rec,'Experience':exp,'Min Sal':min_sal,'Avg Sal':avg,'Max Sal':max_sal})\n",
    "df1"
   ]
  },
  {
   "cell_type": "code",
   "execution_count": null,
   "id": "e6aa021b",
   "metadata": {},
   "outputs": [],
   "source": []
  },
  {
   "cell_type": "code",
   "execution_count": null,
   "id": "8702c274",
   "metadata": {},
   "outputs": [],
   "source": []
  },
  {
   "cell_type": "code",
   "execution_count": null,
   "id": "a69e5e18",
   "metadata": {},
   "outputs": [],
   "source": []
  }
 ],
 "metadata": {
  "kernelspec": {
   "display_name": "Python 3",
   "language": "python",
   "name": "python3"
  },
  "language_info": {
   "codemirror_mode": {
    "name": "ipython",
    "version": 3
   },
   "file_extension": ".py",
   "mimetype": "text/x-python",
   "name": "python",
   "nbconvert_exporter": "python",
   "pygments_lexer": "ipython3",
   "version": "3.8.8"
  }
 },
 "nbformat": 4,
 "nbformat_minor": 5
}
